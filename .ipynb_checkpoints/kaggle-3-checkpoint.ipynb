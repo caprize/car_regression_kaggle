{
  "cells": [
    {
      "cell_type": "code",
      "execution_count": 183,
      "metadata": {
        "tags": [],
        "id": "M-SpXYvH7C-z"
      },
      "outputs": [],
      "source": [
        "import pandas as pd\n",
        "import numpy as np\n",
        "import random\n",
        "from scipy import stats\n",
        "import seaborn as sns\n",
        "#import scikitplot as skplt\n",
        "import matplotlib.pyplot as plt\n",
        "%matplotlib inline\n",
        "\n",
        "from sklearn.model_selection import train_test_split\n",
        "\n",
        "np.random.seed(42)\n",
        "random.seed(42)"
      ]
    },
    {
      "cell_type": "code",
      "source": [
        "!pip install catboost"
      ],
      "metadata": {
        "colab": {
          "base_uri": "https://localhost:8080/"
        },
        "id": "aRpgWCxG7HWm",
        "outputId": "93130858-bbe9-4f73-890c-20c6498f1a8d"
      },
      "execution_count": 2,
      "outputs": [
        {
          "output_type": "stream",
          "name": "stdout",
          "text": [
            "Collecting catboost\n",
            "  Downloading catboost-1.2.7-cp310-cp310-manylinux2014_x86_64.whl.metadata (1.2 kB)\n",
            "Requirement already satisfied: graphviz in /usr/local/lib/python3.10/dist-packages (from catboost) (0.20.3)\n",
            "Requirement already satisfied: matplotlib in /usr/local/lib/python3.10/dist-packages (from catboost) (3.8.0)\n",
            "Requirement already satisfied: numpy<2.0,>=1.16.0 in /usr/local/lib/python3.10/dist-packages (from catboost) (1.26.4)\n",
            "Requirement already satisfied: pandas>=0.24 in /usr/local/lib/python3.10/dist-packages (from catboost) (2.2.2)\n",
            "Requirement already satisfied: scipy in /usr/local/lib/python3.10/dist-packages (from catboost) (1.13.1)\n",
            "Requirement already satisfied: plotly in /usr/local/lib/python3.10/dist-packages (from catboost) (5.24.1)\n",
            "Requirement already satisfied: six in /usr/local/lib/python3.10/dist-packages (from catboost) (1.16.0)\n",
            "Requirement already satisfied: python-dateutil>=2.8.2 in /usr/local/lib/python3.10/dist-packages (from pandas>=0.24->catboost) (2.8.2)\n",
            "Requirement already satisfied: pytz>=2020.1 in /usr/local/lib/python3.10/dist-packages (from pandas>=0.24->catboost) (2024.2)\n",
            "Requirement already satisfied: tzdata>=2022.7 in /usr/local/lib/python3.10/dist-packages (from pandas>=0.24->catboost) (2024.2)\n",
            "Requirement already satisfied: contourpy>=1.0.1 in /usr/local/lib/python3.10/dist-packages (from matplotlib->catboost) (1.3.1)\n",
            "Requirement already satisfied: cycler>=0.10 in /usr/local/lib/python3.10/dist-packages (from matplotlib->catboost) (0.12.1)\n",
            "Requirement already satisfied: fonttools>=4.22.0 in /usr/local/lib/python3.10/dist-packages (from matplotlib->catboost) (4.55.0)\n",
            "Requirement already satisfied: kiwisolver>=1.0.1 in /usr/local/lib/python3.10/dist-packages (from matplotlib->catboost) (1.4.7)\n",
            "Requirement already satisfied: packaging>=20.0 in /usr/local/lib/python3.10/dist-packages (from matplotlib->catboost) (24.2)\n",
            "Requirement already satisfied: pillow>=6.2.0 in /usr/local/lib/python3.10/dist-packages (from matplotlib->catboost) (11.0.0)\n",
            "Requirement already satisfied: pyparsing>=2.3.1 in /usr/local/lib/python3.10/dist-packages (from matplotlib->catboost) (3.2.0)\n",
            "Requirement already satisfied: tenacity>=6.2.0 in /usr/local/lib/python3.10/dist-packages (from plotly->catboost) (9.0.0)\n",
            "Downloading catboost-1.2.7-cp310-cp310-manylinux2014_x86_64.whl (98.7 MB)\n",
            "\u001b[2K   \u001b[90m━━━━━━━━━━━━━━━━━━━━━━━━━━━━━━━━━━━━━━━━\u001b[0m \u001b[32m98.7/98.7 MB\u001b[0m \u001b[31m7.2 MB/s\u001b[0m eta \u001b[36m0:00:00\u001b[0m\n",
            "\u001b[?25hInstalling collected packages: catboost\n",
            "Successfully installed catboost-1.2.7\n"
          ]
        }
      ]
    },
    {
      "cell_type": "code",
      "source": [
        "!pip install optuna"
      ],
      "metadata": {
        "colab": {
          "base_uri": "https://localhost:8080/"
        },
        "id": "RaTdBkaO7MkS",
        "outputId": "b17f9308-4ad6-4e27-956d-00be61f34911"
      },
      "execution_count": 3,
      "outputs": [
        {
          "output_type": "stream",
          "name": "stdout",
          "text": [
            "Collecting optuna\n",
            "  Downloading optuna-4.1.0-py3-none-any.whl.metadata (16 kB)\n",
            "Collecting alembic>=1.5.0 (from optuna)\n",
            "  Downloading alembic-1.14.0-py3-none-any.whl.metadata (7.4 kB)\n",
            "Collecting colorlog (from optuna)\n",
            "  Downloading colorlog-6.9.0-py3-none-any.whl.metadata (10 kB)\n",
            "Requirement already satisfied: numpy in /usr/local/lib/python3.10/dist-packages (from optuna) (1.26.4)\n",
            "Requirement already satisfied: packaging>=20.0 in /usr/local/lib/python3.10/dist-packages (from optuna) (24.2)\n",
            "Requirement already satisfied: sqlalchemy>=1.4.2 in /usr/local/lib/python3.10/dist-packages (from optuna) (2.0.36)\n",
            "Requirement already satisfied: tqdm in /usr/local/lib/python3.10/dist-packages (from optuna) (4.66.6)\n",
            "Requirement already satisfied: PyYAML in /usr/local/lib/python3.10/dist-packages (from optuna) (6.0.2)\n",
            "Collecting Mako (from alembic>=1.5.0->optuna)\n",
            "  Downloading Mako-1.3.6-py3-none-any.whl.metadata (2.9 kB)\n",
            "Requirement already satisfied: typing-extensions>=4 in /usr/local/lib/python3.10/dist-packages (from alembic>=1.5.0->optuna) (4.12.2)\n",
            "Requirement already satisfied: greenlet!=0.4.17 in /usr/local/lib/python3.10/dist-packages (from sqlalchemy>=1.4.2->optuna) (3.1.1)\n",
            "Requirement already satisfied: MarkupSafe>=0.9.2 in /usr/local/lib/python3.10/dist-packages (from Mako->alembic>=1.5.0->optuna) (3.0.2)\n",
            "Downloading optuna-4.1.0-py3-none-any.whl (364 kB)\n",
            "\u001b[2K   \u001b[90m━━━━━━━━━━━━━━━━━━━━━━━━━━━━━━━━━━━━━━━━\u001b[0m \u001b[32m364.4/364.4 kB\u001b[0m \u001b[31m29.2 MB/s\u001b[0m eta \u001b[36m0:00:00\u001b[0m\n",
            "\u001b[?25hDownloading alembic-1.14.0-py3-none-any.whl (233 kB)\n",
            "\u001b[2K   \u001b[90m━━━━━━━━━━━━━━━━━━━━━━━━━━━━━━━━━━━━━━━━\u001b[0m \u001b[32m233.5/233.5 kB\u001b[0m \u001b[31m22.1 MB/s\u001b[0m eta \u001b[36m0:00:00\u001b[0m\n",
            "\u001b[?25hDownloading colorlog-6.9.0-py3-none-any.whl (11 kB)\n",
            "Downloading Mako-1.3.6-py3-none-any.whl (78 kB)\n",
            "\u001b[2K   \u001b[90m━━━━━━━━━━━━━━━━━━━━━━━━━━━━━━━━━━━━━━━━\u001b[0m \u001b[32m78.6/78.6 kB\u001b[0m \u001b[31m8.0 MB/s\u001b[0m eta \u001b[36m0:00:00\u001b[0m\n",
            "\u001b[?25hInstalling collected packages: Mako, colorlog, alembic, optuna\n",
            "Successfully installed Mako-1.3.6 alembic-1.14.0 colorlog-6.9.0 optuna-4.1.0\n"
          ]
        }
      ]
    },
    {
      "cell_type": "code",
      "execution_count": 184,
      "metadata": {
        "tags": [],
        "id": "OuocC3ws7C-2"
      },
      "outputs": [],
      "source": [
        "import warnings\n",
        "warnings.filterwarnings('ignore')"
      ]
    },
    {
      "cell_type": "markdown",
      "metadata": {
        "id": "CRndGV2E7C-3"
      },
      "source": [
        "# EDA"
      ]
    },
    {
      "cell_type": "code",
      "execution_count": 185,
      "metadata": {
        "tags": [],
        "id": "xILw4pt07C-4"
      },
      "outputs": [],
      "source": [
        "train = pd.read_csv(\"train.csv\")"
      ]
    },
    {
      "cell_type": "markdown",
      "metadata": {
        "id": "K5VoF-mv7C-4"
      },
      "source": [
        "## Смотрим на данные"
      ]
    },
    {
      "cell_type": "code",
      "execution_count": 186,
      "metadata": {
        "tags": [],
        "colab": {
          "base_uri": "https://localhost:8080/"
        },
        "id": "pLuEcRu57C-4",
        "outputId": "8bd9d682-6b9e-40df-dca7-590d93c14f22"
      },
      "outputs": [
        {
          "output_type": "execute_result",
          "data": {
            "text/plain": [
              "Index(['brand', 'model', 'fuel_type', 'engine', 'transmission', 'ext_col',\n",
              "       'int_col', 'accident', 'clean_title'],\n",
              "      dtype='object')"
            ]
          },
          "metadata": {},
          "execution_count": 186
        }
      ],
      "source": [
        "numerical_cols = train.select_dtypes(include = ['int64', 'float64']).columns\n",
        "categorical_cols = train.select_dtypes(include = ['object']).columns\n",
        "categorical_cols"
      ]
    },
    {
      "cell_type": "code",
      "execution_count": 187,
      "metadata": {
        "tags": [],
        "id": "AQQPPKf07C-5"
      },
      "outputs": [],
      "source": [
        "from sklearn.impute import SimpleImputer\n",
        "from sklearn.preprocessing import OneHotEncoder\n",
        "from sklearn.compose import ColumnTransformer\n",
        "from sklearn.pipeline import Pipeline\n",
        "\n",
        "numerical_transformer = SimpleImputer(strategy='median')\n",
        "categorical_transformer = Pipeline(steps = [\n",
        "    ('imputer', SimpleImputer(strategy='constant', fill_value= '')),\n",
        "    ('onehot', OneHotEncoder(handle_unknown='ignore'))\n",
        "])\n",
        "\n",
        "preprocessor = ColumnTransformer(\n",
        "    transformers = [\n",
        "        ('num',numerical_transformer, numerical_cols),\n",
        "        ('cat',categorical_transformer,categorical_cols)\n",
        "    ])"
      ]
    },
    {
      "cell_type": "markdown",
      "metadata": {
        "id": "Q8fifAef7C-5"
      },
      "source": [
        "## Целевая переменная"
      ]
    },
    {
      "cell_type": "code",
      "execution_count": 188,
      "metadata": {
        "colab": {
          "base_uri": "https://localhost:8080/",
          "height": 506
        },
        "id": "koKPv3Xd7C-6",
        "outputId": "8da61066-80c8-4950-bdf3-59cedb15aa3b"
      },
      "outputs": [
        {
          "output_type": "display_data",
          "data": {
            "text/plain": [
              "<Figure size 500x500 with 1 Axes>"
            ],
            "image/png": "[encoded data removed]"
          },
          "metadata": {}
        }
      ],
      "source": [
        "train[\"price\"] = np.log(train[\"price\"])\n",
        "sns.displot(train[\"price\"] , color=\"skyblue\", label=\"Symdol Length\");"
      ]
    },
    {
      "cell_type": "markdown",
      "metadata": {
        "id": "rpbDmDs47C-6"
      },
      "source": [
        "## Замена `NaN`-ов на `mode`"
      ]
    },
    {
      "cell_type": "code",
      "execution_count": 189,
      "metadata": {
        "tags": [],
        "id": "Y_m-FwLm7C-6"
      },
      "outputs": [],
      "source": [
        "train.accident = train.accident.fillna('None reported')\n",
        "\n",
        "train.fuel_type = train.fuel_type.fillna(train.fuel_type.mode(dropna=False)[0])\n",
        "\n",
        "train.clean_title = train.clean_title.fillna(train.clean_title.mode(dropna=False)[0])"
      ]
    },
    {
      "cell_type": "code",
      "execution_count": null,
      "metadata": {
        "tags": [],
        "colab": {
          "base_uri": "https://localhost:8080/",
          "height": 486
        },
        "id": "IFG0N0Yj7C-7",
        "outputId": "3be6131b-071e-41e6-b2ce-9080ba6005f9"
      },
      "outputs": [
        {
          "output_type": "execute_result",
          "data": {
            "text/plain": [
              "id              0\n",
              "brand           0\n",
              "model           0\n",
              "model_year      0\n",
              "milage          0\n",
              "fuel_type       0\n",
              "engine          0\n",
              "transmission    0\n",
              "ext_col         0\n",
              "int_col         0\n",
              "accident        0\n",
              "clean_title     0\n",
              "price           0\n",
              "dtype: int64"
            ],
            "text/html": [
              "<div>\n",
              "<style scoped>\n",
              "    .dataframe tbody tr th:only-of-type {\n",
              "        vertical-align: middle;\n",
              "    }\n",
              "\n",
              "    .dataframe tbody tr th {\n",
              "        vertical-align: top;\n",
              "    }\n",
              "\n",
              "    .dataframe thead th {\n",
              "        text-align: right;\n",
              "    }\n",
              "</style>\n",
              "<table border=\"1\" class=\"dataframe\">\n",
              "  <thead>\n",
              "    <tr style=\"text-align: right;\">\n",
              "      <th></th>\n",
              "      <th>0</th>\n",
              "    </tr>\n",
              "  </thead>\n",
              "  <tbody>\n",
              "    <tr>\n",
              "      <th>id</th>\n",
              "      <td>0</td>\n",
              "    </tr>\n",
              "    <tr>\n",
              "      <th>brand</th>\n",
              "      <td>0</td>\n",
              "    </tr>\n",
              "    <tr>\n",
              "      <th>model</th>\n",
              "      <td>0</td>\n",
              "    </tr>\n",
              "    <tr>\n",
              "      <th>model_year</th>\n",
              "      <td>0</td>\n",
              "    </tr>\n",
              "    <tr>\n",
              "      <th>milage</th>\n",
              "      <td>0</td>\n",
              "    </tr>\n",
              "    <tr>\n",
              "      <th>fuel_type</th>\n",
              "      <td>0</td>\n",
              "    </tr>\n",
              "    <tr>\n",
              "      <th>engine</th>\n",
              "      <td>0</td>\n",
              "    </tr>\n",
              "    <tr>\n",
              "      <th>transmission</th>\n",
              "      <td>0</td>\n",
              "    </tr>\n",
              "    <tr>\n",
              "      <th>ext_col</th>\n",
              "      <td>0</td>\n",
              "    </tr>\n",
              "    <tr>\n",
              "      <th>int_col</th>\n",
              "      <td>0</td>\n",
              "    </tr>\n",
              "    <tr>\n",
              "      <th>accident</th>\n",
              "      <td>0</td>\n",
              "    </tr>\n",
              "    <tr>\n",
              "      <th>clean_title</th>\n",
              "      <td>0</td>\n",
              "    </tr>\n",
              "    <tr>\n",
              "      <th>price</th>\n",
              "      <td>0</td>\n",
              "    </tr>\n",
              "  </tbody>\n",
              "</table>\n",
              "</div><br><label><b>dtype:</b> int64</label>"
            ]
          },
          "metadata": {},
          "execution_count": 12
        }
      ],
      "source": [
        "train.isna().sum()"
      ]
    },
    {
      "cell_type": "markdown",
      "metadata": {
        "id": "2aEYOCi47C-7"
      },
      "source": [
        "## Генерация новых фич\n"
      ]
    },
    {
      "cell_type": "code",
      "execution_count": 190,
      "metadata": {
        "tags": [],
        "id": "foDMBkhU7C-7"
      },
      "outputs": [],
      "source": [
        "def categorize_year(year):\n",
        "    if 1992 <= year <= 1997:\n",
        "        return 1\n",
        "    elif year <= 1991:\n",
        "        return -1\n",
        "    elif 1996 <= year <= 2004:\n",
        "        return 2\n",
        "    elif 2006 <= year <= 2012:\n",
        "        return 2\n",
        "    elif year == 2005:\n",
        "        return 3\n",
        "    else:\n",
        "        return 0\n",
        "\n",
        "train['year_category'] = train['model_year'].apply(categorize_year)"
      ]
    },
    {
      "cell_type": "code",
      "execution_count": 191,
      "metadata": {
        "tags": [],
        "id": "ZYWfGjYp7C-7"
      },
      "outputs": [],
      "source": [
        "average_prices_brand = train.groupby('brand')['price'].mean().reset_index()\n",
        "prem_car = ['Alfa',\n",
        " 'Aston',\n",
        " 'Audi',\n",
        " 'BMW',\n",
        " 'Bentley',\n",
        " 'Bugatti',\n",
        " 'Cadillac',\n",
        " 'Chevrolet',\n",
        " 'Ferrari',\n",
        " 'Ford',\n",
        " 'Genesis',\n",
        " 'Jaguar',\n",
        " 'Lamborghini',\n",
        " 'Land',\n",
        " 'Lucid',\n",
        " 'Maserati',\n",
        " 'Maybach',\n",
        " 'McLaren',\n",
        " 'Mercedes-Benz',\n",
        " 'Polestar',\n",
        " 'Porsche',\n",
        " 'RAM',\n",
        " 'Rivian',\n",
        " 'Rolls-Royce',\n",
        " 'Tesla']\n",
        "\n",
        "def categorize_brand(brand):\n",
        "    if brand in prem_car:\n",
        "        return 1\n",
        "    else:\n",
        "        return 0\n",
        "\n",
        "train['brand_category'] = train['brand'].apply(categorize_brand)"
      ]
    },
    {
      "cell_type": "code",
      "execution_count": 192,
      "metadata": {
        "tags": [],
        "id": "gseveaRs7C-7"
      },
      "outputs": [],
      "source": [
        "average_prices_ext_col = train.groupby('ext_col')['price'].mean().reset_index()\n",
        "average_prices_model = train.groupby('model')['price'].mean().reset_index()\n",
        "\n",
        "list(average_prices_model[average_prices_model['price'] > 100000]['model'])\n",
        "prem_models = ['3500 Tradesman',\n",
        " '488 GTB Base',\n",
        " '500e Battery Electric',\n",
        " '570S Base',\n",
        " '570S Spider',\n",
        " '718 Cayman GTS',\n",
        " '720S Performance',\n",
        " '812 Superfast Base',\n",
        " '911 Carrera 4 GTS',\n",
        " '911 Carrera GTS',\n",
        " '911 GT2 RS',\n",
        " '911 GT3',\n",
        " '911 GT3 RS',\n",
        " '911 R',\n",
        " '911 Turbo',\n",
        " '911 Turbo Cabriolet',\n",
        " '911 Turbo S',\n",
        " 'AMG E 53 4MATIC',\n",
        " 'AMG GLS 63 4MATIC',\n",
        " 'AMG GT AMG GT S',\n",
        " 'Aventador LP700-4',\n",
        " 'Aventador LP750-4 Superveloce',\n",
        " 'Aventador S Base',\n",
        " 'Aventador SVJ Base',\n",
        " 'Bentayga Activity Edition',\n",
        " 'Bentayga Azure First Edition',\n",
        " 'Bentayga Onyx Edition',\n",
        " 'Bentayga S',\n",
        " 'Bentayga Speed',\n",
        " 'Bentayga V8',\n",
        " 'Bronco Raptor',\n",
        " 'CT5-V Blackwing',\n",
        " 'Carrera GT Base',\n",
        " 'Cayman GTS',\n",
        " 'Continental GT GT Speed',\n",
        " 'Continental GT Speed',\n",
        " 'Continental GT V8',\n",
        " 'Continental GT V8 First Edition',\n",
        " 'Continental GT V8 S',\n",
        " 'Cullinan',\n",
        " 'DeVille Base',\n",
        " 'Escalade Sport',\n",
        " 'F12berlinetta Base',\n",
        " 'FF Base',\n",
        " 'Flying Spur V8',\n",
        " 'GT',\n",
        " 'GTC4Lusso T',\n",
        " 'Gallardo LP570-4 Superleggera',\n",
        " 'Gallardo SE',\n",
        " 'Ghost Base',\n",
        " 'Grecale Modena',\n",
        " 'Huracan EVO Base',\n",
        " 'Huracan EVO Coupe',\n",
        " 'Huracan LP580-2',\n",
        " 'Huracan LP580-2S',\n",
        " 'Huracan LP610-4',\n",
        " 'Huracan Tecnica Coupe',\n",
        " 'Levante GTS',\n",
        " 'M8 Competition',\n",
        " 'M8 Gran Coupe Competition',\n",
        " 'MC20 Base',\n",
        " 'Martin DB7 Vantage Volante',\n",
        " 'Martin DBS Superleggera',\n",
        " 'Martin DBX Base',\n",
        " 'Maybach S 580 4MATIC',\n",
        " 'Murcielago Base',\n",
        " 'Phantom',\n",
        " 'Phantom Drophead Coupe Drophead',\n",
        " 'Pilot Elite',\n",
        " 'R8 5.2 V10',\n",
        " 'R8 5.2 V10 performance',\n",
        " 'RS 7 4.0T',\n",
        " 'RS 7 4.0T quattro',\n",
        " 'RS Q8 4.0T',\n",
        " 'RS Q8 4.0T quattro',\n",
        " 'Roma Base',\n",
        " 'Rover LR4 Lux',\n",
        " 'Rover Range Rover P525 HSE SWB',\n",
        " 'Rover Range Rover P530 SE',\n",
        " 'Rover Range Rover P530 SE LWB 7 Seat',\n",
        " 'Rover Range Rover P530 SE SWB',\n",
        " 'S-Class S 580 4MATIC',\n",
        " 'S4 Base',\n",
        " 'SQ7 4.0T',\n",
        " 'Shelby GT500 Base',\n",
        " 'Sierra 1500 SLE1 Extended Cab',\n",
        " 'Silverado 1500 Custom Trail Boss',\n",
        " 'Taycan Turbo',\n",
        " 'Urus Base',\n",
        " 'Urus Pearl Capsule',\n",
        " 'Veyron 16.4 Grand Sport',\n",
        " 'Wraith Base']\n",
        "\n",
        "\n",
        "def categorize_model(model):\n",
        "    if model in prem_models:\n",
        "        return 1\n",
        "    else:\n",
        "        return 0\n",
        "\n",
        "train['model_category'] = train['model'].apply(categorize_model)"
      ]
    },
    {
      "cell_type": "code",
      "execution_count": 193,
      "metadata": {
        "tags": [],
        "id": "hk34A7IL7C-8"
      },
      "outputs": [],
      "source": [
        "average_prices_year = train.groupby('model_year')['price'].mean().reset_index()\n",
        "\n",
        "average_prices_brand.rename(columns={'price': 'average_prices_brand'}, inplace=True)\n",
        "train_new = pd.merge(train, average_prices_brand, on='brand')\n",
        "average_prices_year.rename(columns={'price': 'average_prices_year'}, inplace=True)\n",
        "train_new = pd.merge(train_new, average_prices_year, on='model_year')\n",
        "\n",
        "average_prices_model.rename(columns={'price': 'average_prices_model'}, inplace=True)\n",
        "train_new = pd.merge(train_new, average_prices_model, on='model')"
      ]
    },
    {
      "cell_type": "markdown",
      "metadata": {
        "id": "RR_wXqGa7C-8"
      },
      "source": [
        "## Models"
      ]
    },
    {
      "cell_type": "code",
      "execution_count": 194,
      "metadata": {
        "id": "BmaJxFNJ7C-8"
      },
      "outputs": [],
      "source": [
        "numerical_cols = ['milage', 'average_prices_brand','average_prices_year','average_prices_model']\n",
        "cat_cols = ['brand', 'model', 'model_year','fuel_type',\n",
        "       'transmission', 'ext_col', 'int_col', 'accident', 'clean_title', 'year_category','brand_category','model_category']\n",
        "text_col = ['engine']\n",
        "for i in cat_cols:\n",
        "    train_new[i] = train_new[i].astype(str)\n",
        "\n",
        "for i in text_col:\n",
        "    train_new[i] = train_new[i].astype(str)"
      ]
    },
    {
      "cell_type": "code",
      "execution_count": 195,
      "metadata": {
        "tags": [],
        "id": "sgjILoJG7C-8"
      },
      "outputs": [],
      "source": [
        "X = train_new.drop(columns = ['price', 'id'])\n",
        "y = train_new['price']\n",
        "X_train, X_test, y_train, y_test = train_test_split(X, y,random_state=42, train_size=0.8, shuffle=True)"
      ]
    },
    {
      "cell_type": "markdown",
      "metadata": {
        "id": "xBUymnyK7C-9"
      },
      "source": [
        "## CatBoost"
      ]
    },
    {
      "cell_type": "code",
      "execution_count": 196,
      "metadata": {
        "id": "4Db_TItg7C-9"
      },
      "outputs": [],
      "source": [
        "from catboost import CatBoostRegressor\n",
        "import optuna\n",
        "from optuna.samplers import TPESampler\n",
        "from catboost import Pool\n",
        "from sklearn.metrics import mean_squared_error\n",
        "from sklearn.ensemble import StackingRegressor\n",
        "from sklearn.model_selection import KFold"
      ]
    },
    {
      "cell_type": "code",
      "source": [
        "default_params = {\n",
        "    'iterations':7000,\n",
        "        'learning_rate':0.01,\n",
        "        'loss_function':'RMSE',\n",
        "        'use_best_model': True,\n",
        "        'task_type':'GPU'\n",
        "}"
      ],
      "metadata": {
        "id": "aw8oMuQWTTfS"
      },
      "execution_count": 225,
      "outputs": []
    },
    {
      "cell_type": "code",
      "source": [
        "from catboost import CatBoostRegressor\n",
        "from catboost import Pool\n",
        "\n",
        "def fit_model(train_pool, validation_pool, **kwargs):\n",
        "    model = CatBoostRegressor(\n",
        "        params\n",
        "    )\n",
        "\n",
        "    return model.fit(\n",
        "        train_pool,\n",
        "        eval_set=validation_pool,\n",
        "        verbose=1000,\n",
        "    )"
      ],
      "metadata": {
        "id": "RPcR7BD1TcZN"
      },
      "execution_count": null,
      "outputs": []
    },
    {
      "cell_type": "markdown",
      "source": [
        "# Train old way\n"
      ],
      "metadata": {
        "id": "FJnek7Kmx7KX"
      }
    },
    {
      "cell_type": "code",
      "source": [
        "train_pool = Pool(\n",
        "    X_train, y_train,\n",
        "    text_features = text_col,\n",
        "    cat_features = cat_cols\n",
        ")\n",
        "\n",
        "validation_pool = Pool(\n",
        "    X_test, y_test,\n",
        "    text_features = text_col,\n",
        "    cat_features= cat_cols\n",
        ")\n",
        "\n",
        "print('Train dataset shape: {}\\n'.format(train_pool.shape))\n",
        "\n",
        "model = fit_model(train_pool, validation_pool,defaul_params)"
      ],
      "metadata": {
        "colab": {
          "base_uri": "https://localhost:8080/",
          "height": 469
        },
        "id": "RZUV4sXfx-Fw",
        "outputId": "8e65b549-c3c2-4830-8075-fb4edb27815e"
      },
      "execution_count": 92,
      "outputs": [
        {
          "output_type": "stream",
          "name": "stdout",
          "text": [
            "Train dataset shape: (28600, 17)\n",
            "\n",
            "0:\tlearn: 0.8419351\ttest: 0.8417925\tbest: 0.8417925 (0)\ttotal: 70.7ms\tremaining: 8m 14s\n"
          ]
        },
        {
          "output_type": "error",
          "ename": "KeyboardInterrupt",
          "evalue": "",
          "traceback": [
            "\u001b[0;31m---------------------------------------------------------------------------\u001b[0m",
            "\u001b[0;31mKeyboardInterrupt\u001b[0m                         Traceback (most recent call last)",
            "\u001b[0;32m<ipython-input-92-413eba4effee>\u001b[0m in \u001b[0;36m<cell line: 15>\u001b[0;34m()\u001b[0m\n\u001b[1;32m     13\u001b[0m \u001b[0mprint\u001b[0m\u001b[0;34m(\u001b[0m\u001b[0;34m'Train dataset shape: {}\\n'\u001b[0m\u001b[0;34m.\u001b[0m\u001b[0mformat\u001b[0m\u001b[0;34m(\u001b[0m\u001b[0mtrain_pool\u001b[0m\u001b[0;34m.\u001b[0m\u001b[0mshape\u001b[0m\u001b[0;34m)\u001b[0m\u001b[0;34m)\u001b[0m\u001b[0;34m\u001b[0m\u001b[0;34m\u001b[0m\u001b[0m\n\u001b[1;32m     14\u001b[0m \u001b[0;34m\u001b[0m\u001b[0m\n\u001b[0;32m---> 15\u001b[0;31m \u001b[0mmodel\u001b[0m \u001b[0;34m=\u001b[0m \u001b[0mfit_model\u001b[0m\u001b[0;34m(\u001b[0m\u001b[0mtrain_pool\u001b[0m\u001b[0;34m,\u001b[0m \u001b[0mvalidation_pool\u001b[0m\u001b[0;34m)\u001b[0m\u001b[0;34m\u001b[0m\u001b[0;34m\u001b[0m\u001b[0m\n\u001b[0m",
            "\u001b[0;32m<ipython-input-87-ea3407ed228c>\u001b[0m in \u001b[0;36mfit_model\u001b[0;34m(train_pool, validation_pool, **kwargs)\u001b[0m\n\u001b[1;32m      8\u001b[0m     )\n\u001b[1;32m      9\u001b[0m \u001b[0;34m\u001b[0m\u001b[0m\n\u001b[0;32m---> 10\u001b[0;31m     return model.fit(\n\u001b[0m\u001b[1;32m     11\u001b[0m         \u001b[0mtrain_pool\u001b[0m\u001b[0;34m,\u001b[0m\u001b[0;34m\u001b[0m\u001b[0;34m\u001b[0m\u001b[0m\n\u001b[1;32m     12\u001b[0m         \u001b[0meval_set\u001b[0m\u001b[0;34m=\u001b[0m\u001b[0mvalidation_pool\u001b[0m\u001b[0;34m,\u001b[0m\u001b[0;34m\u001b[0m\u001b[0;34m\u001b[0m\u001b[0m\n",
            "\u001b[0;32m/usr/local/lib/python3.10/dist-packages/catboost/core.py\u001b[0m in \u001b[0;36mfit\u001b[0;34m(self, X, y, cat_features, text_features, embedding_features, graph, sample_weight, baseline, use_best_model, eval_set, verbose, logging_level, plot, plot_file, column_description, verbose_eval, metric_period, silent, early_stopping_rounds, save_snapshot, snapshot_file, snapshot_interval, init_model, callbacks, log_cout, log_cerr)\u001b[0m\n\u001b[1;32m   5871\u001b[0m         \u001b[0;32mif\u001b[0m \u001b[0;34m'loss_function'\u001b[0m \u001b[0;32min\u001b[0m \u001b[0mparams\u001b[0m\u001b[0;34m:\u001b[0m\u001b[0;34m\u001b[0m\u001b[0;34m\u001b[0m\u001b[0m\n\u001b[1;32m   5872\u001b[0m             \u001b[0mCatBoostRegressor\u001b[0m\u001b[0;34m.\u001b[0m\u001b[0m_check_is_compatible_loss\u001b[0m\u001b[0;34m(\u001b[0m\u001b[0mparams\u001b[0m\u001b[0;34m[\u001b[0m\u001b[0;34m'loss_function'\u001b[0m\u001b[0;34m]\u001b[0m\u001b[0;34m)\u001b[0m\u001b[0;34m\u001b[0m\u001b[0;34m\u001b[0m\u001b[0m\n\u001b[0;32m-> 5873\u001b[0;31m         return self._fit(X, y, cat_features, text_features, embedding_features, None, graph, sample_weight, None, None, None, None, baseline,\n\u001b[0m\u001b[1;32m   5874\u001b[0m                          \u001b[0muse_best_model\u001b[0m\u001b[0;34m,\u001b[0m \u001b[0meval_set\u001b[0m\u001b[0;34m,\u001b[0m \u001b[0mverbose\u001b[0m\u001b[0;34m,\u001b[0m \u001b[0mlogging_level\u001b[0m\u001b[0;34m,\u001b[0m \u001b[0mplot\u001b[0m\u001b[0;34m,\u001b[0m \u001b[0mplot_file\u001b[0m\u001b[0;34m,\u001b[0m \u001b[0mcolumn_description\u001b[0m\u001b[0;34m,\u001b[0m\u001b[0;34m\u001b[0m\u001b[0;34m\u001b[0m\u001b[0m\n\u001b[1;32m   5875\u001b[0m                          \u001b[0mverbose_eval\u001b[0m\u001b[0;34m,\u001b[0m \u001b[0mmetric_period\u001b[0m\u001b[0;34m,\u001b[0m \u001b[0msilent\u001b[0m\u001b[0;34m,\u001b[0m \u001b[0mearly_stopping_rounds\u001b[0m\u001b[0;34m,\u001b[0m\u001b[0;34m\u001b[0m\u001b[0;34m\u001b[0m\u001b[0m\n",
            "\u001b[0;32m/usr/local/lib/python3.10/dist-packages/catboost/core.py\u001b[0m in \u001b[0;36m_fit\u001b[0;34m(self, X, y, cat_features, text_features, embedding_features, pairs, graph, sample_weight, group_id, group_weight, subgroup_id, pairs_weight, baseline, use_best_model, eval_set, verbose, logging_level, plot, plot_file, column_description, verbose_eval, metric_period, silent, early_stopping_rounds, save_snapshot, snapshot_file, snapshot_interval, init_model, callbacks, log_cout, log_cerr)\u001b[0m\n\u001b[1;32m   2408\u001b[0m \u001b[0;34m\u001b[0m\u001b[0m\n\u001b[1;32m   2409\u001b[0m             \u001b[0;32mwith\u001b[0m \u001b[0mplot_wrapper\u001b[0m\u001b[0;34m(\u001b[0m\u001b[0mplot\u001b[0m\u001b[0;34m,\u001b[0m \u001b[0mplot_file\u001b[0m\u001b[0;34m,\u001b[0m \u001b[0;34m'Training plots'\u001b[0m\u001b[0;34m,\u001b[0m \u001b[0;34m[\u001b[0m\u001b[0m_get_train_dir\u001b[0m\u001b[0;34m(\u001b[0m\u001b[0mself\u001b[0m\u001b[0;34m.\u001b[0m\u001b[0mget_params\u001b[0m\u001b[0;34m(\u001b[0m\u001b[0;34m)\u001b[0m\u001b[0;34m)\u001b[0m\u001b[0;34m]\u001b[0m\u001b[0;34m)\u001b[0m\u001b[0;34m:\u001b[0m\u001b[0;34m\u001b[0m\u001b[0;34m\u001b[0m\u001b[0m\n\u001b[0;32m-> 2410\u001b[0;31m                 self._train(\n\u001b[0m\u001b[1;32m   2411\u001b[0m                     \u001b[0mtrain_pool\u001b[0m\u001b[0;34m,\u001b[0m\u001b[0;34m\u001b[0m\u001b[0;34m\u001b[0m\u001b[0m\n\u001b[1;32m   2412\u001b[0m                     \u001b[0mtrain_params\u001b[0m\u001b[0;34m[\u001b[0m\u001b[0;34m\"eval_sets\"\u001b[0m\u001b[0;34m]\u001b[0m\u001b[0;34m,\u001b[0m\u001b[0;34m\u001b[0m\u001b[0;34m\u001b[0m\u001b[0m\n",
            "\u001b[0;32m/usr/local/lib/python3.10/dist-packages/catboost/core.py\u001b[0m in \u001b[0;36m_train\u001b[0;34m(self, train_pool, test_pool, params, allow_clear_pool, init_model)\u001b[0m\n\u001b[1;32m   1788\u001b[0m \u001b[0;34m\u001b[0m\u001b[0m\n\u001b[1;32m   1789\u001b[0m     \u001b[0;32mdef\u001b[0m \u001b[0m_train\u001b[0m\u001b[0;34m(\u001b[0m\u001b[0mself\u001b[0m\u001b[0;34m,\u001b[0m \u001b[0mtrain_pool\u001b[0m\u001b[0;34m,\u001b[0m \u001b[0mtest_pool\u001b[0m\u001b[0;34m,\u001b[0m \u001b[0mparams\u001b[0m\u001b[0;34m,\u001b[0m \u001b[0mallow_clear_pool\u001b[0m\u001b[0;34m,\u001b[0m \u001b[0minit_model\u001b[0m\u001b[0;34m)\u001b[0m\u001b[0;34m:\u001b[0m\u001b[0;34m\u001b[0m\u001b[0;34m\u001b[0m\u001b[0m\n\u001b[0;32m-> 1790\u001b[0;31m         \u001b[0mself\u001b[0m\u001b[0;34m.\u001b[0m\u001b[0m_object\u001b[0m\u001b[0;34m.\u001b[0m\u001b[0m_train\u001b[0m\u001b[0;34m(\u001b[0m\u001b[0mtrain_pool\u001b[0m\u001b[0;34m,\u001b[0m \u001b[0mtest_pool\u001b[0m\u001b[0;34m,\u001b[0m \u001b[0mparams\u001b[0m\u001b[0;34m,\u001b[0m \u001b[0mallow_clear_pool\u001b[0m\u001b[0;34m,\u001b[0m \u001b[0minit_model\u001b[0m\u001b[0;34m.\u001b[0m\u001b[0m_object\u001b[0m \u001b[0;32mif\u001b[0m \u001b[0minit_model\u001b[0m \u001b[0;32melse\u001b[0m \u001b[0;32mNone\u001b[0m\u001b[0;34m)\u001b[0m\u001b[0;34m\u001b[0m\u001b[0;34m\u001b[0m\u001b[0m\n\u001b[0m\u001b[1;32m   1791\u001b[0m         \u001b[0mself\u001b[0m\u001b[0;34m.\u001b[0m\u001b[0m_set_trained_model_attributes\u001b[0m\u001b[0;34m(\u001b[0m\u001b[0;34m)\u001b[0m\u001b[0;34m\u001b[0m\u001b[0;34m\u001b[0m\u001b[0m\n\u001b[1;32m   1792\u001b[0m \u001b[0;34m\u001b[0m\u001b[0m\n",
            "\u001b[0;32m_catboost.pyx\u001b[0m in \u001b[0;36m_catboost._CatBoost._train\u001b[0;34m()\u001b[0m\n",
            "\u001b[0;32m_catboost.pyx\u001b[0m in \u001b[0;36m_catboost._CatBoost._train\u001b[0;34m()\u001b[0m\n",
            "\u001b[0;31mKeyboardInterrupt\u001b[0m: "
          ]
        }
      ]
    },
    {
      "cell_type": "markdown",
      "source": [
        "# Feature Selection"
      ],
      "metadata": {
        "id": "JL9z_w-Fx_a1"
      }
    },
    {
      "cell_type": "code",
      "execution_count": null,
      "metadata": {
        "id": "Mq2ryZhq7C-9"
      },
      "outputs": [],
      "source": [
        "def forward_selection(to_add_feats, params, eps=0.0):\n",
        "\n",
        "    top_score = 10000\n",
        "\n",
        "    features_dict = dict()\n",
        "    features = []\n",
        "    for i, add_feat in enumerate(to_add_feats):\n",
        "\n",
        "        features.append(add_feat)\n",
        "        features.sort()\n",
        "        cat_features = [feat for feat in features if feat in cat_cols]\n",
        "        text_features = [feat for feat in features if feat in text_col]\n",
        "\n",
        "        if len(cat_features)>0:\n",
        "            train_pool = Pool(\n",
        "            X_train[features].values, y_train.values,\n",
        "            text_features = text_features,\n",
        "            feature_names = features,\n",
        "            cat_features = cat_features\n",
        "            )\n",
        "\n",
        "            validation_pool = Pool(\n",
        "                X_test[features].values, y_test.values,\n",
        "                text_features = text_features,\n",
        "                feature_names = features,\n",
        "                cat_features= cat_features\n",
        "            )\n",
        "        else:\n",
        "            train_pool = Pool(\n",
        "            X_train[features].values, y_train.values,\n",
        "            text_features = text_features,\n",
        "            feature_names = features,\n",
        "            )\n",
        "\n",
        "            validation_pool = Pool(\n",
        "                X_test[features].values, y_test.values,\n",
        "                text_features = text_features,\n",
        "                feature_names = features,\n",
        "            )\n",
        "\n",
        "        model = fit_model(train_pool,validation_pool,default_params)\n",
        "\n",
        "        valid_score = model.best_score_['validation']['RMSE']\n",
        "        features_dict[add_feat] = top_score - valid_score\n",
        "\n",
        "        if valid_score < top_score - eps:\n",
        "            top_score = valid_score\n",
        "        else:\n",
        "            features.remove(add_feat)\n",
        "            features.sort()\n",
        "\n",
        "    return features, features_dict"
      ]
    },
    {
      "cell_type": "code",
      "execution_count": null,
      "metadata": {
        "id": "ntrmxj7q7C-9"
      },
      "outputs": [],
      "source": [
        "feats = numerical_cols+cat_cols+text_col"
      ]
    },
    {
      "cell_type": "code",
      "execution_count": null,
      "metadata": {
        "colab": {
          "base_uri": "https://localhost:8080/",
          "height": 139
        },
        "id": "hOpvKbU27C-9",
        "outputId": "65b1aef0-da48-45e0-c078-13b2072bb795"
      },
      "outputs": [
        {
          "output_type": "error",
          "ename": "NameError",
          "evalue": "name 'feats' is not defined",
          "traceback": [
            "\u001b[0;31m---------------------------------------------------------------------------\u001b[0m",
            "\u001b[0;31mNameError\u001b[0m                                 Traceback (most recent call last)",
            "\u001b[0;32m<ipython-input-20-0bda66bd4f8f>\u001b[0m in \u001b[0;36m<cell line: 1>\u001b[0;34m()\u001b[0m\n\u001b[0;32m----> 1\u001b[0;31m \u001b[0mFEATS_forw\u001b[0m\u001b[0;34m,\u001b[0m \u001b[0mfeatures_dict_03\u001b[0m \u001b[0;34m=\u001b[0m \u001b[0mforward_selection\u001b[0m\u001b[0;34m(\u001b[0m\u001b[0mfeats\u001b[0m\u001b[0;34m,\u001b[0m \u001b[0mparams\u001b[0m\u001b[0;34m,\u001b[0m\u001b[0meps\u001b[0m\u001b[0;34m=\u001b[0m\u001b[0;36m0.00\u001b[0m\u001b[0;34m)\u001b[0m\u001b[0;34m\u001b[0m\u001b[0;34m\u001b[0m\u001b[0m\n\u001b[0m",
            "\u001b[0;31mNameError\u001b[0m: name 'feats' is not defined"
          ]
        }
      ],
      "source": [
        "FEATS_forw, features_dict_03 = forward_selection(feats, params,eps=0.00)"
      ]
    },
    {
      "cell_type": "code",
      "execution_count": null,
      "metadata": {
        "id": "4ZpbXOeR7C--",
        "outputId": "88dfd0bd-2fe6-413f-8254-32a8daa54acb"
      },
      "outputs": [
        {
          "name": "stdout",
          "output_type": "stream",
          "text": [
            "['accident', 'average_prices_brand', 'average_prices_model', 'average_prices_year', 'clean_title', 'engine', 'ext_col', 'fuel_type', 'int_col', 'milage', 'model', 'model_year', 'transmission']\n"
          ]
        }
      ],
      "source": [
        "print(FEATS_forw)"
      ]
    },
    {
      "cell_type": "markdown",
      "source": [
        "# Optune for k folds"
      ],
      "metadata": {
        "id": "uP4zpCZ8St9A"
      }
    },
    {
      "cell_type": "code",
      "execution_count": 197,
      "metadata": {
        "id": "C4dDcN787C--"
      },
      "outputs": [],
      "source": [
        "FEATS_forw = ['accident', 'average_prices_brand', 'average_prices_model', 'average_prices_year', 'clean_title', 'engine', 'ext_col', 'fuel_type', 'int_col', 'milage', 'model', 'model_year', 'transmission']"
      ]
    },
    {
      "cell_type": "code",
      "execution_count": null,
      "metadata": {
        "colab": {
          "base_uri": "https://localhost:8080/"
        },
        "id": "pAMK64Zc7C--",
        "outputId": "d25a07d2-fb77-455c-bac8-77b787574f58"
      },
      "outputs": [
        {
          "output_type": "stream",
          "name": "stdout",
          "text": [
            "17\n",
            "13\n"
          ]
        }
      ],
      "source": [
        "print(len(feats))\n",
        "print(len(FEATS_forw))"
      ]
    },
    {
      "cell_type": "code",
      "execution_count": null,
      "metadata": {
        "id": "fWpAQjKh7C--"
      },
      "outputs": [],
      "source": [
        "from sklearn.metrics import mean_squared_error\n",
        "\n",
        "def objective(trial):\n",
        "    # Определение гиперпараметров\n",
        "    model = CatBoostRegressor(\n",
        "        objective = trial.suggest_categorical(\"objective\", [\"RMSE\"]),\n",
        "        iterations=trial.suggest_int(\"iterations\", 1000, 5000),\n",
        "        learning_rate=trial.suggest_float(\"learning_rate\", 1e-3, 1e-1, log=True),\n",
        "        depth=trial.suggest_int(\"depth\", 4, 10),\n",
        "        l2_leaf_reg=trial.suggest_float(\"l2_leaf_reg\", 1e-8, 100.0, log=True),\n",
        "        # bootstrap_type=trial.suggest_categorical(\"bootstrap_type\", [\"Bayesian\"]),\n",
        "        random_strength=trial.suggest_float(\"random_strength\", 1e-8, 10.0, log=True),\n",
        "        bagging_temperature=trial.suggest_float(\"bagging_temperature\", 0.0, 10.0),\n",
        "        od_type=trial.suggest_categorical(\"od_type\", [\"IncToDec\", \"Iter\"]),\n",
        "        od_wait=trial.suggest_int(\"od_wait\", 50, 60),\n",
        "        verbose=False,\n",
        "        task_type=\"GPU\"\n",
        "    )\n",
        "\n",
        "    # Обучение модели\n",
        "    model.fit(train_pool,eval_set=validation_pool, verbose=False)\n",
        "\n",
        "    # Предсказания\n",
        "    y_train_pred = model.predict(X_train[FEATS_forw])\n",
        "    y_val_pred = model.predict(X_test[FEATS_forw])\n",
        "\n",
        "    # Вычисление ошибок\n",
        "    train_rmse = mean_squared_error(y_train, y_train_pred, squared=False)\n",
        "    val_rmse = mean_squared_error(y_test, y_val_pred, squared=False)\n",
        "\n",
        "    # Учет переобучения\n",
        "    score = 100000000 if val_rmse/train_rmse>1.1 else val_rmse\n",
        "\n",
        "    return score"
      ]
    },
    {
      "cell_type": "code",
      "execution_count": null,
      "metadata": {
        "colab": {
          "base_uri": "https://localhost:8080/",
          "height": 761
        },
        "id": "pJhRW7vA7C--",
        "outputId": "ddf3a1a0-64d0-4c8f-b429-fac2f1fcb2bb"
      },
      "outputs": [
        {
          "output_type": "stream",
          "name": "stderr",
          "text": [
            "[I 2024-11-30 14:36:09,940] A new study created in memory with name: catboost1\n",
            "[W 2024-11-30 14:36:13,617] Trial 0 failed with parameters: {'objective': 'RMSE', 'iterations': 475, 'learning_rate': 0.027583475549166746, 'depth': 4, 'l2_leaf_reg': 1.0551779964424746e-05, 'random_strength': 2.0931628460945333e-07, 'bagging_temperature': 0.923385947687978, 'od_type': 'Iter', 'od_wait': 26} because of the following error: KeyboardInterrupt('').\n",
            "Traceback (most recent call last):\n",
            "  File \"/usr/local/lib/python3.10/dist-packages/optuna/study/_optimize.py\", line 197, in _run_trial\n",
            "    value_or_values = func(trial)\n",
            "  File \"<ipython-input-23-4b5d39a2de09>\", line 21, in objective\n",
            "    model.fit(train_pool,eval_set=validation_pool, verbose=False)\n",
            "  File \"/usr/local/lib/python3.10/dist-packages/catboost/core.py\", line 5873, in fit\n",
            "    return self._fit(X, y, cat_features, text_features, embedding_features, None, graph, sample_weight, None, None, None, None, baseline,\n",
            "  File \"/usr/local/lib/python3.10/dist-packages/catboost/core.py\", line 2410, in _fit\n",
            "    self._train(\n",
            "  File \"/usr/local/lib/python3.10/dist-packages/catboost/core.py\", line 1790, in _train\n",
            "    self._object._train(train_pool, test_pool, params, allow_clear_pool, init_model._object if init_model else None)\n",
            "  File \"_catboost.pyx\", line 5017, in _catboost._CatBoost._train\n",
            "  File \"_catboost.pyx\", line 5066, in _catboost._CatBoost._train\n",
            "KeyboardInterrupt\n",
            "[W 2024-11-30 14:36:13,626] Trial 0 failed with value None.\n"
          ]
        },
        {
          "output_type": "error",
          "ename": "KeyboardInterrupt",
          "evalue": "",
          "traceback": [
            "\u001b[0;31m---------------------------------------------------------------------------\u001b[0m",
            "\u001b[0;31mKeyboardInterrupt\u001b[0m                         Traceback (most recent call last)",
            "\u001b[0;32m<ipython-input-24-6b214cdc4101>\u001b[0m in \u001b[0;36m<cell line: 5>\u001b[0;34m()\u001b[0m\n\u001b[1;32m     22\u001b[0m     \u001b[0msampler\u001b[0m \u001b[0;34m=\u001b[0m \u001b[0mTPESampler\u001b[0m\u001b[0;34m(\u001b[0m\u001b[0mseed\u001b[0m\u001b[0;34m=\u001b[0m\u001b[0;36m1\u001b[0m\u001b[0;34m)\u001b[0m\u001b[0;34m\u001b[0m\u001b[0;34m\u001b[0m\u001b[0m\n\u001b[1;32m     23\u001b[0m     \u001b[0mstudy\u001b[0m \u001b[0;34m=\u001b[0m \u001b[0moptuna\u001b[0m\u001b[0;34m.\u001b[0m\u001b[0mcreate_study\u001b[0m\u001b[0;34m(\u001b[0m\u001b[0mstudy_name\u001b[0m\u001b[0;34m=\u001b[0m\u001b[0;34mf\"catboost{k}\"\u001b[0m\u001b[0;34m,\u001b[0m \u001b[0mdirection\u001b[0m\u001b[0;34m=\u001b[0m\u001b[0;34m\"minimize\"\u001b[0m\u001b[0;34m,\u001b[0m \u001b[0msampler\u001b[0m\u001b[0;34m=\u001b[0m\u001b[0msampler\u001b[0m\u001b[0;34m)\u001b[0m\u001b[0;34m\u001b[0m\u001b[0;34m\u001b[0m\u001b[0m\n\u001b[0;32m---> 24\u001b[0;31m     \u001b[0mstudy\u001b[0m\u001b[0;34m.\u001b[0m\u001b[0moptimize\u001b[0m\u001b[0;34m(\u001b[0m\u001b[0mobjective\u001b[0m\u001b[0;34m,\u001b[0m \u001b[0mn_trials\u001b[0m\u001b[0;34m=\u001b[0m\u001b[0;36m50\u001b[0m\u001b[0;34m)\u001b[0m\u001b[0;34m\u001b[0m\u001b[0;34m\u001b[0m\u001b[0m\n\u001b[0m\u001b[1;32m     25\u001b[0m     \u001b[0mprint\u001b[0m\u001b[0;34m(\u001b[0m\u001b[0;34m\"Model is: \"\u001b[0m\u001b[0;34m,\u001b[0m\u001b[0mk\u001b[0m\u001b[0;34m)\u001b[0m\u001b[0;34m\u001b[0m\u001b[0;34m\u001b[0m\u001b[0m\n\u001b[1;32m     26\u001b[0m     \u001b[0mprint\u001b[0m\u001b[0;34m(\u001b[0m\u001b[0;34m\"Number of finished trials: \"\u001b[0m\u001b[0;34m,\u001b[0m \u001b[0mlen\u001b[0m\u001b[0;34m(\u001b[0m\u001b[0mstudy\u001b[0m\u001b[0;34m.\u001b[0m\u001b[0mtrials\u001b[0m\u001b[0;34m)\u001b[0m\u001b[0;34m)\u001b[0m\u001b[0;34m\u001b[0m\u001b[0;34m\u001b[0m\u001b[0m\n",
            "\u001b[0;32m/usr/local/lib/python3.10/dist-packages/optuna/study/study.py\u001b[0m in \u001b[0;36moptimize\u001b[0;34m(self, func, n_trials, timeout, n_jobs, catch, callbacks, gc_after_trial, show_progress_bar)\u001b[0m\n\u001b[1;32m    473\u001b[0m                 \u001b[0mIf\u001b[0m \u001b[0mnested\u001b[0m \u001b[0minvocation\u001b[0m \u001b[0mof\u001b[0m \u001b[0mthis\u001b[0m \u001b[0mmethod\u001b[0m \u001b[0moccurs\u001b[0m\u001b[0;34m.\u001b[0m\u001b[0;34m\u001b[0m\u001b[0;34m\u001b[0m\u001b[0m\n\u001b[1;32m    474\u001b[0m         \"\"\"\n\u001b[0;32m--> 475\u001b[0;31m         _optimize(\n\u001b[0m\u001b[1;32m    476\u001b[0m             \u001b[0mstudy\u001b[0m\u001b[0;34m=\u001b[0m\u001b[0mself\u001b[0m\u001b[0;34m,\u001b[0m\u001b[0;34m\u001b[0m\u001b[0;34m\u001b[0m\u001b[0m\n\u001b[1;32m    477\u001b[0m             \u001b[0mfunc\u001b[0m\u001b[0;34m=\u001b[0m\u001b[0mfunc\u001b[0m\u001b[0;34m,\u001b[0m\u001b[0;34m\u001b[0m\u001b[0;34m\u001b[0m\u001b[0m\n",
            "\u001b[0;32m/usr/local/lib/python3.10/dist-packages/optuna/study/_optimize.py\u001b[0m in \u001b[0;36m_optimize\u001b[0;34m(study, func, n_trials, timeout, n_jobs, catch, callbacks, gc_after_trial, show_progress_bar)\u001b[0m\n\u001b[1;32m     61\u001b[0m     \u001b[0;32mtry\u001b[0m\u001b[0;34m:\u001b[0m\u001b[0;34m\u001b[0m\u001b[0;34m\u001b[0m\u001b[0m\n\u001b[1;32m     62\u001b[0m         \u001b[0;32mif\u001b[0m \u001b[0mn_jobs\u001b[0m \u001b[0;34m==\u001b[0m \u001b[0;36m1\u001b[0m\u001b[0;34m:\u001b[0m\u001b[0;34m\u001b[0m\u001b[0;34m\u001b[0m\u001b[0m\n\u001b[0;32m---> 63\u001b[0;31m             _optimize_sequential(\n\u001b[0m\u001b[1;32m     64\u001b[0m                 \u001b[0mstudy\u001b[0m\u001b[0;34m,\u001b[0m\u001b[0;34m\u001b[0m\u001b[0;34m\u001b[0m\u001b[0m\n\u001b[1;32m     65\u001b[0m                 \u001b[0mfunc\u001b[0m\u001b[0;34m,\u001b[0m\u001b[0;34m\u001b[0m\u001b[0;34m\u001b[0m\u001b[0m\n",
            "\u001b[0;32m/usr/local/lib/python3.10/dist-packages/optuna/study/_optimize.py\u001b[0m in \u001b[0;36m_optimize_sequential\u001b[0;34m(study, func, n_trials, timeout, catch, callbacks, gc_after_trial, reseed_sampler_rng, time_start, progress_bar)\u001b[0m\n\u001b[1;32m    158\u001b[0m \u001b[0;34m\u001b[0m\u001b[0m\n\u001b[1;32m    159\u001b[0m         \u001b[0;32mtry\u001b[0m\u001b[0;34m:\u001b[0m\u001b[0;34m\u001b[0m\u001b[0;34m\u001b[0m\u001b[0m\n\u001b[0;32m--> 160\u001b[0;31m             \u001b[0mfrozen_trial\u001b[0m \u001b[0;34m=\u001b[0m \u001b[0m_run_trial\u001b[0m\u001b[0;34m(\u001b[0m\u001b[0mstudy\u001b[0m\u001b[0;34m,\u001b[0m \u001b[0mfunc\u001b[0m\u001b[0;34m,\u001b[0m \u001b[0mcatch\u001b[0m\u001b[0;34m)\u001b[0m\u001b[0;34m\u001b[0m\u001b[0;34m\u001b[0m\u001b[0m\n\u001b[0m\u001b[1;32m    161\u001b[0m         \u001b[0;32mfinally\u001b[0m\u001b[0;34m:\u001b[0m\u001b[0;34m\u001b[0m\u001b[0;34m\u001b[0m\u001b[0m\n\u001b[1;32m    162\u001b[0m             \u001b[0;31m# The following line mitigates memory problems that can be occurred in some\u001b[0m\u001b[0;34m\u001b[0m\u001b[0;34m\u001b[0m\u001b[0m\n",
            "\u001b[0;32m/usr/local/lib/python3.10/dist-packages/optuna/study/_optimize.py\u001b[0m in \u001b[0;36m_run_trial\u001b[0;34m(study, func, catch)\u001b[0m\n\u001b[1;32m    246\u001b[0m         \u001b[0;32mand\u001b[0m \u001b[0;32mnot\u001b[0m \u001b[0misinstance\u001b[0m\u001b[0;34m(\u001b[0m\u001b[0mfunc_err\u001b[0m\u001b[0;34m,\u001b[0m \u001b[0mcatch\u001b[0m\u001b[0;34m)\u001b[0m\u001b[0;34m\u001b[0m\u001b[0;34m\u001b[0m\u001b[0m\n\u001b[1;32m    247\u001b[0m     ):\n\u001b[0;32m--> 248\u001b[0;31m         \u001b[0;32mraise\u001b[0m \u001b[0mfunc_err\u001b[0m\u001b[0;34m\u001b[0m\u001b[0;34m\u001b[0m\u001b[0m\n\u001b[0m\u001b[1;32m    249\u001b[0m     \u001b[0;32mreturn\u001b[0m \u001b[0mfrozen_trial\u001b[0m\u001b[0;34m\u001b[0m\u001b[0;34m\u001b[0m\u001b[0m\n\u001b[1;32m    250\u001b[0m \u001b[0;34m\u001b[0m\u001b[0m\n",
            "\u001b[0;32m/usr/local/lib/python3.10/dist-packages/optuna/study/_optimize.py\u001b[0m in \u001b[0;36m_run_trial\u001b[0;34m(study, func, catch)\u001b[0m\n\u001b[1;32m    195\u001b[0m     \u001b[0;32mwith\u001b[0m \u001b[0mget_heartbeat_thread\u001b[0m\u001b[0;34m(\u001b[0m\u001b[0mtrial\u001b[0m\u001b[0;34m.\u001b[0m\u001b[0m_trial_id\u001b[0m\u001b[0;34m,\u001b[0m \u001b[0mstudy\u001b[0m\u001b[0;34m.\u001b[0m\u001b[0m_storage\u001b[0m\u001b[0;34m)\u001b[0m\u001b[0;34m:\u001b[0m\u001b[0;34m\u001b[0m\u001b[0;34m\u001b[0m\u001b[0m\n\u001b[1;32m    196\u001b[0m         \u001b[0;32mtry\u001b[0m\u001b[0;34m:\u001b[0m\u001b[0;34m\u001b[0m\u001b[0;34m\u001b[0m\u001b[0m\n\u001b[0;32m--> 197\u001b[0;31m             \u001b[0mvalue_or_values\u001b[0m \u001b[0;34m=\u001b[0m \u001b[0mfunc\u001b[0m\u001b[0;34m(\u001b[0m\u001b[0mtrial\u001b[0m\u001b[0;34m)\u001b[0m\u001b[0;34m\u001b[0m\u001b[0;34m\u001b[0m\u001b[0m\n\u001b[0m\u001b[1;32m    198\u001b[0m         \u001b[0;32mexcept\u001b[0m \u001b[0mexceptions\u001b[0m\u001b[0;34m.\u001b[0m\u001b[0mTrialPruned\u001b[0m \u001b[0;32mas\u001b[0m \u001b[0me\u001b[0m\u001b[0;34m:\u001b[0m\u001b[0;34m\u001b[0m\u001b[0;34m\u001b[0m\u001b[0m\n\u001b[1;32m    199\u001b[0m             \u001b[0;31m# TODO(mamu): Handle multi-objective cases.\u001b[0m\u001b[0;34m\u001b[0m\u001b[0;34m\u001b[0m\u001b[0m\n",
            "\u001b[0;32m<ipython-input-23-4b5d39a2de09>\u001b[0m in \u001b[0;36mobjective\u001b[0;34m(trial)\u001b[0m\n\u001b[1;32m     19\u001b[0m \u001b[0;34m\u001b[0m\u001b[0m\n\u001b[1;32m     20\u001b[0m     \u001b[0;31m# Обучение модели\u001b[0m\u001b[0;34m\u001b[0m\u001b[0;34m\u001b[0m\u001b[0m\n\u001b[0;32m---> 21\u001b[0;31m     \u001b[0mmodel\u001b[0m\u001b[0;34m.\u001b[0m\u001b[0mfit\u001b[0m\u001b[0;34m(\u001b[0m\u001b[0mtrain_pool\u001b[0m\u001b[0;34m,\u001b[0m\u001b[0meval_set\u001b[0m\u001b[0;34m=\u001b[0m\u001b[0mvalidation_pool\u001b[0m\u001b[0;34m,\u001b[0m \u001b[0mverbose\u001b[0m\u001b[0;34m=\u001b[0m\u001b[0;32mFalse\u001b[0m\u001b[0;34m)\u001b[0m\u001b[0;34m\u001b[0m\u001b[0;34m\u001b[0m\u001b[0m\n\u001b[0m\u001b[1;32m     22\u001b[0m \u001b[0;34m\u001b[0m\u001b[0m\n\u001b[1;32m     23\u001b[0m     \u001b[0;31m# Предсказания\u001b[0m\u001b[0;34m\u001b[0m\u001b[0;34m\u001b[0m\u001b[0m\n",
            "\u001b[0;32m/usr/local/lib/python3.10/dist-packages/catboost/core.py\u001b[0m in \u001b[0;36mfit\u001b[0;34m(self, X, y, cat_features, text_features, embedding_features, graph, sample_weight, baseline, use_best_model, eval_set, verbose, logging_level, plot, plot_file, column_description, verbose_eval, metric_period, silent, early_stopping_rounds, save_snapshot, snapshot_file, snapshot_interval, init_model, callbacks, log_cout, log_cerr)\u001b[0m\n\u001b[1;32m   5871\u001b[0m         \u001b[0;32mif\u001b[0m \u001b[0;34m'loss_function'\u001b[0m \u001b[0;32min\u001b[0m \u001b[0mparams\u001b[0m\u001b[0;34m:\u001b[0m\u001b[0;34m\u001b[0m\u001b[0;34m\u001b[0m\u001b[0m\n\u001b[1;32m   5872\u001b[0m             \u001b[0mCatBoostRegressor\u001b[0m\u001b[0;34m.\u001b[0m\u001b[0m_check_is_compatible_loss\u001b[0m\u001b[0;34m(\u001b[0m\u001b[0mparams\u001b[0m\u001b[0;34m[\u001b[0m\u001b[0;34m'loss_function'\u001b[0m\u001b[0;34m]\u001b[0m\u001b[0;34m)\u001b[0m\u001b[0;34m\u001b[0m\u001b[0;34m\u001b[0m\u001b[0m\n\u001b[0;32m-> 5873\u001b[0;31m         return self._fit(X, y, cat_features, text_features, embedding_features, None, graph, sample_weight, None, None, None, None, baseline,\n\u001b[0m\u001b[1;32m   5874\u001b[0m                          \u001b[0muse_best_model\u001b[0m\u001b[0;34m,\u001b[0m \u001b[0meval_set\u001b[0m\u001b[0;34m,\u001b[0m \u001b[0mverbose\u001b[0m\u001b[0;34m,\u001b[0m \u001b[0mlogging_level\u001b[0m\u001b[0;34m,\u001b[0m \u001b[0mplot\u001b[0m\u001b[0;34m,\u001b[0m \u001b[0mplot_file\u001b[0m\u001b[0;34m,\u001b[0m \u001b[0mcolumn_description\u001b[0m\u001b[0;34m,\u001b[0m\u001b[0;34m\u001b[0m\u001b[0;34m\u001b[0m\u001b[0m\n\u001b[1;32m   5875\u001b[0m                          \u001b[0mverbose_eval\u001b[0m\u001b[0;34m,\u001b[0m \u001b[0mmetric_period\u001b[0m\u001b[0;34m,\u001b[0m \u001b[0msilent\u001b[0m\u001b[0;34m,\u001b[0m \u001b[0mearly_stopping_rounds\u001b[0m\u001b[0;34m,\u001b[0m\u001b[0;34m\u001b[0m\u001b[0;34m\u001b[0m\u001b[0m\n",
            "\u001b[0;32m/usr/local/lib/python3.10/dist-packages/catboost/core.py\u001b[0m in \u001b[0;36m_fit\u001b[0;34m(self, X, y, cat_features, text_features, embedding_features, pairs, graph, sample_weight, group_id, group_weight, subgroup_id, pairs_weight, baseline, use_best_model, eval_set, verbose, logging_level, plot, plot_file, column_description, verbose_eval, metric_period, silent, early_stopping_rounds, save_snapshot, snapshot_file, snapshot_interval, init_model, callbacks, log_cout, log_cerr)\u001b[0m\n\u001b[1;32m   2408\u001b[0m \u001b[0;34m\u001b[0m\u001b[0m\n\u001b[1;32m   2409\u001b[0m             \u001b[0;32mwith\u001b[0m \u001b[0mplot_wrapper\u001b[0m\u001b[0;34m(\u001b[0m\u001b[0mplot\u001b[0m\u001b[0;34m,\u001b[0m \u001b[0mplot_file\u001b[0m\u001b[0;34m,\u001b[0m \u001b[0;34m'Training plots'\u001b[0m\u001b[0;34m,\u001b[0m \u001b[0;34m[\u001b[0m\u001b[0m_get_train_dir\u001b[0m\u001b[0;34m(\u001b[0m\u001b[0mself\u001b[0m\u001b[0;34m.\u001b[0m\u001b[0mget_params\u001b[0m\u001b[0;34m(\u001b[0m\u001b[0;34m)\u001b[0m\u001b[0;34m)\u001b[0m\u001b[0;34m]\u001b[0m\u001b[0;34m)\u001b[0m\u001b[0;34m:\u001b[0m\u001b[0;34m\u001b[0m\u001b[0;34m\u001b[0m\u001b[0m\n\u001b[0;32m-> 2410\u001b[0;31m                 self._train(\n\u001b[0m\u001b[1;32m   2411\u001b[0m                     \u001b[0mtrain_pool\u001b[0m\u001b[0;34m,\u001b[0m\u001b[0;34m\u001b[0m\u001b[0;34m\u001b[0m\u001b[0m\n\u001b[1;32m   2412\u001b[0m                     \u001b[0mtrain_params\u001b[0m\u001b[0;34m[\u001b[0m\u001b[0;34m\"eval_sets\"\u001b[0m\u001b[0;34m]\u001b[0m\u001b[0;34m,\u001b[0m\u001b[0;34m\u001b[0m\u001b[0;34m\u001b[0m\u001b[0m\n",
            "\u001b[0;32m/usr/local/lib/python3.10/dist-packages/catboost/core.py\u001b[0m in \u001b[0;36m_train\u001b[0;34m(self, train_pool, test_pool, params, allow_clear_pool, init_model)\u001b[0m\n\u001b[1;32m   1788\u001b[0m \u001b[0;34m\u001b[0m\u001b[0m\n\u001b[1;32m   1789\u001b[0m     \u001b[0;32mdef\u001b[0m \u001b[0m_train\u001b[0m\u001b[0;34m(\u001b[0m\u001b[0mself\u001b[0m\u001b[0;34m,\u001b[0m \u001b[0mtrain_pool\u001b[0m\u001b[0;34m,\u001b[0m \u001b[0mtest_pool\u001b[0m\u001b[0;34m,\u001b[0m \u001b[0mparams\u001b[0m\u001b[0;34m,\u001b[0m \u001b[0mallow_clear_pool\u001b[0m\u001b[0;34m,\u001b[0m \u001b[0minit_model\u001b[0m\u001b[0;34m)\u001b[0m\u001b[0;34m:\u001b[0m\u001b[0;34m\u001b[0m\u001b[0;34m\u001b[0m\u001b[0m\n\u001b[0;32m-> 1790\u001b[0;31m         \u001b[0mself\u001b[0m\u001b[0;34m.\u001b[0m\u001b[0m_object\u001b[0m\u001b[0;34m.\u001b[0m\u001b[0m_train\u001b[0m\u001b[0;34m(\u001b[0m\u001b[0mtrain_pool\u001b[0m\u001b[0;34m,\u001b[0m \u001b[0mtest_pool\u001b[0m\u001b[0;34m,\u001b[0m \u001b[0mparams\u001b[0m\u001b[0;34m,\u001b[0m \u001b[0mallow_clear_pool\u001b[0m\u001b[0;34m,\u001b[0m \u001b[0minit_model\u001b[0m\u001b[0;34m.\u001b[0m\u001b[0m_object\u001b[0m \u001b[0;32mif\u001b[0m \u001b[0minit_model\u001b[0m \u001b[0;32melse\u001b[0m \u001b[0;32mNone\u001b[0m\u001b[0;34m)\u001b[0m\u001b[0;34m\u001b[0m\u001b[0;34m\u001b[0m\u001b[0m\n\u001b[0m\u001b[1;32m   1791\u001b[0m         \u001b[0mself\u001b[0m\u001b[0;34m.\u001b[0m\u001b[0m_set_trained_model_attributes\u001b[0m\u001b[0;34m(\u001b[0m\u001b[0;34m)\u001b[0m\u001b[0;34m\u001b[0m\u001b[0;34m\u001b[0m\u001b[0m\n\u001b[1;32m   1792\u001b[0m \u001b[0;34m\u001b[0m\u001b[0m\n",
            "\u001b[0;32m_catboost.pyx\u001b[0m in \u001b[0;36m_catboost._CatBoost._train\u001b[0;34m()\u001b[0m\n",
            "\u001b[0;32m_catboost.pyx\u001b[0m in \u001b[0;36m_catboost._CatBoost._train\u001b[0;34m()\u001b[0m\n",
            "\u001b[0;31mKeyboardInterrupt\u001b[0m: "
          ]
        }
      ],
      "source": [
        "optuna.logging.set_verbosity(optuna.logging.WARNING)\n",
        "kf = KFold(n_splits=5,shuffle=True,random_state=42)\n",
        "cat_features = [feat for feat in FEATS_forw if feat in cat_cols]\n",
        "text_features = [feat for feat in FEATS_forw if feat in text_col]\n",
        "k = 0\n",
        "for train_index, test_index in kf.split(X):\n",
        "    k+=1\n",
        "    X_train, X_test = X.loc[train_index], X.loc[test_index]\n",
        "    y_train, y_test = y.loc[train_index], y.loc[test_index]\n",
        "    train_pool = Pool(\n",
        "            X_train[FEATS_forw].values, y_train.values,\n",
        "            text_features = text_features,\n",
        "            feature_names = FEATS_forw,\n",
        "            cat_features = cat_features\n",
        "            )\n",
        "\n",
        "    validation_pool = Pool(\n",
        "                X_test[FEATS_forw].values, y_test.values,\n",
        "                text_features = text_features,\n",
        "                feature_names = FEATS_forw,\n",
        "                cat_features= cat_features\n",
        "            )\n",
        "    sampler = TPESampler(seed=1)\n",
        "    study = optuna.create_study(study_name=f\"catboost{k}\", direction=\"minimize\", sampler=sampler)\n",
        "    study.optimize(objective, n_trials=50)\n",
        "    print(\"Model is: \",k)\n",
        "    print(\"Number of finished trials: \", len(study.trials))\n",
        "    print(\"Best trial:\")\n",
        "    trial = study.best_trial\n",
        "    print(\"  Value: \", trial.value)\n",
        "    print(\"  Params: \")\n",
        "    for key, value in trial.params.items():\n",
        "        print(\"    {}: {}\".format(key, value))\n",
        "    print(\"-----------------------\")\n",
        "    print()"
      ]
    },
    {
      "cell_type": "markdown",
      "source": [
        "# Train k folds"
      ],
      "metadata": {
        "id": "4wRB7NzfUaFB"
      }
    },
    {
      "cell_type": "code",
      "source": [
        "kf = KFold(n_splits=5,shuffle=True,random_state=42)\n",
        "cat_features = [feat for feat in FEATS_forw if feat in cat_cols]\n",
        "text_features = [feat for feat in FEATS_forw if feat in text_col]\n",
        "k = 0\n",
        "preds = []\n",
        "models = []\n",
        "for train_index, test_index in kf.split(X):\n",
        "\n",
        "    X_train, X_test = X.loc[train_index], X.loc[test_index]\n",
        "    y_train, y_test = y.loc[train_index], y.loc[test_index]\n",
        "    train_pool = Pool(\n",
        "            X_train[FEATS_forw].values, y_train.values,\n",
        "            text_features = text_features,\n",
        "            feature_names = FEATS_forw,\n",
        "            cat_features = cat_features\n",
        "            )\n",
        "\n",
        "    validation_pool = Pool(\n",
        "                X_test[FEATS_forw].values, y_test.values,\n",
        "                text_features = text_features,\n",
        "                feature_names = FEATS_forw,\n",
        "                cat_features= cat_features\n",
        "            )\n",
        "    model = fit_model(train_pool,validation_pool,params[k])\n",
        "    preds.append(model.predict(X_test[FEATS_forw].values))\n",
        "    models.append(model)\n",
        "    k+=1\n",
        "\n"
      ],
      "metadata": {
        "collapsed": true,
        "id": "TScMkoJhMxOL",
        "colab": {
          "base_uri": "https://localhost:8080/"
        },
        "outputId": "b6aa4b9f-1125-4ec9-d733-b7841e0dacc5"
      },
      "execution_count": 198,
      "outputs": [
        {
          "output_type": "stream",
          "name": "stdout",
          "text": [
            "0:\tlearn: 0.8387841\ttest: 0.8412769\tbest: 0.8412769 (0)\ttotal: 29.2ms\tremaining: 3m 24s\n",
            "500:\tlearn: 0.4993613\ttest: 0.5041241\tbest: 0.5041241 (500)\ttotal: 10.8s\tremaining: 2m 20s\n",
            "1000:\tlearn: 0.4946804\ttest: 0.5001477\tbest: 0.5001477 (1000)\ttotal: 19.3s\tremaining: 1m 55s\n",
            "1500:\tlearn: 0.4921644\ttest: 0.4984505\tbest: 0.4984505 (1500)\ttotal: 24.4s\tremaining: 1m 29s\n",
            "2000:\tlearn: 0.4902789\ttest: 0.4973381\tbest: 0.4973381 (2000)\ttotal: 31.9s\tremaining: 1m 19s\n",
            "2500:\tlearn: 0.4887364\ttest: 0.4965230\tbest: 0.4965230 (2500)\ttotal: 36.8s\tremaining: 1m 6s\n",
            "3000:\tlearn: 0.4874007\ttest: 0.4958589\tbest: 0.4958589 (3000)\ttotal: 44.4s\tremaining: 59.2s\n",
            "3500:\tlearn: 0.4862066\ttest: 0.4953360\tbest: 0.4953360 (3500)\ttotal: 49.5s\tremaining: 49.5s\n",
            "4000:\tlearn: 0.4851002\ttest: 0.4949123\tbest: 0.4949123 (4000)\ttotal: 54.8s\tremaining: 41.1s\n",
            "4500:\tlearn: 0.4841058\ttest: 0.4945357\tbest: 0.4945357 (4500)\ttotal: 1m 2s\tremaining: 34.5s\n",
            "5000:\tlearn: 0.4831820\ttest: 0.4942123\tbest: 0.4942123 (5000)\ttotal: 1m 7s\tremaining: 26.9s\n",
            "5500:\tlearn: 0.4823140\ttest: 0.4939197\tbest: 0.4939195 (5499)\ttotal: 1m 14s\tremaining: 20.4s\n",
            "6000:\tlearn: 0.4814585\ttest: 0.4936681\tbest: 0.4936681 (6000)\ttotal: 1m 19s\tremaining: 13.3s\n",
            "6500:\tlearn: 0.4806333\ttest: 0.4934608\tbest: 0.4934608 (6500)\ttotal: 1m 28s\tremaining: 6.77s\n",
            "6999:\tlearn: 0.4798629\ttest: 0.4932484\tbest: 0.4932484 (6999)\ttotal: 1m 33s\tremaining: 0us\n",
            "bestTest = 0.4932483861\n",
            "bestIteration = 6999\n",
            "0:\tlearn: 0.8392760\ttest: 0.8392919\tbest: 0.8392919 (0)\ttotal: 29.5ms\tremaining: 3m 26s\n",
            "500:\tlearn: 0.5003668\ttest: 0.4993772\tbest: 0.4993772 (500)\ttotal: 8.03s\tremaining: 1m 44s\n",
            "1000:\tlearn: 0.4954629\ttest: 0.4959365\tbest: 0.4959365 (1000)\ttotal: 16.4s\tremaining: 1m 38s\n",
            "1500:\tlearn: 0.4928735\ttest: 0.4944782\tbest: 0.4944782 (1500)\ttotal: 21.4s\tremaining: 1m 18s\n",
            "2000:\tlearn: 0.4909720\ttest: 0.4935675\tbest: 0.4935675 (2000)\ttotal: 29s\tremaining: 1m 12s\n",
            "2500:\tlearn: 0.4894241\ttest: 0.4928978\tbest: 0.4928978 (2500)\ttotal: 33.9s\tremaining: 1m\n",
            "3000:\tlearn: 0.4880647\ttest: 0.4923447\tbest: 0.4923444 (2999)\ttotal: 41.6s\tremaining: 55.5s\n",
            "3500:\tlearn: 0.4868551\ttest: 0.4918890\tbest: 0.4918890 (3500)\ttotal: 46.6s\tremaining: 46.6s\n",
            "4000:\tlearn: 0.4857606\ttest: 0.4915130\tbest: 0.4915129 (3999)\ttotal: 54.3s\tremaining: 40.7s\n",
            "4500:\tlearn: 0.4847443\ttest: 0.4911541\tbest: 0.4911540 (4499)\ttotal: 59.2s\tremaining: 32.9s\n",
            "5000:\tlearn: 0.4837842\ttest: 0.4908677\tbest: 0.4908677 (5000)\ttotal: 1m 7s\tremaining: 26.8s\n",
            "5500:\tlearn: 0.4828694\ttest: 0.4906223\tbest: 0.4906223 (5500)\ttotal: 1m 12s\tremaining: 19.6s\n",
            "6000:\tlearn: 0.4820235\ttest: 0.4904107\tbest: 0.4904107 (6000)\ttotal: 1m 18s\tremaining: 13.1s\n",
            "6500:\tlearn: 0.4812239\ttest: 0.4902148\tbest: 0.4902148 (6500)\ttotal: 1m 24s\tremaining: 6.5s\n",
            "6999:\tlearn: 0.4804614\ttest: 0.4900418\tbest: 0.4900418 (6999)\ttotal: 1m 32s\tremaining: 0us\n",
            "bestTest = 0.490041766\n",
            "bestIteration = 6999\n",
            "0:\tlearn: 0.8393269\ttest: 0.8391017\tbest: 0.8391017 (0)\ttotal: 28.9ms\tremaining: 3m 22s\n",
            "500:\tlearn: 0.4997929\ttest: 0.5021802\tbest: 0.5021802 (500)\ttotal: 10.9s\tremaining: 2m 22s\n",
            "1000:\tlearn: 0.4950814\ttest: 0.4983296\tbest: 0.4983296 (1000)\ttotal: 16.6s\tremaining: 1m 39s\n",
            "1500:\tlearn: 0.4925474\ttest: 0.4966469\tbest: 0.4966469 (1500)\ttotal: 24.2s\tremaining: 1m 28s\n",
            "2000:\tlearn: 0.4906244\ttest: 0.4956079\tbest: 0.4956078 (1999)\ttotal: 29s\tremaining: 1m 12s\n",
            "2500:\tlearn: 0.4890589\ttest: 0.4948364\tbest: 0.4948364 (2500)\ttotal: 35.1s\tremaining: 1m 3s\n",
            "3000:\tlearn: 0.4877391\ttest: 0.4942669\tbest: 0.4942669 (3000)\ttotal: 41.5s\tremaining: 55.4s\n",
            "3500:\tlearn: 0.4865628\ttest: 0.4938239\tbest: 0.4938239 (3500)\ttotal: 46.4s\tremaining: 46.4s\n",
            "4000:\tlearn: 0.4854608\ttest: 0.4934222\tbest: 0.4934222 (4000)\ttotal: 54s\tremaining: 40.5s\n",
            "4500:\tlearn: 0.4844506\ttest: 0.4930552\tbest: 0.4930552 (4500)\ttotal: 58.9s\tremaining: 32.7s\n",
            "5000:\tlearn: 0.4834997\ttest: 0.4927462\tbest: 0.4927458 (4998)\ttotal: 1m 6s\tremaining: 26.6s\n",
            "5500:\tlearn: 0.4825896\ttest: 0.4924656\tbest: 0.4924646 (5499)\ttotal: 1m 11s\tremaining: 19.5s\n",
            "6000:\tlearn: 0.4817179\ttest: 0.4922388\tbest: 0.4922388 (6000)\ttotal: 1m 19s\tremaining: 13.2s\n",
            "6500:\tlearn: 0.4809050\ttest: 0.4920481\tbest: 0.4920479 (6495)\ttotal: 1m 24s\tremaining: 6.47s\n",
            "6999:\tlearn: 0.4801452\ttest: 0.4919182\tbest: 0.4919182 (6999)\ttotal: 1m 31s\tremaining: 0us\n",
            "bestTest = 0.4919182327\n",
            "bestIteration = 6999\n",
            "0:\tlearn: 0.8399137\ttest: 0.8368859\tbest: 0.8368859 (0)\ttotal: 28.5ms\tremaining: 3m 19s\n",
            "500:\tlearn: 0.5000934\ttest: 0.5014681\tbest: 0.5014681 (500)\ttotal: 10.8s\tremaining: 2m 19s\n",
            "1000:\tlearn: 0.4953485\ttest: 0.4974898\tbest: 0.4974898 (1000)\ttotal: 16.4s\tremaining: 1m 38s\n",
            "1500:\tlearn: 0.4928479\ttest: 0.4958684\tbest: 0.4958684 (1500)\ttotal: 24.3s\tremaining: 1m 29s\n",
            "2000:\tlearn: 0.4909383\ttest: 0.4947694\tbest: 0.4947694 (2000)\ttotal: 29.2s\tremaining: 1m 12s\n",
            "2500:\tlearn: 0.4893564\ttest: 0.4939823\tbest: 0.4939823 (2500)\ttotal: 36.8s\tremaining: 1m 6s\n",
            "3000:\tlearn: 0.4880187\ttest: 0.4933442\tbest: 0.4933442 (3000)\ttotal: 41.7s\tremaining: 55.5s\n",
            "3500:\tlearn: 0.4867988\ttest: 0.4928217\tbest: 0.4928217 (3500)\ttotal: 49.2s\tremaining: 49.1s\n",
            "4000:\tlearn: 0.4857066\ttest: 0.4923913\tbest: 0.4923913 (4000)\ttotal: 54.1s\tremaining: 40.5s\n",
            "4500:\tlearn: 0.4846853\ttest: 0.4920225\tbest: 0.4920225 (4500)\ttotal: 1m 1s\tremaining: 34.2s\n",
            "5000:\tlearn: 0.4837112\ttest: 0.4916888\tbest: 0.4916888 (5000)\ttotal: 1m 6s\tremaining: 26.7s\n",
            "5500:\tlearn: 0.4828030\ttest: 0.4914008\tbest: 0.4914008 (5500)\ttotal: 1m 12s\tremaining: 19.7s\n",
            "6000:\tlearn: 0.4819825\ttest: 0.4911614\tbest: 0.4911613 (5997)\ttotal: 1m 19s\tremaining: 13.2s\n",
            "6500:\tlearn: 0.4811743\ttest: 0.4909630\tbest: 0.4909630 (6500)\ttotal: 1m 24s\tremaining: 6.46s\n",
            "6999:\tlearn: 0.4804139\ttest: 0.4907639\tbest: 0.4907639 (6999)\ttotal: 1m 31s\tremaining: 0us\n",
            "bestTest = 0.4907639214\n",
            "bestIteration = 6999\n",
            "0:\tlearn: 0.8391310\ttest: 0.8399033\tbest: 0.8399033 (0)\ttotal: 28.9ms\tremaining: 3m 22s\n",
            "500:\tlearn: 0.5004906\ttest: 0.4995076\tbest: 0.4995076 (500)\ttotal: 10.7s\tremaining: 2m 18s\n",
            "1000:\tlearn: 0.4956574\ttest: 0.4957217\tbest: 0.4957217 (1000)\ttotal: 16.4s\tremaining: 1m 38s\n",
            "1500:\tlearn: 0.4930720\ttest: 0.4941141\tbest: 0.4941141 (1500)\ttotal: 24.1s\tremaining: 1m 28s\n",
            "2000:\tlearn: 0.4911545\ttest: 0.4931126\tbest: 0.4931123 (1999)\ttotal: 28.8s\tremaining: 1m 12s\n",
            "2500:\tlearn: 0.4896048\ttest: 0.4924043\tbest: 0.4924043 (2500)\ttotal: 36.3s\tremaining: 1m 5s\n",
            "3000:\tlearn: 0.4882720\ttest: 0.4918519\tbest: 0.4918519 (3000)\ttotal: 41s\tremaining: 54.7s\n",
            "3500:\tlearn: 0.4870519\ttest: 0.4914071\tbest: 0.4914071 (3500)\ttotal: 48.5s\tremaining: 48.5s\n",
            "4000:\tlearn: 0.4859476\ttest: 0.4910016\tbest: 0.4910016 (4000)\ttotal: 53.5s\tremaining: 40.1s\n",
            "4500:\tlearn: 0.4849432\ttest: 0.4906983\tbest: 0.4906981 (4496)\ttotal: 1m 1s\tremaining: 33.9s\n",
            "5000:\tlearn: 0.4839831\ttest: 0.4904273\tbest: 0.4904261 (4997)\ttotal: 1m 6s\tremaining: 26.4s\n",
            "5500:\tlearn: 0.4830384\ttest: 0.4901280\tbest: 0.4901276 (5499)\ttotal: 1m 14s\tremaining: 20.2s\n",
            "6000:\tlearn: 0.4822164\ttest: 0.4899294\tbest: 0.4899294 (6000)\ttotal: 1m 19s\tremaining: 13.2s\n",
            "6500:\tlearn: 0.4814163\ttest: 0.4897284\tbest: 0.4897283 (6497)\ttotal: 1m 27s\tremaining: 6.68s\n",
            "6999:\tlearn: 0.4806204\ttest: 0.4895567\tbest: 0.4895567 (6999)\ttotal: 1m 32s\tremaining: 0us\n",
            "bestTest = 0.4895566911\n",
            "bestIteration = 6999\n"
          ]
        }
      ]
    },
    {
      "cell_type": "code",
      "source": [
        "X = train_new.drop(columns = ['price', 'id'])\n",
        "y = train_new['price']\n",
        "X_train, X_test, y_train, y_test = train_test_split(X, y,random_state=42, train_size=0.8, shuffle=True)\n",
        "o = 0\n",
        "new_y = []\n",
        "for x_tr, x_val in kf.split(X):\n",
        "    new_y.extend(x_val)\n",
        "new_tar = y[np.array(new_y)]\n",
        "fin_df = pd.DataFrame()\n",
        "fin_df[\"id\"] = new_y\n",
        "fin_df[\"target\"] = new_tar.values\n",
        "feats = []\n",
        "\n",
        "for x_tr, x_val in kf.split(X):\n",
        "    new_df_train = pd.DataFrame()\n",
        "    new_df_train[\"id\"] = np.array(x_val)\n",
        "    new_df_train[f\"score_{o}\"] = preds[o]\n",
        "    feats.append(f\"score_{o}\")\n",
        "    o+=1\n",
        "    fin_df =fin_df.merge(new_df_train,on=\"id\",how=\"left\")\n",
        "\n",
        "for i in feats:\n",
        "    fin_df[i].fillna(-1.,inplace=True)"
      ],
      "metadata": {
        "id": "4t_C1ylkhSF7"
      },
      "execution_count": 199,
      "outputs": []
    },
    {
      "cell_type": "code",
      "source": [
        "fin_df2 = fin_df.merge(train_new[[\"id\"] + FEATS_forw],on=\"id\",how=\"inner\")\n",
        "\n",
        "X = fin_df2.copy()\n",
        "y = fin_df2['target']\n",
        "X_train, X_test, y_train, y_test = train_test_split(X, y,random_state=41, train_size=0.8, shuffle=True)"
      ],
      "metadata": {
        "id": "upH5XkvwQXMB"
      },
      "execution_count": 200,
      "outputs": []
    },
    {
      "cell_type": "markdown",
      "source": [
        "# Optune meta model"
      ],
      "metadata": {
        "id": "1Fkkt_J9UfIf"
      }
    },
    {
      "cell_type": "code",
      "source": [
        "from sklearn.metrics import mean_squared_error\n",
        "\n",
        "def objective(trial):\n",
        "    # Определение гиперпараметров\n",
        "    model = CatBoostRegressor(\n",
        "        objective = trial.suggest_categorical(\"objective\", [\"RMSE\"]),\n",
        "        iterations=trial.suggest_int(\"iterations\", 1000, 5000),\n",
        "        learning_rate=trial.suggest_float(\"learning_rate\", 1e-3, 1e-1, log=True),\n",
        "        depth=trial.suggest_int(\"depth\", 4, 10),\n",
        "        l2_leaf_reg=trial.suggest_float(\"l2_leaf_reg\", 1e-8, 100.0, log=True),\n",
        "        # bootstrap_type=trial.suggest_categorical(\"bootstrap_type\", [\"Bayesian\"]),\n",
        "        random_strength=trial.suggest_float(\"random_strength\", 1e-8, 10.0, log=True),\n",
        "        bagging_temperature=trial.suggest_float(\"bagging_temperature\", 0.0, 10.0),\n",
        "        od_type=trial.suggest_categorical(\"od_type\", [\"IncToDec\", \"Iter\"]),\n",
        "        od_wait=trial.suggest_int(\"od_wait\", 50, 60),\n",
        "        verbose=False,\n",
        "        task_type=\"GPU\"\n",
        "    )\n",
        "\n",
        "    # Обучение модели\n",
        "    model.fit(train_pool,eval_set=validation_pool, verbose=False)\n",
        "\n",
        "    # Предсказания\n",
        "    y_train_pred = model.predict(X_train[final_feats])\n",
        "    y_val_pred = model.predict(X_test[final_feats])\n",
        "\n",
        "    # Вычисление ошибок\n",
        "    train_rmse = mean_squared_error(y_train.values, y_train_pred, squared=False)\n",
        "    val_rmse = mean_squared_error(y_test.values, y_val_pred, squared=False)\n",
        "\n",
        "    # Учет переобучения\n",
        "    score = 100000000 if val_rmse/train_rmse>1.1 else val_rmse\n",
        "\n",
        "    return score"
      ],
      "metadata": {
        "id": "R_GvETaCQ7Bk"
      },
      "execution_count": 98,
      "outputs": []
    },
    {
      "cell_type": "code",
      "source": [
        "final_feats = feats+FEATS_forw\n",
        "cat_features = [feat for feat in final_feats if feat in cat_cols]\n",
        "text_features = [feat for feat in final_feats if feat in text_col]\n",
        "train_pool = Pool(\n",
        "        X_train[final_feats].values, y_train.values,\n",
        "            text_features = text_features,\n",
        "            feature_names = final_feats,\n",
        "            cat_features = cat_features\n",
        "        )\n",
        "\n",
        "validation_pool = Pool(\n",
        "            X_test[final_feats].values, y_test.values,\n",
        "            text_features = text_features,\n",
        "            feature_names = final_feats,\n",
        "            cat_features = cat_features\n",
        "        )\n",
        "sampler = TPESampler(seed=1)\n",
        "study = optuna.create_study(study_name=f\"catboost{k}\", direction=\"minimize\", sampler=sampler)\n",
        "study.optimize(objective, n_trials=50)\n",
        "print(\"Model is: \",k)\n",
        "print(\"Number of finished trials: \", len(study.trials))\n",
        "print(\"Best trial:\")\n",
        "trial = study.best_trial\n",
        "print(\"  Value: \", trial.value)\n",
        "print(\"  Params: \")\n",
        "for key, value in trial.params.items():\n",
        "    print(\"    {}: {}\".format(key, value))\n",
        "print(\"-----------------------\")\n",
        "print()"
      ],
      "metadata": {
        "colab": {
          "base_uri": "https://localhost:8080/",
          "height": 1000
        },
        "id": "xRCX8pVuP_Ht",
        "outputId": "253b2de9-6a65-4da7-afc8-65003051471b"
      },
      "execution_count": null,
      "outputs": [
        {
          "output_type": "stream",
          "name": "stderr",
          "text": [
            "[I 2024-11-30 15:07:39,604] A new study created in memory with name: catboost5\n",
            "[I 2024-11-30 15:07:42,680] Trial 0 finished with value: 0.8461967093243128 and parameters: {'objective': 'RMSE', 'iterations': 534, 'learning_rate': 0.027583475549166746, 'depth': 4, 'l2_leaf_reg': 1.0551779964424746e-05, 'random_strength': 2.0931628460945333e-07, 'bagging_temperature': 0.923385947687978, 'od_type': 'Iter', 'od_wait': 26}. Best is trial 0 with value: 0.8461967093243128.\n",
            "[I 2024-11-30 15:08:00,334] Trial 1 finished with value: 0.8461993985687286 and parameters: {'objective': 'RMSE', 'iterations': 631, 'learning_rate': 0.006892694481137703, 'depth': 8, 'l2_leaf_reg': 1.10795595820296e-06, 'random_strength': 0.7999391045172093, 'bagging_temperature': 0.27387593197926163, 'od_type': 'IncToDec', 'od_wait': 32}. Best is trial 0 with value: 0.8461967093243128.\n",
            "[I 2024-11-30 15:08:05,153] Trial 2 finished with value: 0.8461996474308319 and parameters: {'objective': 'RMSE', 'iterations': 312, 'learning_rate': 0.002490020818620744, 'depth': 9, 'l2_leaf_reg': 48.15215820395775, 'random_strength': 6.6193844201488494e-06, 'bagging_temperature': 6.923226156693141, 'od_type': 'Iter', 'od_wait': 13}. Best is trial 0 with value: 0.8461967093243128.\n",
            "[I 2024-11-30 15:08:08,679] Trial 3 finished with value: 0.8461995925406874 and parameters: {'objective': 'RMSE', 'iterations': 231, 'learning_rate': 0.002186053765545967, 'depth': 10, 'l2_leaf_reg': 9.62649829692002e-08, 'random_strength': 6.165504584878686e-05, 'bagging_temperature': 9.57889530150502, 'od_type': 'Iter', 'od_wait': 22}. Best is trial 0 with value: 0.8461967093243128.\n",
            "[I 2024-11-30 15:08:11,549] Trial 4 finished with value: 0.8461981164826773 and parameters: {'objective': 'RMSE', 'iterations': 749, 'learning_rate': 0.0466929533152365, 'depth': 4, 'l2_leaf_reg': 0.31728033064508887, 'random_strength': 7.938707489172784, 'bagging_temperature': 7.481656543798394, 'od_type': 'Iter', 'od_wait': 14}. Best is trial 0 with value: 0.8461967093243128.\n",
            "[I 2024-11-30 15:08:23,166] Trial 5 finished with value: 0.8461917831921166 and parameters: {'objective': 'RMSE', 'iterations': 558, 'learning_rate': 0.06564339077069614, 'depth': 6, 'l2_leaf_reg': 7.546635702360232e-06, 'random_strength': 1.4799844388224288e-07, 'bagging_temperature': 0.19366957870297075, 'od_type': 'IncToDec', 'od_wait': 20}. Best is trial 5 with value: 0.8461917831921166.\n",
            "[I 2024-11-30 15:08:26,655] Trial 6 finished with value: 0.8461995678601817 and parameters: {'objective': 'RMSE', 'iterations': 593, 'learning_rate': 0.001278571708054608, 'depth': 8, 'l2_leaf_reg': 2.9328222947799687e-07, 'random_strength': 0.0020125646126523387, 'bagging_temperature': 6.997583600209312, 'od_type': 'Iter', 'od_wait': 38}. Best is trial 5 with value: 0.8461917831921166.\n",
            "[I 2024-11-30 15:08:30,785] Trial 7 finished with value: 0.8461993547274291 and parameters: {'objective': 'RMSE', 'iterations': 531, 'learning_rate': 0.0012586556158866136, 'depth': 7, 'l2_leaf_reg': 0.043445665307147247, 'random_strength': 0.00043052860159544285, 'bagging_temperature': 9.445947559908133, 'od_type': 'Iter', 'od_wait': 15}. Best is trial 5 with value: 0.8461917831921166.\n",
            "[I 2024-11-30 15:08:37,334] Trial 8 finished with value: 0.8461941612800372 and parameters: {'objective': 'RMSE', 'iterations': 311, 'learning_rate': 0.04118912607048067, 'depth': 6, 'l2_leaf_reg': 4.503415011735204e-07, 'random_strength': 2.226266870634716, 'bagging_temperature': 3.477658597455066, 'od_type': 'IncToDec', 'od_wait': 46}. Best is trial 5 with value: 0.8461917831921166.\n",
            "[I 2024-11-30 15:08:49,203] Trial 9 finished with value: 0.8461810927134389 and parameters: {'objective': 'RMSE', 'iterations': 699, 'learning_rate': 0.03176031989459053, 'depth': 6, 'l2_leaf_reg': 5.003557761128302e-06, 'random_strength': 1.1560482583788434, 'bagging_temperature': 4.280911898712949, 'od_type': 'IncToDec', 'od_wait': 35}. Best is trial 9 with value: 0.8461810927134389.\n",
            "[I 2024-11-30 15:09:02,384] Trial 10 finished with value: 0.8461954899885009 and parameters: {'objective': 'RMSE', 'iterations': 989, 'learning_rate': 0.014145779554324027, 'depth': 5, 'l2_leaf_reg': 0.0002688412453347392, 'random_strength': 0.016406569632049138, 'bagging_temperature': 3.490646846694097, 'od_type': 'IncToDec', 'od_wait': 50}. Best is trial 9 with value: 0.8461810927134389.\n",
            "[I 2024-11-30 15:09:15,635] Trial 11 finished with value: 0.8461921028764035 and parameters: {'objective': 'RMSE', 'iterations': 798, 'learning_rate': 0.0934373315038446, 'depth': 6, 'l2_leaf_reg': 0.00012549243235547819, 'random_strength': 4.8249109328417156e-08, 'bagging_temperature': 1.9434668199771346, 'od_type': 'IncToDec', 'od_wait': 34}. Best is trial 9 with value: 0.8461810927134389.\n",
            "[I 2024-11-30 15:09:28,037] Trial 12 finished with value: 0.8461937946799644 and parameters: {'objective': 'RMSE', 'iterations': 765, 'learning_rate': 0.09491595798653642, 'depth': 6, 'l2_leaf_reg': 1.4313774494665507e-08, 'random_strength': 0.06213937973686279, 'bagging_temperature': 4.741886304514138, 'od_type': 'IncToDec', 'od_wait': 22}. Best is trial 9 with value: 0.8461810927134389.\n",
            "[I 2024-11-30 15:09:37,562] Trial 13 finished with value: 0.8461780975827395 and parameters: {'objective': 'RMSE', 'iterations': 468, 'learning_rate': 0.017035043112882068, 'depth': 7, 'l2_leaf_reg': 1.4141980715414342e-05, 'random_strength': 2.101084772010327e-06, 'bagging_temperature': 2.839482362872184, 'od_type': 'IncToDec', 'od_wait': 41}. Best is trial 13 with value: 0.8461780975827395.\n",
            "[I 2024-11-30 15:09:46,044] Trial 14 finished with value: 0.8461916456593493 and parameters: {'objective': 'RMSE', 'iterations': 423, 'learning_rate': 0.015294254176537634, 'depth': 7, 'l2_leaf_reg': 0.001054358964380469, 'random_strength': 9.853783036647294e-06, 'bagging_temperature': 3.025994422632837, 'od_type': 'IncToDec', 'od_wait': 41}. Best is trial 13 with value: 0.8461780975827395.\n",
            "[I 2024-11-30 15:10:05,898] Trial 15 finished with value: 0.8461979492188854 and parameters: {'objective': 'RMSE', 'iterations': 897, 'learning_rate': 0.0062483855785568304, 'depth': 8, 'l2_leaf_reg': 0.007093656498663371, 'random_strength': 2.3899678513279876e-06, 'bagging_temperature': 5.383687532817211, 'od_type': 'IncToDec', 'od_wait': 41}. Best is trial 13 with value: 0.8461780975827395.\n",
            "[I 2024-11-30 15:10:12,256] Trial 16 finished with value: 0.8461895853321764 and parameters: {'objective': 'RMSE', 'iterations': 437, 'learning_rate': 0.024100547272245112, 'depth': 5, 'l2_leaf_reg': 1.5533259311262982e-05, 'random_strength': 0.09206235690155616, 'bagging_temperature': 4.8173507289824755, 'od_type': 'IncToDec', 'od_wait': 36}. Best is trial 13 with value: 0.8461780975827395.\n",
            "[I 2024-11-30 15:10:23,727] Trial 17 finished with value: 0.8461908547918852 and parameters: {'objective': 'RMSE', 'iterations': 679, 'learning_rate': 0.008144200454790593, 'depth': 5, 'l2_leaf_reg': 1.5724904752075954, 'random_strength': 1.025438531968325e-08, 'bagging_temperature': 2.175010037701278, 'od_type': 'IncToDec', 'od_wait': 28}. Best is trial 13 with value: 0.8461780975827395.\n",
            "[W 2024-11-30 15:10:34,503] Trial 18 failed with parameters: {'objective': 'RMSE', 'iterations': 450, 'learning_rate': 0.02174158751191354, 'depth': 7, 'l2_leaf_reg': 6.543939206454898e-05, 'random_strength': 0.0022107588136713943, 'bagging_temperature': 5.490398307407938, 'od_type': 'IncToDec', 'od_wait': 43} because of the following error: KeyboardInterrupt().\n",
            "Traceback (most recent call last):\n",
            "  File \"/usr/local/lib/python3.10/dist-packages/optuna/study/_optimize.py\", line 197, in _run_trial\n",
            "    value_or_values = func(trial)\n",
            "  File \"<ipython-input-102-7337f8119908>\", line 25, in objective\n",
            "    y_val_pred = model.predict(X_test[final_feats])\n",
            "  File \"/usr/local/lib/python3.10/dist-packages/catboost/core.py\", line 5924, in predict\n",
            "    return self._predict(data, prediction_type, ntree_start, ntree_end, thread_count, verbose, 'predict', task_type)\n",
            "  File \"/usr/local/lib/python3.10/dist-packages/catboost/core.py\", line 2620, in _predict\n",
            "    data, data_is_single_object = self._process_predict_input_data(data, parent_method_name, thread_count)\n",
            "  File \"/usr/local/lib/python3.10/dist-packages/catboost/core.py\", line 2600, in _process_predict_input_data\n",
            "    data = Pool(\n",
            "  File \"/usr/local/lib/python3.10/dist-packages/catboost/core.py\", line 855, in __init__\n",
            "    self._init(data, label, cat_features, text_features, embedding_features, embedding_features_data, pairs, graph, weight,\n",
            "  File \"/usr/local/lib/python3.10/dist-packages/catboost/core.py\", line 1491, in _init\n",
            "    self._init_pool(data, label, cat_features, text_features, embedding_features, embedding_features_data, pairs, graph, weight,\n",
            "  File \"_catboost.pyx\", line 4339, in _catboost._PoolBase._init_pool\n",
            "  File \"_catboost.pyx\", line 4391, in _catboost._PoolBase._init_pool\n",
            "  File \"_catboost.pyx\", line 4200, in _catboost._PoolBase._init_features_order_layout_pool\n",
            "  File \"_catboost.pyx\", line 3069, in _catboost._set_features_order_data_pd_data_frame\n",
            "  File \"/usr/local/lib/python3.10/dist-packages/pandas/core/frame.py\", line 1500, in items\n",
            "    yield k, self._get_item_cache(k)\n",
            "KeyboardInterrupt\n",
            "[W 2024-11-30 15:10:34,504] Trial 18 failed with value None.\n"
          ]
        },
        {
          "output_type": "error",
          "ename": "KeyboardInterrupt",
          "evalue": "",
          "traceback": [
            "\u001b[0;31m---------------------------------------------------------------------------\u001b[0m",
            "\u001b[0;31mKeyboardInterrupt\u001b[0m                         Traceback (most recent call last)",
            "\u001b[0;32m<ipython-input-103-69a20805d889>\u001b[0m in \u001b[0;36m<cell line: 19>\u001b[0;34m()\u001b[0m\n\u001b[1;32m     17\u001b[0m \u001b[0msampler\u001b[0m \u001b[0;34m=\u001b[0m \u001b[0mTPESampler\u001b[0m\u001b[0;34m(\u001b[0m\u001b[0mseed\u001b[0m\u001b[0;34m=\u001b[0m\u001b[0;36m1\u001b[0m\u001b[0;34m)\u001b[0m\u001b[0;34m\u001b[0m\u001b[0;34m\u001b[0m\u001b[0m\n\u001b[1;32m     18\u001b[0m \u001b[0mstudy\u001b[0m \u001b[0;34m=\u001b[0m \u001b[0moptuna\u001b[0m\u001b[0;34m.\u001b[0m\u001b[0mcreate_study\u001b[0m\u001b[0;34m(\u001b[0m\u001b[0mstudy_name\u001b[0m\u001b[0;34m=\u001b[0m\u001b[0;34mf\"catboost{k}\"\u001b[0m\u001b[0;34m,\u001b[0m \u001b[0mdirection\u001b[0m\u001b[0;34m=\u001b[0m\u001b[0;34m\"minimize\"\u001b[0m\u001b[0;34m,\u001b[0m \u001b[0msampler\u001b[0m\u001b[0;34m=\u001b[0m\u001b[0msampler\u001b[0m\u001b[0;34m)\u001b[0m\u001b[0;34m\u001b[0m\u001b[0;34m\u001b[0m\u001b[0m\n\u001b[0;32m---> 19\u001b[0;31m \u001b[0mstudy\u001b[0m\u001b[0;34m.\u001b[0m\u001b[0moptimize\u001b[0m\u001b[0;34m(\u001b[0m\u001b[0mobjective\u001b[0m\u001b[0;34m,\u001b[0m \u001b[0mn_trials\u001b[0m\u001b[0;34m=\u001b[0m\u001b[0;36m50\u001b[0m\u001b[0;34m)\u001b[0m\u001b[0;34m\u001b[0m\u001b[0;34m\u001b[0m\u001b[0m\n\u001b[0m\u001b[1;32m     20\u001b[0m \u001b[0mprint\u001b[0m\u001b[0;34m(\u001b[0m\u001b[0;34m\"Model is: \"\u001b[0m\u001b[0;34m,\u001b[0m\u001b[0mk\u001b[0m\u001b[0;34m)\u001b[0m\u001b[0;34m\u001b[0m\u001b[0;34m\u001b[0m\u001b[0m\n\u001b[1;32m     21\u001b[0m \u001b[0mprint\u001b[0m\u001b[0;34m(\u001b[0m\u001b[0;34m\"Number of finished trials: \"\u001b[0m\u001b[0;34m,\u001b[0m \u001b[0mlen\u001b[0m\u001b[0;34m(\u001b[0m\u001b[0mstudy\u001b[0m\u001b[0;34m.\u001b[0m\u001b[0mtrials\u001b[0m\u001b[0;34m)\u001b[0m\u001b[0;34m)\u001b[0m\u001b[0;34m\u001b[0m\u001b[0;34m\u001b[0m\u001b[0m\n",
            "\u001b[0;32m/usr/local/lib/python3.10/dist-packages/optuna/study/study.py\u001b[0m in \u001b[0;36moptimize\u001b[0;34m(self, func, n_trials, timeout, n_jobs, catch, callbacks, gc_after_trial, show_progress_bar)\u001b[0m\n\u001b[1;32m    473\u001b[0m                 \u001b[0mIf\u001b[0m \u001b[0mnested\u001b[0m \u001b[0minvocation\u001b[0m \u001b[0mof\u001b[0m \u001b[0mthis\u001b[0m \u001b[0mmethod\u001b[0m \u001b[0moccurs\u001b[0m\u001b[0;34m.\u001b[0m\u001b[0;34m\u001b[0m\u001b[0;34m\u001b[0m\u001b[0m\n\u001b[1;32m    474\u001b[0m         \"\"\"\n\u001b[0;32m--> 475\u001b[0;31m         _optimize(\n\u001b[0m\u001b[1;32m    476\u001b[0m             \u001b[0mstudy\u001b[0m\u001b[0;34m=\u001b[0m\u001b[0mself\u001b[0m\u001b[0;34m,\u001b[0m\u001b[0;34m\u001b[0m\u001b[0;34m\u001b[0m\u001b[0m\n\u001b[1;32m    477\u001b[0m             \u001b[0mfunc\u001b[0m\u001b[0;34m=\u001b[0m\u001b[0mfunc\u001b[0m\u001b[0;34m,\u001b[0m\u001b[0;34m\u001b[0m\u001b[0;34m\u001b[0m\u001b[0m\n",
            "\u001b[0;32m/usr/local/lib/python3.10/dist-packages/optuna/study/_optimize.py\u001b[0m in \u001b[0;36m_optimize\u001b[0;34m(study, func, n_trials, timeout, n_jobs, catch, callbacks, gc_after_trial, show_progress_bar)\u001b[0m\n\u001b[1;32m     61\u001b[0m     \u001b[0;32mtry\u001b[0m\u001b[0;34m:\u001b[0m\u001b[0;34m\u001b[0m\u001b[0;34m\u001b[0m\u001b[0m\n\u001b[1;32m     62\u001b[0m         \u001b[0;32mif\u001b[0m \u001b[0mn_jobs\u001b[0m \u001b[0;34m==\u001b[0m \u001b[0;36m1\u001b[0m\u001b[0;34m:\u001b[0m\u001b[0;34m\u001b[0m\u001b[0;34m\u001b[0m\u001b[0m\n\u001b[0;32m---> 63\u001b[0;31m             _optimize_sequential(\n\u001b[0m\u001b[1;32m     64\u001b[0m                 \u001b[0mstudy\u001b[0m\u001b[0;34m,\u001b[0m\u001b[0;34m\u001b[0m\u001b[0;34m\u001b[0m\u001b[0m\n\u001b[1;32m     65\u001b[0m                 \u001b[0mfunc\u001b[0m\u001b[0;34m,\u001b[0m\u001b[0;34m\u001b[0m\u001b[0;34m\u001b[0m\u001b[0m\n",
            "\u001b[0;32m/usr/local/lib/python3.10/dist-packages/optuna/study/_optimize.py\u001b[0m in \u001b[0;36m_optimize_sequential\u001b[0;34m(study, func, n_trials, timeout, catch, callbacks, gc_after_trial, reseed_sampler_rng, time_start, progress_bar)\u001b[0m\n\u001b[1;32m    158\u001b[0m \u001b[0;34m\u001b[0m\u001b[0m\n\u001b[1;32m    159\u001b[0m         \u001b[0;32mtry\u001b[0m\u001b[0;34m:\u001b[0m\u001b[0;34m\u001b[0m\u001b[0;34m\u001b[0m\u001b[0m\n\u001b[0;32m--> 160\u001b[0;31m             \u001b[0mfrozen_trial\u001b[0m \u001b[0;34m=\u001b[0m \u001b[0m_run_trial\u001b[0m\u001b[0;34m(\u001b[0m\u001b[0mstudy\u001b[0m\u001b[0;34m,\u001b[0m \u001b[0mfunc\u001b[0m\u001b[0;34m,\u001b[0m \u001b[0mcatch\u001b[0m\u001b[0;34m)\u001b[0m\u001b[0;34m\u001b[0m\u001b[0;34m\u001b[0m\u001b[0m\n\u001b[0m\u001b[1;32m    161\u001b[0m         \u001b[0;32mfinally\u001b[0m\u001b[0;34m:\u001b[0m\u001b[0;34m\u001b[0m\u001b[0;34m\u001b[0m\u001b[0m\n\u001b[1;32m    162\u001b[0m             \u001b[0;31m# The following line mitigates memory problems that can be occurred in some\u001b[0m\u001b[0;34m\u001b[0m\u001b[0;34m\u001b[0m\u001b[0m\n",
            "\u001b[0;32m/usr/local/lib/python3.10/dist-packages/optuna/study/_optimize.py\u001b[0m in \u001b[0;36m_run_trial\u001b[0;34m(study, func, catch)\u001b[0m\n\u001b[1;32m    246\u001b[0m         \u001b[0;32mand\u001b[0m \u001b[0;32mnot\u001b[0m \u001b[0misinstance\u001b[0m\u001b[0;34m(\u001b[0m\u001b[0mfunc_err\u001b[0m\u001b[0;34m,\u001b[0m \u001b[0mcatch\u001b[0m\u001b[0;34m)\u001b[0m\u001b[0;34m\u001b[0m\u001b[0;34m\u001b[0m\u001b[0m\n\u001b[1;32m    247\u001b[0m     ):\n\u001b[0;32m--> 248\u001b[0;31m         \u001b[0;32mraise\u001b[0m \u001b[0mfunc_err\u001b[0m\u001b[0;34m\u001b[0m\u001b[0;34m\u001b[0m\u001b[0m\n\u001b[0m\u001b[1;32m    249\u001b[0m     \u001b[0;32mreturn\u001b[0m \u001b[0mfrozen_trial\u001b[0m\u001b[0;34m\u001b[0m\u001b[0;34m\u001b[0m\u001b[0m\n\u001b[1;32m    250\u001b[0m \u001b[0;34m\u001b[0m\u001b[0m\n",
            "\u001b[0;32m/usr/local/lib/python3.10/dist-packages/optuna/study/_optimize.py\u001b[0m in \u001b[0;36m_run_trial\u001b[0;34m(study, func, catch)\u001b[0m\n\u001b[1;32m    195\u001b[0m     \u001b[0;32mwith\u001b[0m \u001b[0mget_heartbeat_thread\u001b[0m\u001b[0;34m(\u001b[0m\u001b[0mtrial\u001b[0m\u001b[0;34m.\u001b[0m\u001b[0m_trial_id\u001b[0m\u001b[0;34m,\u001b[0m \u001b[0mstudy\u001b[0m\u001b[0;34m.\u001b[0m\u001b[0m_storage\u001b[0m\u001b[0;34m)\u001b[0m\u001b[0;34m:\u001b[0m\u001b[0;34m\u001b[0m\u001b[0;34m\u001b[0m\u001b[0m\n\u001b[1;32m    196\u001b[0m         \u001b[0;32mtry\u001b[0m\u001b[0;34m:\u001b[0m\u001b[0;34m\u001b[0m\u001b[0;34m\u001b[0m\u001b[0m\n\u001b[0;32m--> 197\u001b[0;31m             \u001b[0mvalue_or_values\u001b[0m \u001b[0;34m=\u001b[0m \u001b[0mfunc\u001b[0m\u001b[0;34m(\u001b[0m\u001b[0mtrial\u001b[0m\u001b[0;34m)\u001b[0m\u001b[0;34m\u001b[0m\u001b[0;34m\u001b[0m\u001b[0m\n\u001b[0m\u001b[1;32m    198\u001b[0m         \u001b[0;32mexcept\u001b[0m \u001b[0mexceptions\u001b[0m\u001b[0;34m.\u001b[0m\u001b[0mTrialPruned\u001b[0m \u001b[0;32mas\u001b[0m \u001b[0me\u001b[0m\u001b[0;34m:\u001b[0m\u001b[0;34m\u001b[0m\u001b[0;34m\u001b[0m\u001b[0m\n\u001b[1;32m    199\u001b[0m             \u001b[0;31m# TODO(mamu): Handle multi-objective cases.\u001b[0m\u001b[0;34m\u001b[0m\u001b[0;34m\u001b[0m\u001b[0m\n",
            "\u001b[0;32m<ipython-input-102-7337f8119908>\u001b[0m in \u001b[0;36mobjective\u001b[0;34m(trial)\u001b[0m\n\u001b[1;32m     23\u001b[0m     \u001b[0;31m# Предсказания\u001b[0m\u001b[0;34m\u001b[0m\u001b[0;34m\u001b[0m\u001b[0m\n\u001b[1;32m     24\u001b[0m     \u001b[0my_train_pred\u001b[0m \u001b[0;34m=\u001b[0m \u001b[0mmodel\u001b[0m\u001b[0;34m.\u001b[0m\u001b[0mpredict\u001b[0m\u001b[0;34m(\u001b[0m\u001b[0mX_train\u001b[0m\u001b[0;34m[\u001b[0m\u001b[0mfinal_feats\u001b[0m\u001b[0;34m]\u001b[0m\u001b[0;34m)\u001b[0m\u001b[0;34m\u001b[0m\u001b[0;34m\u001b[0m\u001b[0m\n\u001b[0;32m---> 25\u001b[0;31m     \u001b[0my_val_pred\u001b[0m \u001b[0;34m=\u001b[0m \u001b[0mmodel\u001b[0m\u001b[0;34m.\u001b[0m\u001b[0mpredict\u001b[0m\u001b[0;34m(\u001b[0m\u001b[0mX_test\u001b[0m\u001b[0;34m[\u001b[0m\u001b[0mfinal_feats\u001b[0m\u001b[0;34m]\u001b[0m\u001b[0;34m)\u001b[0m\u001b[0;34m\u001b[0m\u001b[0;34m\u001b[0m\u001b[0m\n\u001b[0m\u001b[1;32m     26\u001b[0m \u001b[0;34m\u001b[0m\u001b[0m\n\u001b[1;32m     27\u001b[0m     \u001b[0;31m# Вычисление ошибок\u001b[0m\u001b[0;34m\u001b[0m\u001b[0;34m\u001b[0m\u001b[0m\n",
            "\u001b[0;32m/usr/local/lib/python3.10/dist-packages/catboost/core.py\u001b[0m in \u001b[0;36mpredict\u001b[0;34m(self, data, prediction_type, ntree_start, ntree_end, thread_count, verbose, task_type)\u001b[0m\n\u001b[1;32m   5922\u001b[0m         \u001b[0;32mif\u001b[0m \u001b[0mprediction_type\u001b[0m \u001b[0;32mis\u001b[0m \u001b[0;32mNone\u001b[0m\u001b[0;34m:\u001b[0m\u001b[0;34m\u001b[0m\u001b[0;34m\u001b[0m\u001b[0m\n\u001b[1;32m   5923\u001b[0m             \u001b[0mprediction_type\u001b[0m \u001b[0;34m=\u001b[0m \u001b[0mself\u001b[0m\u001b[0;34m.\u001b[0m\u001b[0m_get_default_prediction_type\u001b[0m\u001b[0;34m(\u001b[0m\u001b[0;34m)\u001b[0m\u001b[0;34m\u001b[0m\u001b[0;34m\u001b[0m\u001b[0m\n\u001b[0;32m-> 5924\u001b[0;31m         \u001b[0;32mreturn\u001b[0m \u001b[0mself\u001b[0m\u001b[0;34m.\u001b[0m\u001b[0m_predict\u001b[0m\u001b[0;34m(\u001b[0m\u001b[0mdata\u001b[0m\u001b[0;34m,\u001b[0m \u001b[0mprediction_type\u001b[0m\u001b[0;34m,\u001b[0m \u001b[0mntree_start\u001b[0m\u001b[0;34m,\u001b[0m \u001b[0mntree_end\u001b[0m\u001b[0;34m,\u001b[0m \u001b[0mthread_count\u001b[0m\u001b[0;34m,\u001b[0m \u001b[0mverbose\u001b[0m\u001b[0;34m,\u001b[0m \u001b[0;34m'predict'\u001b[0m\u001b[0;34m,\u001b[0m \u001b[0mtask_type\u001b[0m\u001b[0;34m)\u001b[0m\u001b[0;34m\u001b[0m\u001b[0;34m\u001b[0m\u001b[0m\n\u001b[0m\u001b[1;32m   5925\u001b[0m \u001b[0;34m\u001b[0m\u001b[0m\n\u001b[1;32m   5926\u001b[0m     \u001b[0;32mdef\u001b[0m \u001b[0mstaged_predict\u001b[0m\u001b[0;34m(\u001b[0m\u001b[0mself\u001b[0m\u001b[0;34m,\u001b[0m \u001b[0mdata\u001b[0m\u001b[0;34m,\u001b[0m \u001b[0mprediction_type\u001b[0m\u001b[0;34m=\u001b[0m\u001b[0;34m'RawFormulaVal'\u001b[0m\u001b[0;34m,\u001b[0m \u001b[0mntree_start\u001b[0m\u001b[0;34m=\u001b[0m\u001b[0;36m0\u001b[0m\u001b[0;34m,\u001b[0m \u001b[0mntree_end\u001b[0m\u001b[0;34m=\u001b[0m\u001b[0;36m0\u001b[0m\u001b[0;34m,\u001b[0m \u001b[0meval_period\u001b[0m\u001b[0;34m=\u001b[0m\u001b[0;36m1\u001b[0m\u001b[0;34m,\u001b[0m \u001b[0mthread_count\u001b[0m\u001b[0;34m=\u001b[0m\u001b[0;34m-\u001b[0m\u001b[0;36m1\u001b[0m\u001b[0;34m,\u001b[0m \u001b[0mverbose\u001b[0m\u001b[0;34m=\u001b[0m\u001b[0;32mNone\u001b[0m\u001b[0;34m)\u001b[0m\u001b[0;34m:\u001b[0m\u001b[0;34m\u001b[0m\u001b[0;34m\u001b[0m\u001b[0m\n",
            "\u001b[0;32m/usr/local/lib/python3.10/dist-packages/catboost/core.py\u001b[0m in \u001b[0;36m_predict\u001b[0;34m(self, data, prediction_type, ntree_start, ntree_end, thread_count, verbose, parent_method_name, task_type)\u001b[0m\n\u001b[1;32m   2618\u001b[0m         \u001b[0;32mif\u001b[0m \u001b[0mverbose\u001b[0m \u001b[0;32mis\u001b[0m \u001b[0;32mNone\u001b[0m\u001b[0;34m:\u001b[0m\u001b[0;34m\u001b[0m\u001b[0;34m\u001b[0m\u001b[0m\n\u001b[1;32m   2619\u001b[0m             \u001b[0mverbose\u001b[0m \u001b[0;34m=\u001b[0m \u001b[0;32mFalse\u001b[0m\u001b[0;34m\u001b[0m\u001b[0;34m\u001b[0m\u001b[0m\n\u001b[0;32m-> 2620\u001b[0;31m         \u001b[0mdata\u001b[0m\u001b[0;34m,\u001b[0m \u001b[0mdata_is_single_object\u001b[0m \u001b[0;34m=\u001b[0m \u001b[0mself\u001b[0m\u001b[0;34m.\u001b[0m\u001b[0m_process_predict_input_data\u001b[0m\u001b[0;34m(\u001b[0m\u001b[0mdata\u001b[0m\u001b[0;34m,\u001b[0m \u001b[0mparent_method_name\u001b[0m\u001b[0;34m,\u001b[0m \u001b[0mthread_count\u001b[0m\u001b[0;34m)\u001b[0m\u001b[0;34m\u001b[0m\u001b[0;34m\u001b[0m\u001b[0m\n\u001b[0m\u001b[1;32m   2621\u001b[0m         \u001b[0mself\u001b[0m\u001b[0;34m.\u001b[0m\u001b[0m_validate_prediction_type\u001b[0m\u001b[0;34m(\u001b[0m\u001b[0mprediction_type\u001b[0m\u001b[0;34m)\u001b[0m\u001b[0;34m\u001b[0m\u001b[0;34m\u001b[0m\u001b[0m\n\u001b[1;32m   2622\u001b[0m \u001b[0;34m\u001b[0m\u001b[0m\n",
            "\u001b[0;32m/usr/local/lib/python3.10/dist-packages/catboost/core.py\u001b[0m in \u001b[0;36m_process_predict_input_data\u001b[0;34m(self, data, parent_method_name, thread_count, label)\u001b[0m\n\u001b[1;32m   2598\u001b[0m         \u001b[0mis_single_object\u001b[0m \u001b[0;34m=\u001b[0m \u001b[0m_is_data_single_object\u001b[0m\u001b[0;34m(\u001b[0m\u001b[0mdata\u001b[0m\u001b[0;34m)\u001b[0m\u001b[0;34m\u001b[0m\u001b[0;34m\u001b[0m\u001b[0m\n\u001b[1;32m   2599\u001b[0m         \u001b[0;32mif\u001b[0m \u001b[0;32mnot\u001b[0m \u001b[0misinstance\u001b[0m\u001b[0;34m(\u001b[0m\u001b[0mdata\u001b[0m\u001b[0;34m,\u001b[0m \u001b[0mPool\u001b[0m\u001b[0;34m)\u001b[0m\u001b[0;34m:\u001b[0m\u001b[0;34m\u001b[0m\u001b[0;34m\u001b[0m\u001b[0m\n\u001b[0;32m-> 2600\u001b[0;31m             data = Pool(\n\u001b[0m\u001b[1;32m   2601\u001b[0m                 \u001b[0mdata\u001b[0m\u001b[0;34m=\u001b[0m\u001b[0;34m[\u001b[0m\u001b[0mdata\u001b[0m\u001b[0;34m]\u001b[0m \u001b[0;32mif\u001b[0m \u001b[0mis_single_object\u001b[0m \u001b[0;32melse\u001b[0m \u001b[0mdata\u001b[0m\u001b[0;34m,\u001b[0m\u001b[0;34m\u001b[0m\u001b[0;34m\u001b[0m\u001b[0m\n\u001b[1;32m   2602\u001b[0m                 \u001b[0mlabel\u001b[0m\u001b[0;34m=\u001b[0m\u001b[0mlabel\u001b[0m\u001b[0;34m,\u001b[0m\u001b[0;34m\u001b[0m\u001b[0;34m\u001b[0m\u001b[0m\n",
            "\u001b[0;32m/usr/local/lib/python3.10/dist-packages/catboost/core.py\u001b[0m in \u001b[0;36m__init__\u001b[0;34m(self, data, label, cat_features, text_features, embedding_features, embedding_features_data, column_description, pairs, graph, delimiter, has_header, ignore_csv_quoting, weight, group_id, group_weight, subgroup_id, pairs_weight, baseline, timestamp, feature_names, feature_tags, thread_count, log_cout, log_cerr, data_can_be_none)\u001b[0m\n\u001b[1;32m    853\u001b[0m                         )\n\u001b[1;32m    854\u001b[0m \u001b[0;34m\u001b[0m\u001b[0m\n\u001b[0;32m--> 855\u001b[0;31m                     self._init(data, label, cat_features, text_features, embedding_features, embedding_features_data, pairs, graph, weight,\n\u001b[0m\u001b[1;32m    856\u001b[0m                                group_id, group_weight, subgroup_id, pairs_weight, baseline, timestamp, feature_names, feature_tags, thread_count)\n\u001b[1;32m    857\u001b[0m             \u001b[0;32melif\u001b[0m \u001b[0;32mnot\u001b[0m \u001b[0mdata_can_be_none\u001b[0m\u001b[0;34m:\u001b[0m\u001b[0;34m\u001b[0m\u001b[0;34m\u001b[0m\u001b[0m\n",
            "\u001b[0;32m/usr/local/lib/python3.10/dist-packages/catboost/core.py\u001b[0m in \u001b[0;36m_init\u001b[0;34m(self, data, label, cat_features, text_features, embedding_features, embedding_features_data, pairs, graph, weight, group_id, group_weight, subgroup_id, pairs_weight, baseline, timestamp, feature_names, feature_tags, thread_count)\u001b[0m\n\u001b[1;32m   1489\u001b[0m         \u001b[0;32mif\u001b[0m \u001b[0mfeature_tags\u001b[0m \u001b[0;32mis\u001b[0m \u001b[0;32mnot\u001b[0m \u001b[0;32mNone\u001b[0m\u001b[0;34m:\u001b[0m\u001b[0;34m\u001b[0m\u001b[0;34m\u001b[0m\u001b[0m\n\u001b[1;32m   1490\u001b[0m             \u001b[0mfeature_tags\u001b[0m \u001b[0;34m=\u001b[0m \u001b[0mself\u001b[0m\u001b[0;34m.\u001b[0m\u001b[0m_check_transform_tags\u001b[0m\u001b[0;34m(\u001b[0m\u001b[0mfeature_tags\u001b[0m\u001b[0;34m,\u001b[0m \u001b[0mfeature_names\u001b[0m\u001b[0;34m)\u001b[0m\u001b[0;34m\u001b[0m\u001b[0;34m\u001b[0m\u001b[0m\n\u001b[0;32m-> 1491\u001b[0;31m         self._init_pool(data, label, cat_features, text_features, embedding_features, embedding_features_data, pairs, graph, weight,\n\u001b[0m\u001b[1;32m   1492\u001b[0m                         group_id, group_weight, subgroup_id, pairs_weight, baseline, timestamp, feature_names, feature_tags, thread_count)\n\u001b[1;32m   1493\u001b[0m \u001b[0;34m\u001b[0m\u001b[0m\n",
            "\u001b[0;32m_catboost.pyx\u001b[0m in \u001b[0;36m_catboost._PoolBase._init_pool\u001b[0;34m()\u001b[0m\n",
            "\u001b[0;32m_catboost.pyx\u001b[0m in \u001b[0;36m_catboost._PoolBase._init_pool\u001b[0;34m()\u001b[0m\n",
            "\u001b[0;32m_catboost.pyx\u001b[0m in \u001b[0;36m_catboost._PoolBase._init_features_order_layout_pool\u001b[0;34m()\u001b[0m\n",
            "\u001b[0;32m_catboost.pyx\u001b[0m in \u001b[0;36m_catboost._set_features_order_data_pd_data_frame\u001b[0;34m()\u001b[0m\n",
            "\u001b[0;32m/usr/local/lib/python3.10/dist-packages/pandas/core/frame.py\u001b[0m in \u001b[0;36mitems\u001b[0;34m(self)\u001b[0m\n\u001b[1;32m   1498\u001b[0m         \u001b[0;32mif\u001b[0m \u001b[0mself\u001b[0m\u001b[0;34m.\u001b[0m\u001b[0mcolumns\u001b[0m\u001b[0;34m.\u001b[0m\u001b[0mis_unique\u001b[0m \u001b[0;32mand\u001b[0m \u001b[0mhasattr\u001b[0m\u001b[0;34m(\u001b[0m\u001b[0mself\u001b[0m\u001b[0;34m,\u001b[0m \u001b[0;34m\"_item_cache\"\u001b[0m\u001b[0;34m)\u001b[0m\u001b[0;34m:\u001b[0m\u001b[0;34m\u001b[0m\u001b[0;34m\u001b[0m\u001b[0m\n\u001b[1;32m   1499\u001b[0m             \u001b[0;32mfor\u001b[0m \u001b[0mk\u001b[0m \u001b[0;32min\u001b[0m \u001b[0mself\u001b[0m\u001b[0;34m.\u001b[0m\u001b[0mcolumns\u001b[0m\u001b[0;34m:\u001b[0m\u001b[0;34m\u001b[0m\u001b[0;34m\u001b[0m\u001b[0m\n\u001b[0;32m-> 1500\u001b[0;31m                 \u001b[0;32myield\u001b[0m \u001b[0mk\u001b[0m\u001b[0;34m,\u001b[0m \u001b[0mself\u001b[0m\u001b[0;34m.\u001b[0m\u001b[0m_get_item_cache\u001b[0m\u001b[0;34m(\u001b[0m\u001b[0mk\u001b[0m\u001b[0;34m)\u001b[0m\u001b[0;34m\u001b[0m\u001b[0;34m\u001b[0m\u001b[0m\n\u001b[0m\u001b[1;32m   1501\u001b[0m         \u001b[0;32melse\u001b[0m\u001b[0;34m:\u001b[0m\u001b[0;34m\u001b[0m\u001b[0;34m\u001b[0m\u001b[0m\n\u001b[1;32m   1502\u001b[0m             \u001b[0;32mfor\u001b[0m \u001b[0mi\u001b[0m\u001b[0;34m,\u001b[0m \u001b[0mk\u001b[0m \u001b[0;32min\u001b[0m \u001b[0menumerate\u001b[0m\u001b[0;34m(\u001b[0m\u001b[0mself\u001b[0m\u001b[0;34m.\u001b[0m\u001b[0mcolumns\u001b[0m\u001b[0;34m)\u001b[0m\u001b[0;34m:\u001b[0m\u001b[0;34m\u001b[0m\u001b[0;34m\u001b[0m\u001b[0m\n",
            "\u001b[0;31mKeyboardInterrupt\u001b[0m: "
          ]
        }
      ]
    },
    {
      "cell_type": "code",
      "source": [
        "trial.params"
      ],
      "metadata": {
        "colab": {
          "base_uri": "https://localhost:8080/"
        },
        "id": "tM0OZyU3oBF0",
        "outputId": "79ce3bba-4612-4164-d82a-3166cc940d79"
      },
      "execution_count": null,
      "outputs": [
        {
          "output_type": "execute_result",
          "data": {
            "text/plain": [
              "{'objective': 'RMSE',\n",
              " 'iterations': 769,\n",
              " 'learning_rate': 0.08796037884093375,\n",
              " 'depth': 5,\n",
              " 'l2_leaf_reg': 0.0016412531768662736,\n",
              " 'random_strength': 9.689062180927928,\n",
              " 'bagging_temperature': 5.509768031412316,\n",
              " 'od_type': 'Iter',\n",
              " 'od_wait': 10}"
            ]
          },
          "metadata": {},
          "execution_count": 105
        }
      ]
    },
    {
      "cell_type": "markdown",
      "source": [
        "# Train meta model"
      ],
      "metadata": {
        "id": "qEa3Xx2iUvYp"
      }
    },
    {
      "cell_type": "code",
      "source": [
        "param = {'objective': 'RMSE',\n",
        " 'iterations': 5000,\n",
        " 'learning_rate': 0.08796037884093375,\n",
        " 'depth': 8,\n",
        "#  'l2_leaf_reg': 0.0016412531768662736,\n",
        "#  'random_strength': 9.689062180927928,\n",
        "#  'bagging_temperature': 5.509768031412316,\n",
        "#  'od_type': 'Iter',\n",
        " 'od_wait': 50}"
      ],
      "metadata": {
        "id": "IHFmVvDDSqS2"
      },
      "execution_count": 217,
      "outputs": []
    },
    {
      "cell_type": "code",
      "source": [
        "final_feats = FEATS_forw +feats\n",
        "cat_features = [feat for feat in final_feats if feat in cat_cols]\n",
        "text_features = [feat for feat in final_feats if feat in text_col]\n",
        "train_pool = Pool(\n",
        "        X_train[final_feats].values, y_train.values,\n",
        "            text_features = text_features,\n",
        "            feature_names = final_feats,\n",
        "            cat_features = cat_features\n",
        "        )\n",
        "\n",
        "validation_pool = Pool(\n",
        "            X_test[final_feats].values, y_test.values,\n",
        "            text_features = text_features,\n",
        "            feature_names = final_feats,\n",
        "            cat_features = cat_features\n",
        "        )\n",
        "model = fit_model(train_pool,validation_pool,param)"
      ],
      "metadata": {
        "colab": {
          "base_uri": "https://localhost:8080/"
        },
        "id": "6Z42zCDbS61-",
        "outputId": "4fcc6435-13fd-4704-b0aa-fc7680d8eedb"
      },
      "execution_count": 218,
      "outputs": [
        {
          "output_type": "stream",
          "name": "stdout",
          "text": [
            "0:\tlearn: 0.8013736\ttest: 0.7970794\tbest: 0.7970794 (0)\ttotal: 45.4ms\tremaining: 3m 46s\n",
            "500:\tlearn: 0.4776710\ttest: 0.4897874\tbest: 0.4897874 (500)\ttotal: 10.4s\tremaining: 1m 33s\n",
            "1000:\tlearn: 0.4670939\ttest: 0.4885145\tbest: 0.4885145 (1000)\ttotal: 17.4s\tremaining: 1m 9s\n",
            "bestTest = 0.4883653506\n",
            "bestIteration = 1077\n",
            "Shrink model to first 1078 iterations.\n"
          ]
        }
      ]
    },
    {
      "cell_type": "code",
      "source": [
        "y_pred = model.predict(X_test[final_feats])\n",
        "mean_squared_error(y_test, y_pred)"
      ],
      "metadata": {
        "colab": {
          "base_uri": "https://localhost:8080/"
        },
        "id": "6hYWCJWMTMgU",
        "outputId": "69f445da-373e-4396-9793-86ede1fd92a3"
      },
      "execution_count": 219,
      "outputs": [
        {
          "output_type": "execute_result",
          "data": {
            "text/plain": [
              "0.23850067958281784"
            ]
          },
          "metadata": {},
          "execution_count": 219
        }
      ]
    },
    {
      "cell_type": "code",
      "source": [
        "mean_squared_error(np.exp(y_test), np.exp(y_pred))"
      ],
      "metadata": {
        "colab": {
          "base_uri": "https://localhost:8080/"
        },
        "id": "XhhECkKGTV9J",
        "outputId": "45953017-41ab-4aae-e4d9-600f4b8f293f"
      },
      "execution_count": 220,
      "outputs": [
        {
          "output_type": "execute_result",
          "data": {
            "text/plain": [
              "5021439752.004716"
            ]
          },
          "metadata": {},
          "execution_count": 220
        }
      ]
    },
    {
      "cell_type": "code",
      "execution_count": null,
      "metadata": {
        "execution": {
          "iopub.execute_input": "2024-11-26T09:13:10.068224Z",
          "iopub.status.busy": "2024-11-26T09:13:10.067871Z",
          "iopub.status.idle": "2024-11-26T09:13:10.509924Z",
          "shell.execute_reply": "2024-11-26T09:13:10.508691Z",
          "shell.execute_reply.started": "2024-11-26T09:13:10.068188Z"
        },
        "id": "Xfs-S79U7C-_",
        "outputId": "88d8450b-24d0-4a99-c1ee-c5cdb76d7340"
      },
      "outputs": [
        {
          "data": {
            "text/plain": [
              "0.24332879618610548"
            ]
          },
          "execution_count": 38,
          "metadata": {},
          "output_type": "execute_result"
        }
      ],
      "source": [
        "y_pred = model.predict(validation_pool)\n",
        "mean_squared_error(y_test, y_pred)"
      ]
    },
    {
      "cell_type": "code",
      "execution_count": null,
      "metadata": {
        "execution": {
          "iopub.execute_input": "2024-11-26T09:13:10.511510Z",
          "iopub.status.busy": "2024-11-26T09:13:10.511150Z",
          "iopub.status.idle": "2024-11-26T09:13:10.520541Z",
          "shell.execute_reply": "2024-11-26T09:13:10.519582Z",
          "shell.execute_reply.started": "2024-11-26T09:13:10.511471Z"
        },
        "id": "uMTDA8Qj7C-_",
        "outputId": "b67221bd-59bb-4aab-cb6e-d030eaa1902d"
      },
      "outputs": [
        {
          "data": {
            "text/plain": [
              "4717543039.900205"
            ]
          },
          "execution_count": 39,
          "metadata": {},
          "output_type": "execute_result"
        }
      ],
      "source": [
        "mean_squared_error(np.exp(y_test), np.exp(y_pred))"
      ]
    },
    {
      "cell_type": "markdown",
      "metadata": {
        "id": "5fwmJJU97C_A"
      },
      "source": [
        "# Predict"
      ]
    },
    {
      "cell_type": "code",
      "execution_count": 208,
      "metadata": {
        "execution": {
          "iopub.execute_input": "2024-11-26T09:13:11.657626Z",
          "iopub.status.busy": "2024-11-26T09:13:11.657240Z",
          "iopub.status.idle": "2024-11-26T09:13:12.153653Z",
          "shell.execute_reply": "2024-11-26T09:13:12.152621Z",
          "shell.execute_reply.started": "2024-11-26T09:13:11.657576Z"
        },
        "id": "74Was4g87C_B"
      },
      "outputs": [],
      "source": [
        "test = pd.read_csv(\"test.csv\")"
      ]
    },
    {
      "cell_type": "code",
      "execution_count": 209,
      "metadata": {
        "execution": {
          "iopub.execute_input": "2024-11-26T09:13:12.218713Z",
          "iopub.status.busy": "2024-11-26T09:13:12.218401Z",
          "iopub.status.idle": "2024-11-26T09:13:12.274332Z",
          "shell.execute_reply": "2024-11-26T09:13:12.273506Z",
          "shell.execute_reply.started": "2024-11-26T09:13:12.218682Z"
        },
        "id": "II8jKgX17C_B"
      },
      "outputs": [],
      "source": [
        "test.accident = test.accident.fillna('None reported')\n",
        "\n",
        "test.fuel_type = test.fuel_type.fillna(train.fuel_type.mode(dropna=True)[0])\n",
        "\n",
        "test.clean_title = test.clean_title.fillna(train.clean_title.mode(dropna=True)[0])"
      ]
    },
    {
      "cell_type": "code",
      "execution_count": 210,
      "metadata": {
        "execution": {
          "iopub.execute_input": "2024-11-26T09:13:12.275974Z",
          "iopub.status.busy": "2024-11-26T09:13:12.275544Z",
          "iopub.status.idle": "2024-11-26T09:13:12.595644Z",
          "shell.execute_reply": "2024-11-26T09:13:12.594829Z",
          "shell.execute_reply.started": "2024-11-26T09:13:12.275929Z"
        },
        "id": "qAqkVjdJ7C_B"
      },
      "outputs": [],
      "source": [
        "test['year_category'] = test['model_year'].apply(categorize_year)\n",
        "test['model_category'] = test['model'].apply(categorize_model)\n",
        "test['brand_category'] = test['brand'].apply(categorize_brand)"
      ]
    },
    {
      "cell_type": "code",
      "execution_count": 211,
      "metadata": {
        "execution": {
          "iopub.execute_input": "2024-11-26T09:13:12.597006Z",
          "iopub.status.busy": "2024-11-26T09:13:12.596713Z",
          "iopub.status.idle": "2024-11-26T09:13:12.702643Z",
          "shell.execute_reply": "2024-11-26T09:13:12.701680Z",
          "shell.execute_reply.started": "2024-11-26T09:13:12.596976Z"
        },
        "id": "bPcTj5fV7C_C"
      },
      "outputs": [],
      "source": [
        "average_prices_brand.rename(columns={'price': 'average_prices_brand'}, inplace=True)\n",
        "average_prices_year.rename(columns={'price': 'average_prices_year'}, inplace=True)\n",
        "average_prices_model.rename(columns={'price': 'average_prices_model'}, inplace=True)\n",
        "\n",
        "\n",
        "test_new = pd.merge(test, average_prices_brand, on='brand', how='left')\n",
        "test_new = pd.merge(test_new, average_prices_year, on='model_year', how='left')\n",
        "test_new = pd.merge(test_new, average_prices_model, on='model', how='left')"
      ]
    },
    {
      "cell_type": "code",
      "source": [
        "numerical_cols = ['milage', 'average_prices_brand','average_prices_year','average_prices_model']\n",
        "cat_cols = ['brand', 'model', 'model_year','fuel_type',\n",
        "       'transmission', 'ext_col', 'int_col', 'accident', 'clean_title', 'year_category','brand_category','model_category']\n",
        "text_col = ['engine']\n",
        "for i in cat_cols:\n",
        "    test_new[i] = test_new[i].astype(str)\n",
        "\n",
        "for i in text_col:\n",
        "    test_new[i] = test_new[i].astype(str)\n",
        "\n",
        "test_new[\"ids\"] = test_new.index"
      ],
      "metadata": {
        "id": "lwFL3xwjU1TT"
      },
      "execution_count": 212,
      "outputs": []
    },
    {
      "cell_type": "code",
      "execution_count": 221,
      "metadata": {
        "execution": {
          "iopub.execute_input": "2024-11-26T09:13:12.704624Z",
          "iopub.status.busy": "2024-11-26T09:13:12.704212Z",
          "iopub.status.idle": "2024-11-26T09:13:12.946602Z",
          "shell.execute_reply": "2024-11-26T09:13:12.945880Z",
          "shell.execute_reply.started": "2024-11-26T09:13:12.704580Z"
        },
        "id": "zXUpF5r97C_C"
      },
      "outputs": [],
      "source": [
        "cat_features = [feat for feat in FEATS_forw if feat in cat_cols]\n",
        "text_features = [feat for feat in FEATS_forw if feat in text_col]\n",
        "\n",
        "test_pool = Pool(\n",
        "    test_new[FEATS_forw],\n",
        "    text_features = text_features,\n",
        "    cat_features= cat_features,\n",
        "    feature_names = FEATS_forw\n",
        ")\n",
        "y_preds = []\n",
        "for m in models:\n",
        "  y_pred = m.predict(test_pool)\n",
        "  y_preds.append(y_pred)\n",
        "\n",
        "test_df = pd.DataFrame()\n",
        "for i in range(5):\n",
        "  test_df[f\"score_{i}\"] = y_preds[i]\n",
        "test_df[\"ids\"] = range(len(test_df))\n",
        "\n",
        "fin_test = test_new.merge(test_df,on=\"ids\",how=\"inner\")\n",
        "\n",
        "fin_preds = model.predict(fin_test[final_feats])"
      ]
    },
    {
      "cell_type": "code",
      "source": [
        "submission = pd.read_csv(\"sample_submission.csv\")\n",
        "print(submission.shape)\n",
        "submission['price'] = np.exp(fin_preds)\n",
        "submission"
      ],
      "metadata": {
        "colab": {
          "base_uri": "https://localhost:8080/",
          "height": 436
        },
        "id": "r0GcSj51ohgA",
        "outputId": "4938d790-170e-401d-bf90-350af33f80da"
      },
      "execution_count": 222,
      "outputs": [
        {
          "output_type": "stream",
          "name": "stdout",
          "text": [
            "(125690, 2)\n"
          ]
        },
        {
          "output_type": "execute_result",
          "data": {
            "text/plain": [
              "            id         price\n",
              "0       188533  15967.506475\n",
              "1       188534  73570.738955\n",
              "2       188535  52794.871678\n",
              "3       188536  23951.637311\n",
              "4       188537  29302.371638\n",
              "...        ...           ...\n",
              "125685  314218  22278.142924\n",
              "125686  314219  46175.650785\n",
              "125687  314220  18460.678331\n",
              "125688  314221  13371.026785\n",
              "125689  314222  38185.560064\n",
              "\n",
              "[125690 rows x 2 columns]"
            ],
            "text/html": [
              "\n",
              "  <div id=\"df-dc428559-5afc-4f75-8b7e-1f890af11389\" class=\"colab-df-container\">\n",
              "    <div>\n",
              "<style scoped>\n",
              "    .dataframe tbody tr th:only-of-type {\n",
              "        vertical-align: middle;\n",
              "    }\n",
              "\n",
              "    .dataframe tbody tr th {\n",
              "        vertical-align: top;\n",
              "    }\n",
              "\n",
              "    .dataframe thead th {\n",
              "        text-align: right;\n",
              "    }\n",
              "</style>\n",
              "<table border=\"1\" class=\"dataframe\">\n",
              "  <thead>\n",
              "    <tr style=\"text-align: right;\">\n",
              "      <th></th>\n",
              "      <th>id</th>\n",
              "      <th>price</th>\n",
              "    </tr>\n",
              "  </thead>\n",
              "  <tbody>\n",
              "    <tr>\n",
              "      <th>0</th>\n",
              "      <td>188533</td>\n",
              "      <td>15967.506475</td>\n",
              "    </tr>\n",
              "    <tr>\n",
              "      <th>1</th>\n",
              "      <td>188534</td>\n",
              "      <td>73570.738955</td>\n",
              "    </tr>\n",
              "    <tr>\n",
              "      <th>2</th>\n",
              "      <td>188535</td>\n",
              "      <td>52794.871678</td>\n",
              "    </tr>\n",
              "    <tr>\n",
              "      <th>3</th>\n",
              "      <td>188536</td>\n",
              "      <td>23951.637311</td>\n",
              "    </tr>\n",
              "    <tr>\n",
              "      <th>4</th>\n",
              "      <td>188537</td>\n",
              "      <td>29302.371638</td>\n",
              "    </tr>\n",
              "    <tr>\n",
              "      <th>...</th>\n",
              "      <td>...</td>\n",
              "      <td>...</td>\n",
              "    </tr>\n",
              "    <tr>\n",
              "      <th>125685</th>\n",
              "      <td>314218</td>\n",
              "      <td>22278.142924</td>\n",
              "    </tr>\n",
              "    <tr>\n",
              "      <th>125686</th>\n",
              "      <td>314219</td>\n",
              "      <td>46175.650785</td>\n",
              "    </tr>\n",
              "    <tr>\n",
              "      <th>125687</th>\n",
              "      <td>314220</td>\n",
              "      <td>18460.678331</td>\n",
              "    </tr>\n",
              "    <tr>\n",
              "      <th>125688</th>\n",
              "      <td>314221</td>\n",
              "      <td>13371.026785</td>\n",
              "    </tr>\n",
              "    <tr>\n",
              "      <th>125689</th>\n",
              "      <td>314222</td>\n",
              "      <td>38185.560064</td>\n",
              "    </tr>\n",
              "  </tbody>\n",
              "</table>\n",
              "<p>125690 rows × 2 columns</p>\n",
              "</div>\n",
              "    <div class=\"colab-df-buttons\">\n",
              "\n",
              "  <div class=\"colab-df-container\">\n",
              "    <button class=\"colab-df-convert\" onclick=\"convertToInteractive('df-dc428559-5afc-4f75-8b7e-1f890af11389')\"\n",
              "            title=\"Convert this dataframe to an interactive table.\"\n",
              "            style=\"display:none;\">\n",
              "\n",
              "  <svg xmlns=\"http://www.w3.org/2000/svg\" height=\"24px\" viewBox=\"0 -960 960 960\">\n",
              "    <path d=\"M120-120v-720h720v720H120Zm60-500h600v-160H180v160Zm220 220h160v-160H400v160Zm0 220h160v-160H400v160ZM180-400h160v-160H180v160Zm440 0h160v-160H620v160ZM180-180h160v-160H180v160Zm440 0h160v-160H620v160Z\"/>\n",
              "  </svg>\n",
              "    </button>\n",
              "\n",
              "  <style>\n",
              "    .colab-df-container {\n",
              "      display:flex;\n",
              "      gap: 12px;\n",
              "    }\n",
              "\n",
              "    .colab-df-convert {\n",
              "      background-color: #E8F0FE;\n",
              "      border: none;\n",
              "      border-radius: 50%;\n",
              "      cursor: pointer;\n",
              "      display: none;\n",
              "      fill: #1967D2;\n",
              "      height: 32px;\n",
              "      padding: 0 0 0 0;\n",
              "      width: 32px;\n",
              "    }\n",
              "\n",
              "    .colab-df-convert:hover {\n",
              "      background-color: #E2EBFA;\n",
              "      box-shadow: 0px 1px 2px rgba(60, 64, 67, 0.3), 0px 1px 3px 1px rgba(60, 64, 67, 0.15);\n",
              "      fill: #174EA6;\n",
              "    }\n",
              "\n",
              "    .colab-df-buttons div {\n",
              "      margin-bottom: 4px;\n",
              "    }\n",
              "\n",
              "    [theme=dark] .colab-df-convert {\n",
              "      background-color: #3B4455;\n",
              "      fill: #D2E3FC;\n",
              "    }\n",
              "\n",
              "    [theme=dark] .colab-df-convert:hover {\n",
              "      background-color: #434B5C;\n",
              "      box-shadow: 0px 1px 3px 1px rgba(0, 0, 0, 0.15);\n",
              "      filter: drop-shadow(0px 1px 2px rgba(0, 0, 0, 0.3));\n",
              "      fill: #FFFFFF;\n",
              "    }\n",
              "  </style>\n",
              "\n",
              "    <script>\n",
              "      const buttonEl =\n",
              "        document.querySelector('#df-dc428559-5afc-4f75-8b7e-1f890af11389 button.colab-df-convert');\n",
              "      buttonEl.style.display =\n",
              "        google.colab.kernel.accessAllowed ? 'block' : 'none';\n",
              "\n",
              "      async function convertToInteractive(key) {\n",
              "        const element = document.querySelector('#df-dc428559-5afc-4f75-8b7e-1f890af11389');\n",
              "        const dataTable =\n",
              "          await google.colab.kernel.invokeFunction('convertToInteractive',\n",
              "                                                    [key], {});\n",
              "        if (!dataTable) return;\n",
              "\n",
              "        const docLinkHtml = 'Like what you see? Visit the ' +\n",
              "          '<a target=\"_blank\" href=https://colab.research.google.com/notebooks/data_table.ipynb>data table notebook</a>'\n",
              "          + ' to learn more about interactive tables.';\n",
              "        element.innerHTML = '';\n",
              "        dataTable['output_type'] = 'display_data';\n",
              "        await google.colab.output.renderOutput(dataTable, element);\n",
              "        const docLink = document.createElement('div');\n",
              "        docLink.innerHTML = docLinkHtml;\n",
              "        element.appendChild(docLink);\n",
              "      }\n",
              "    </script>\n",
              "  </div>\n",
              "\n",
              "\n",
              "<div id=\"df-bf6a5224-bad2-4d07-b763-1fb86fc55849\">\n",
              "  <button class=\"colab-df-quickchart\" onclick=\"quickchart('df-bf6a5224-bad2-4d07-b763-1fb86fc55849')\"\n",
              "            title=\"Suggest charts\"\n",
              "            style=\"display:none;\">\n",
              "\n",
              "<svg xmlns=\"http://www.w3.org/2000/svg\" height=\"24px\"viewBox=\"0 0 24 24\"\n",
              "     width=\"24px\">\n",
              "    <g>\n",
              "        <path d=\"M19 3H5c-1.1 0-2 .9-2 2v14c0 1.1.9 2 2 2h14c1.1 0 2-.9 2-2V5c0-1.1-.9-2-2-2zM9 17H7v-7h2v7zm4 0h-2V7h2v10zm4 0h-2v-4h2v4z\"/>\n",
              "    </g>\n",
              "</svg>\n",
              "  </button>\n",
              "\n",
              "<style>\n",
              "  .colab-df-quickchart {\n",
              "      --bg-color: #E8F0FE;\n",
              "      --fill-color: #1967D2;\n",
              "      --hover-bg-color: #E2EBFA;\n",
              "      --hover-fill-color: #174EA6;\n",
              "      --disabled-fill-color: #AAA;\n",
              "      --disabled-bg-color: #DDD;\n",
              "  }\n",
              "\n",
              "  [theme=dark] .colab-df-quickchart {\n",
              "      --bg-color: #3B4455;\n",
              "      --fill-color: #D2E3FC;\n",
              "      --hover-bg-color: #434B5C;\n",
              "      --hover-fill-color: #FFFFFF;\n",
              "      --disabled-bg-color: #3B4455;\n",
              "      --disabled-fill-color: #666;\n",
              "  }\n",
              "\n",
              "  .colab-df-quickchart {\n",
              "    background-color: var(--bg-color);\n",
              "    border: none;\n",
              "    border-radius: 50%;\n",
              "    cursor: pointer;\n",
              "    display: none;\n",
              "    fill: var(--fill-color);\n",
              "    height: 32px;\n",
              "    padding: 0;\n",
              "    width: 32px;\n",
              "  }\n",
              "\n",
              "  .colab-df-quickchart:hover {\n",
              "    background-color: var(--hover-bg-color);\n",
              "    box-shadow: 0 1px 2px rgba(60, 64, 67, 0.3), 0 1px 3px 1px rgba(60, 64, 67, 0.15);\n",
              "    fill: var(--button-hover-fill-color);\n",
              "  }\n",
              "\n",
              "  .colab-df-quickchart-complete:disabled,\n",
              "  .colab-df-quickchart-complete:disabled:hover {\n",
              "    background-color: var(--disabled-bg-color);\n",
              "    fill: var(--disabled-fill-color);\n",
              "    box-shadow: none;\n",
              "  }\n",
              "\n",
              "  .colab-df-spinner {\n",
              "    border: 2px solid var(--fill-color);\n",
              "    border-color: transparent;\n",
              "    border-bottom-color: var(--fill-color);\n",
              "    animation:\n",
              "      spin 1s steps(1) infinite;\n",
              "  }\n",
              "\n",
              "  @keyframes spin {\n",
              "    0% {\n",
              "      border-color: transparent;\n",
              "      border-bottom-color: var(--fill-color);\n",
              "      border-left-color: var(--fill-color);\n",
              "    }\n",
              "    20% {\n",
              "      border-color: transparent;\n",
              "      border-left-color: var(--fill-color);\n",
              "      border-top-color: var(--fill-color);\n",
              "    }\n",
              "    30% {\n",
              "      border-color: transparent;\n",
              "      border-left-color: var(--fill-color);\n",
              "      border-top-color: var(--fill-color);\n",
              "      border-right-color: var(--fill-color);\n",
              "    }\n",
              "    40% {\n",
              "      border-color: transparent;\n",
              "      border-right-color: var(--fill-color);\n",
              "      border-top-color: var(--fill-color);\n",
              "    }\n",
              "    60% {\n",
              "      border-color: transparent;\n",
              "      border-right-color: var(--fill-color);\n",
              "    }\n",
              "    80% {\n",
              "      border-color: transparent;\n",
              "      border-right-color: var(--fill-color);\n",
              "      border-bottom-color: var(--fill-color);\n",
              "    }\n",
              "    90% {\n",
              "      border-color: transparent;\n",
              "      border-bottom-color: var(--fill-color);\n",
              "    }\n",
              "  }\n",
              "</style>\n",
              "\n",
              "  <script>\n",
              "    async function quickchart(key) {\n",
              "      const quickchartButtonEl =\n",
              "        document.querySelector('#' + key + ' button');\n",
              "      quickchartButtonEl.disabled = true;  // To prevent multiple clicks.\n",
              "      quickchartButtonEl.classList.add('colab-df-spinner');\n",
              "      try {\n",
              "        const charts = await google.colab.kernel.invokeFunction(\n",
              "            'suggestCharts', [key], {});\n",
              "      } catch (error) {\n",
              "        console.error('Error during call to suggestCharts:', error);\n",
              "      }\n",
              "      quickchartButtonEl.classList.remove('colab-df-spinner');\n",
              "      quickchartButtonEl.classList.add('colab-df-quickchart-complete');\n",
              "    }\n",
              "    (() => {\n",
              "      let quickchartButtonEl =\n",
              "        document.querySelector('#df-bf6a5224-bad2-4d07-b763-1fb86fc55849 button');\n",
              "      quickchartButtonEl.style.display =\n",
              "        google.colab.kernel.accessAllowed ? 'block' : 'none';\n",
              "    })();\n",
              "  </script>\n",
              "</div>\n",
              "    </div>\n",
              "  </div>\n"
            ],
            "application/vnd.google.colaboratory.intrinsic+json": {
              "type": "dataframe",
              "variable_name": "submission"
            }
          },
          "metadata": {},
          "execution_count": 222
        }
      ]
    },
    {
      "cell_type": "code",
      "execution_count": null,
      "metadata": {
        "execution": {
          "iopub.execute_input": "2024-11-26T09:13:13.784674Z",
          "iopub.status.busy": "2024-11-26T09:13:13.784295Z",
          "iopub.status.idle": "2024-11-26T09:13:13.837073Z",
          "shell.execute_reply": "2024-11-26T09:13:13.836174Z",
          "shell.execute_reply.started": "2024-11-26T09:13:13.784633Z"
        },
        "colab": {
          "base_uri": "https://localhost:8080/",
          "height": 436
        },
        "id": "brGSgNoD7C_C",
        "outputId": "f601d273-c15a-44cf-ab33-595d2c132059"
      },
      "outputs": [
        {
          "output_type": "stream",
          "name": "stdout",
          "text": [
            "(125690, 2)\n"
          ]
        },
        {
          "output_type": "execute_result",
          "data": {
            "text/plain": [
              "            id         price\n",
              "0       188533  29468.774390\n",
              "1       188534  29480.136083\n",
              "2       188535  29433.351665\n",
              "3       188536  29495.789790\n",
              "4       188537  29479.888559\n",
              "...        ...           ...\n",
              "125685  314218  29453.788941\n",
              "125686  314219  29430.290880\n",
              "125687  314220  29468.774390\n",
              "125688  314221  29383.968225\n",
              "125689  314222  29436.504776\n",
              "\n",
              "[125690 rows x 2 columns]"
            ],
            "text/html": [
              "\n",
              "  <div id=\"df-60b85c16-5c4b-4e3c-9225-bef879de65df\" class=\"colab-df-container\">\n",
              "    <div>\n",
              "<style scoped>\n",
              "    .dataframe tbody tr th:only-of-type {\n",
              "        vertical-align: middle;\n",
              "    }\n",
              "\n",
              "    .dataframe tbody tr th {\n",
              "        vertical-align: top;\n",
              "    }\n",
              "\n",
              "    .dataframe thead th {\n",
              "        text-align: right;\n",
              "    }\n",
              "</style>\n",
              "<table border=\"1\" class=\"dataframe\">\n",
              "  <thead>\n",
              "    <tr style=\"text-align: right;\">\n",
              "      <th></th>\n",
              "      <th>id</th>\n",
              "      <th>price</th>\n",
              "    </tr>\n",
              "  </thead>\n",
              "  <tbody>\n",
              "    <tr>\n",
              "      <th>0</th>\n",
              "      <td>188533</td>\n",
              "      <td>29468.774390</td>\n",
              "    </tr>\n",
              "    <tr>\n",
              "      <th>1</th>\n",
              "      <td>188534</td>\n",
              "      <td>29480.136083</td>\n",
              "    </tr>\n",
              "    <tr>\n",
              "      <th>2</th>\n",
              "      <td>188535</td>\n",
              "      <td>29433.351665</td>\n",
              "    </tr>\n",
              "    <tr>\n",
              "      <th>3</th>\n",
              "      <td>188536</td>\n",
              "      <td>29495.789790</td>\n",
              "    </tr>\n",
              "    <tr>\n",
              "      <th>4</th>\n",
              "      <td>188537</td>\n",
              "      <td>29479.888559</td>\n",
              "    </tr>\n",
              "    <tr>\n",
              "      <th>...</th>\n",
              "      <td>...</td>\n",
              "      <td>...</td>\n",
              "    </tr>\n",
              "    <tr>\n",
              "      <th>125685</th>\n",
              "      <td>314218</td>\n",
              "      <td>29453.788941</td>\n",
              "    </tr>\n",
              "    <tr>\n",
              "      <th>125686</th>\n",
              "      <td>314219</td>\n",
              "      <td>29430.290880</td>\n",
              "    </tr>\n",
              "    <tr>\n",
              "      <th>125687</th>\n",
              "      <td>314220</td>\n",
              "      <td>29468.774390</td>\n",
              "    </tr>\n",
              "    <tr>\n",
              "      <th>125688</th>\n",
              "      <td>314221</td>\n",
              "      <td>29383.968225</td>\n",
              "    </tr>\n",
              "    <tr>\n",
              "      <th>125689</th>\n",
              "      <td>314222</td>\n",
              "      <td>29436.504776</td>\n",
              "    </tr>\n",
              "  </tbody>\n",
              "</table>\n",
              "<p>125690 rows × 2 columns</p>\n",
              "</div>\n",
              "    <div class=\"colab-df-buttons\">\n",
              "\n",
              "  <div class=\"colab-df-container\">\n",
              "    <button class=\"colab-df-convert\" onclick=\"convertToInteractive('df-60b85c16-5c4b-4e3c-9225-bef879de65df')\"\n",
              "            title=\"Convert this dataframe to an interactive table.\"\n",
              "            style=\"display:none;\">\n",
              "\n",
              "  <svg xmlns=\"http://www.w3.org/2000/svg\" height=\"24px\" viewBox=\"0 -960 960 960\">\n",
              "    <path d=\"M120-120v-720h720v720H120Zm60-500h600v-160H180v160Zm220 220h160v-160H400v160Zm0 220h160v-160H400v160ZM180-400h160v-160H180v160Zm440 0h160v-160H620v160ZM180-180h160v-160H180v160Zm440 0h160v-160H620v160Z\"/>\n",
              "  </svg>\n",
              "    </button>\n",
              "\n",
              "  <style>\n",
              "    .colab-df-container {\n",
              "      display:flex;\n",
              "      gap: 12px;\n",
              "    }\n",
              "\n",
              "    .colab-df-convert {\n",
              "      background-color: #E8F0FE;\n",
              "      border: none;\n",
              "      border-radius: 50%;\n",
              "      cursor: pointer;\n",
              "      display: none;\n",
              "      fill: #1967D2;\n",
              "      height: 32px;\n",
              "      padding: 0 0 0 0;\n",
              "      width: 32px;\n",
              "    }\n",
              "\n",
              "    .colab-df-convert:hover {\n",
              "      background-color: #E2EBFA;\n",
              "      box-shadow: 0px 1px 2px rgba(60, 64, 67, 0.3), 0px 1px 3px 1px rgba(60, 64, 67, 0.15);\n",
              "      fill: #174EA6;\n",
              "    }\n",
              "\n",
              "    .colab-df-buttons div {\n",
              "      margin-bottom: 4px;\n",
              "    }\n",
              "\n",
              "    [theme=dark] .colab-df-convert {\n",
              "      background-color: #3B4455;\n",
              "      fill: #D2E3FC;\n",
              "    }\n",
              "\n",
              "    [theme=dark] .colab-df-convert:hover {\n",
              "      background-color: #434B5C;\n",
              "      box-shadow: 0px 1px 3px 1px rgba(0, 0, 0, 0.15);\n",
              "      filter: drop-shadow(0px 1px 2px rgba(0, 0, 0, 0.3));\n",
              "      fill: #FFFFFF;\n",
              "    }\n",
              "  </style>\n",
              "\n",
              "    <script>\n",
              "      const buttonEl =\n",
              "        document.querySelector('#df-60b85c16-5c4b-4e3c-9225-bef879de65df button.colab-df-convert');\n",
              "      buttonEl.style.display =\n",
              "        google.colab.kernel.accessAllowed ? 'block' : 'none';\n",
              "\n",
              "      async function convertToInteractive(key) {\n",
              "        const element = document.querySelector('#df-60b85c16-5c4b-4e3c-9225-bef879de65df');\n",
              "        const dataTable =\n",
              "          await google.colab.kernel.invokeFunction('convertToInteractive',\n",
              "                                                    [key], {});\n",
              "        if (!dataTable) return;\n",
              "\n",
              "        const docLinkHtml = 'Like what you see? Visit the ' +\n",
              "          '<a target=\"_blank\" href=https://colab.research.google.com/notebooks/data_table.ipynb>data table notebook</a>'\n",
              "          + ' to learn more about interactive tables.';\n",
              "        element.innerHTML = '';\n",
              "        dataTable['output_type'] = 'display_data';\n",
              "        await google.colab.output.renderOutput(dataTable, element);\n",
              "        const docLink = document.createElement('div');\n",
              "        docLink.innerHTML = docLinkHtml;\n",
              "        element.appendChild(docLink);\n",
              "      }\n",
              "    </script>\n",
              "  </div>\n",
              "\n",
              "\n",
              "<div id=\"df-b71d62cc-9839-438e-9f0d-e70e32b27519\">\n",
              "  <button class=\"colab-df-quickchart\" onclick=\"quickchart('df-b71d62cc-9839-438e-9f0d-e70e32b27519')\"\n",
              "            title=\"Suggest charts\"\n",
              "            style=\"display:none;\">\n",
              "\n",
              "<svg xmlns=\"http://www.w3.org/2000/svg\" height=\"24px\"viewBox=\"0 0 24 24\"\n",
              "     width=\"24px\">\n",
              "    <g>\n",
              "        <path d=\"M19 3H5c-1.1 0-2 .9-2 2v14c0 1.1.9 2 2 2h14c1.1 0 2-.9 2-2V5c0-1.1-.9-2-2-2zM9 17H7v-7h2v7zm4 0h-2V7h2v10zm4 0h-2v-4h2v4z\"/>\n",
              "    </g>\n",
              "</svg>\n",
              "  </button>\n",
              "\n",
              "<style>\n",
              "  .colab-df-quickchart {\n",
              "      --bg-color: #E8F0FE;\n",
              "      --fill-color: #1967D2;\n",
              "      --hover-bg-color: #E2EBFA;\n",
              "      --hover-fill-color: #174EA6;\n",
              "      --disabled-fill-color: #AAA;\n",
              "      --disabled-bg-color: #DDD;\n",
              "  }\n",
              "\n",
              "  [theme=dark] .colab-df-quickchart {\n",
              "      --bg-color: #3B4455;\n",
              "      --fill-color: #D2E3FC;\n",
              "      --hover-bg-color: #434B5C;\n",
              "      --hover-fill-color: #FFFFFF;\n",
              "      --disabled-bg-color: #3B4455;\n",
              "      --disabled-fill-color: #666;\n",
              "  }\n",
              "\n",
              "  .colab-df-quickchart {\n",
              "    background-color: var(--bg-color);\n",
              "    border: none;\n",
              "    border-radius: 50%;\n",
              "    cursor: pointer;\n",
              "    display: none;\n",
              "    fill: var(--fill-color);\n",
              "    height: 32px;\n",
              "    padding: 0;\n",
              "    width: 32px;\n",
              "  }\n",
              "\n",
              "  .colab-df-quickchart:hover {\n",
              "    background-color: var(--hover-bg-color);\n",
              "    box-shadow: 0 1px 2px rgba(60, 64, 67, 0.3), 0 1px 3px 1px rgba(60, 64, 67, 0.15);\n",
              "    fill: var(--button-hover-fill-color);\n",
              "  }\n",
              "\n",
              "  .colab-df-quickchart-complete:disabled,\n",
              "  .colab-df-quickchart-complete:disabled:hover {\n",
              "    background-color: var(--disabled-bg-color);\n",
              "    fill: var(--disabled-fill-color);\n",
              "    box-shadow: none;\n",
              "  }\n",
              "\n",
              "  .colab-df-spinner {\n",
              "    border: 2px solid var(--fill-color);\n",
              "    border-color: transparent;\n",
              "    border-bottom-color: var(--fill-color);\n",
              "    animation:\n",
              "      spin 1s steps(1) infinite;\n",
              "  }\n",
              "\n",
              "  @keyframes spin {\n",
              "    0% {\n",
              "      border-color: transparent;\n",
              "      border-bottom-color: var(--fill-color);\n",
              "      border-left-color: var(--fill-color);\n",
              "    }\n",
              "    20% {\n",
              "      border-color: transparent;\n",
              "      border-left-color: var(--fill-color);\n",
              "      border-top-color: var(--fill-color);\n",
              "    }\n",
              "    30% {\n",
              "      border-color: transparent;\n",
              "      border-left-color: var(--fill-color);\n",
              "      border-top-color: var(--fill-color);\n",
              "      border-right-color: var(--fill-color);\n",
              "    }\n",
              "    40% {\n",
              "      border-color: transparent;\n",
              "      border-right-color: var(--fill-color);\n",
              "      border-top-color: var(--fill-color);\n",
              "    }\n",
              "    60% {\n",
              "      border-color: transparent;\n",
              "      border-right-color: var(--fill-color);\n",
              "    }\n",
              "    80% {\n",
              "      border-color: transparent;\n",
              "      border-right-color: var(--fill-color);\n",
              "      border-bottom-color: var(--fill-color);\n",
              "    }\n",
              "    90% {\n",
              "      border-color: transparent;\n",
              "      border-bottom-color: var(--fill-color);\n",
              "    }\n",
              "  }\n",
              "</style>\n",
              "\n",
              "  <script>\n",
              "    async function quickchart(key) {\n",
              "      const quickchartButtonEl =\n",
              "        document.querySelector('#' + key + ' button');\n",
              "      quickchartButtonEl.disabled = true;  // To prevent multiple clicks.\n",
              "      quickchartButtonEl.classList.add('colab-df-spinner');\n",
              "      try {\n",
              "        const charts = await google.colab.kernel.invokeFunction(\n",
              "            'suggestCharts', [key], {});\n",
              "      } catch (error) {\n",
              "        console.error('Error during call to suggestCharts:', error);\n",
              "      }\n",
              "      quickchartButtonEl.classList.remove('colab-df-spinner');\n",
              "      quickchartButtonEl.classList.add('colab-df-quickchart-complete');\n",
              "    }\n",
              "    (() => {\n",
              "      let quickchartButtonEl =\n",
              "        document.querySelector('#df-b71d62cc-9839-438e-9f0d-e70e32b27519 button');\n",
              "      quickchartButtonEl.style.display =\n",
              "        google.colab.kernel.accessAllowed ? 'block' : 'none';\n",
              "    })();\n",
              "  </script>\n",
              "</div>\n",
              "    </div>\n",
              "  </div>\n"
            ],
            "application/vnd.google.colaboratory.intrinsic+json": {
              "type": "dataframe",
              "variable_name": "submission"
            }
          },
          "metadata": {},
          "execution_count": 59
        }
      ],
      "source": [
        "submission = pd.read_csv(\"sample_submission.csv\")\n",
        "print(submission.shape)\n",
        "submission['price'] = np.exp(fin_preds)\n",
        "submission"
      ]
    },
    {
      "cell_type": "code",
      "execution_count": 223,
      "metadata": {
        "execution": {
          "iopub.execute_input": "2024-11-26T09:13:13.838440Z",
          "iopub.status.busy": "2024-11-26T09:13:13.838144Z",
          "iopub.status.idle": "2024-11-26T09:13:14.092109Z",
          "shell.execute_reply": "2024-11-26T09:13:14.091293Z",
          "shell.execute_reply.started": "2024-11-26T09:13:13.838415Z"
        },
        "id": "r_BMDeQZ7C_C"
      },
      "outputs": [],
      "source": [
        "submission.to_csv(\"submission_new_no_exp.csv\", index = False)"
      ]
    },
    {
      "cell_type": "code",
      "execution_count": null,
      "metadata": {
        "id": "P_xEW3Z87C_C"
      },
      "outputs": [],
      "source": []
    }
  ],
  "metadata": {
    "kaggle": {
      "accelerator": "nvidiaTeslaT4",
      "dataSources": [
        {
          "databundleVersionId": 9057646,
          "sourceId": 76728,
          "sourceType": "competition"
        }
      ],
      "dockerImageVersionId": 30786,
      "isGpuEnabled": true,
      "isInternetEnabled": true,
      "language": "python",
      "sourceType": "notebook"
    },
    "kernelspec": {
      "display_name": "Python (kaggle)",
      "language": "python",
      "name": "kagggle"
    },
    "language_info": {
      "codemirror_mode": {
        "name": "ipython",
        "version": 3
      },
      "file_extension": ".py",
      "mimetype": "text/x-python",
      "name": "python",
      "nbconvert_exporter": "python",
      "pygments_lexer": "ipython3",
      "version": "3.8.13"
    },
    "colab": {
      "provenance": [],
      "gpuType": "T4",
      "collapsed_sections": [
        "FJnek7Kmx7KX"
      ]
    },
    "accelerator": "GPU"
  },
  "nbformat": 4,
  "nbformat_minor": 0
}