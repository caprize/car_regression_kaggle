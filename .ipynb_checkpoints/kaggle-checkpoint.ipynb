{
 "cells": [
  {
   "cell_type": "code",
   "execution_count": 1,
   "metadata": {
    "tags": []
   },
   "outputs": [],
   "source": [
    "import pandas as pd\n",
    "import numpy as np\n",
    "import random\n",
    "from scipy import stats\n",
    "import seaborn as sns\n",
    "#import scikitplot as skplt\n",
    "import matplotlib.pyplot as plt\n",
    "%matplotlib inline\n",
    "\n",
    "from sklearn.model_selection import train_test_split\n",
    "\n",
    "np.random.seed(42)\n",
    "random.seed(42)"
   ]
  },
  {
   "cell_type": "code",
   "execution_count": 2,
   "metadata": {
    "tags": []
   },
   "outputs": [],
   "source": [
    "import warnings\n",
    "warnings.filterwarnings('ignore')"
   ]
  },
  {
   "cell_type": "markdown",
   "metadata": {},
   "source": [
    "# EDA"
   ]
  },
  {
   "cell_type": "code",
   "execution_count": 3,
   "metadata": {
    "tags": []
   },
   "outputs": [],
   "source": [
    "train = pd.read_csv(\"train.csv\")"
   ]
  },
  {
   "cell_type": "markdown",
   "metadata": {},
   "source": [
    "## Смотрим на данные"
   ]
  },
  {
   "cell_type": "code",
   "execution_count": 4,
   "metadata": {
    "tags": []
   },
   "outputs": [
    {
     "data": {
      "text/plain": [
       "Index(['brand', 'model', 'fuel_type', 'engine', 'transmission', 'ext_col',\n",
       "       'int_col', 'accident', 'clean_title'],\n",
       "      dtype='object')"
      ]
     },
     "execution_count": 4,
     "metadata": {},
     "output_type": "execute_result"
    }
   ],
   "source": [
    "numerical_cols = train.select_dtypes(include = ['int64', 'float64']).columns\n",
    "categorical_cols = train.select_dtypes(include = ['object']).columns\n",
    "categorical_cols"
   ]
  },
  {
   "cell_type": "code",
   "execution_count": 5,
   "metadata": {
    "tags": []
   },
   "outputs": [],
   "source": [
    "from sklearn.impute import SimpleImputer\n",
    "from sklearn.preprocessing import OneHotEncoder \n",
    "from sklearn.compose import ColumnTransformer\n",
    "from sklearn.pipeline import Pipeline\n",
    "\n",
    "numerical_transformer = SimpleImputer(strategy='median')\n",
    "categorical_transformer = Pipeline(steps = [\n",
    "    ('imputer', SimpleImputer(strategy='constant', fill_value= '')),\n",
    "    ('onehot', OneHotEncoder(handle_unknown='ignore'))\n",
    "])\n",
    "\n",
    "preprocessor = ColumnTransformer(\n",
    "    transformers = [\n",
    "        ('num',numerical_transformer, numerical_cols),\n",
    "        ('cat',categorical_transformer,categorical_cols)\n",
    "    ])"
   ]
  },
  {
   "cell_type": "markdown",
   "metadata": {},
   "source": [
    "## Целевая переменная"
   ]
  },
  {
   "cell_type": "code",
   "execution_count": 6,
   "metadata": {},
   "outputs": [
    {
     "data": {
      "image/png": "[encoded data removed]",
      "text/plain": [
       "<Figure size 500x500 with 1 Axes>"
      ]
     },
     "metadata": {},
     "output_type": "display_data"
    }
   ],
   "source": [
    "train[\"price\"] = np.log(train[\"price\"])\n",
    "sns.displot(train[\"price\"] , color=\"skyblue\", label=\"Symdol Length\");"
   ]
  },
  {
   "cell_type": "markdown",
   "metadata": {},
   "source": [
    "## Замена `NaN`-ов на `mode`"
   ]
  },
  {
   "cell_type": "code",
   "execution_count": 7,
   "metadata": {
    "tags": []
   },
   "outputs": [],
   "source": [
    "train.accident = train.accident.fillna('None reported')\n",
    "\n",
    "train.fuel_type = train.fuel_type.fillna('None reported')\n",
    "\n",
    "train.clean_title = train.clean_title.fillna('None reported')"
   ]
  },
  {
   "cell_type": "code",
   "execution_count": 8,
   "metadata": {
    "tags": []
   },
   "outputs": [
    {
     "data": {
      "text/plain": [
       "id              0\n",
       "brand           0\n",
       "model           0\n",
       "model_year      0\n",
       "milage          0\n",
       "fuel_type       0\n",
       "engine          0\n",
       "transmission    0\n",
       "ext_col         0\n",
       "int_col         0\n",
       "accident        0\n",
       "clean_title     0\n",
       "price           0\n",
       "dtype: int64"
      ]
     },
     "execution_count": 8,
     "metadata": {},
     "output_type": "execute_result"
    }
   ],
   "source": [
    "train.isna().sum()"
   ]
  },
  {
   "cell_type": "markdown",
   "metadata": {},
   "source": [
    "## Генерация новых фич\n"
   ]
  },
  {
   "cell_type": "code",
   "execution_count": 9,
   "metadata": {
    "tags": []
   },
   "outputs": [],
   "source": [
    "def categorize_year(year):\n",
    "    if 1992 <= year <= 1997:\n",
    "        return 1\n",
    "    elif year <= 1991:\n",
    "        return -1\n",
    "    elif 1996 <= year <= 2004:\n",
    "        return 2\n",
    "    elif 2006 <= year <= 2012:\n",
    "        return 2\n",
    "    elif year == 2005:\n",
    "        return 3\n",
    "    else:\n",
    "        return 0\n",
    "\n",
    "train['year_category'] = train['model_year'].apply(categorize_year)"
   ]
  },
  {
   "cell_type": "code",
   "execution_count": 10,
   "metadata": {
    "tags": []
   },
   "outputs": [],
   "source": [
    "average_prices_brand = train.groupby('brand')['price'].mean().reset_index()\n",
    "prem_car = ['Alfa',\n",
    " 'Aston',\n",
    " 'Audi',\n",
    " 'BMW',\n",
    " 'Bentley',\n",
    " 'Bugatti',\n",
    " 'Cadillac',\n",
    " 'Chevrolet',\n",
    " 'Ferrari',\n",
    " 'Ford',\n",
    " 'Genesis',\n",
    " 'Jaguar',\n",
    " 'Lamborghini',\n",
    " 'Land',\n",
    " 'Lucid',\n",
    " 'Maserati',\n",
    " 'Maybach',\n",
    " 'McLaren',\n",
    " 'Mercedes-Benz',\n",
    " 'Polestar',\n",
    " 'Porsche',\n",
    " 'RAM',\n",
    " 'Rivian',\n",
    " 'Rolls-Royce',\n",
    " 'Tesla']\n",
    "\n",
    "def categorize_brand(brand):\n",
    "    if brand in prem_car:\n",
    "        return 1\n",
    "    else:\n",
    "        return 0\n",
    "\n",
    "train['brand_category'] = train['brand'].apply(categorize_brand)"
   ]
  },
  {
   "cell_type": "code",
   "execution_count": 11,
   "metadata": {
    "tags": []
   },
   "outputs": [],
   "source": [
    "average_prices_ext_col = train.groupby('ext_col')['price'].mean().reset_index()\n",
    "average_prices_model = train.groupby('model')['price'].mean().reset_index()\n",
    "\n",
    "list(average_prices_model[average_prices_model['price'] > 100000]['model'])\n",
    "prem_models = ['3500 Tradesman',\n",
    " '488 GTB Base',\n",
    " '500e Battery Electric',\n",
    " '570S Base',\n",
    " '570S Spider',\n",
    " '718 Cayman GTS',\n",
    " '720S Performance',\n",
    " '812 Superfast Base',\n",
    " '911 Carrera 4 GTS',\n",
    " '911 Carrera GTS',\n",
    " '911 GT2 RS',\n",
    " '911 GT3',\n",
    " '911 GT3 RS',\n",
    " '911 R',\n",
    " '911 Turbo',\n",
    " '911 Turbo Cabriolet',\n",
    " '911 Turbo S',\n",
    " 'AMG E 53 4MATIC',\n",
    " 'AMG GLS 63 4MATIC',\n",
    " 'AMG GT AMG GT S',\n",
    " 'Aventador LP700-4',\n",
    " 'Aventador LP750-4 Superveloce',\n",
    " 'Aventador S Base',\n",
    " 'Aventador SVJ Base',\n",
    " 'Bentayga Activity Edition',\n",
    " 'Bentayga Azure First Edition',\n",
    " 'Bentayga Onyx Edition',\n",
    " 'Bentayga S',\n",
    " 'Bentayga Speed',\n",
    " 'Bentayga V8',\n",
    " 'Bronco Raptor',\n",
    " 'CT5-V Blackwing',\n",
    " 'Carrera GT Base',\n",
    " 'Cayman GTS',\n",
    " 'Continental GT GT Speed',\n",
    " 'Continental GT Speed',\n",
    " 'Continental GT V8',\n",
    " 'Continental GT V8 First Edition',\n",
    " 'Continental GT V8 S',\n",
    " 'Cullinan',\n",
    " 'DeVille Base',\n",
    " 'Escalade Sport',\n",
    " 'F12berlinetta Base',\n",
    " 'FF Base',\n",
    " 'Flying Spur V8',\n",
    " 'GT',\n",
    " 'GTC4Lusso T',\n",
    " 'Gallardo LP570-4 Superleggera',\n",
    " 'Gallardo SE',\n",
    " 'Ghost Base',\n",
    " 'Grecale Modena',\n",
    " 'Huracan EVO Base',\n",
    " 'Huracan EVO Coupe',\n",
    " 'Huracan LP580-2',\n",
    " 'Huracan LP580-2S',\n",
    " 'Huracan LP610-4',\n",
    " 'Huracan Tecnica Coupe',\n",
    " 'Levante GTS',\n",
    " 'M8 Competition',\n",
    " 'M8 Gran Coupe Competition',\n",
    " 'MC20 Base',\n",
    " 'Martin DB7 Vantage Volante',\n",
    " 'Martin DBS Superleggera',\n",
    " 'Martin DBX Base',\n",
    " 'Maybach S 580 4MATIC',\n",
    " 'Murcielago Base',\n",
    " 'Phantom',\n",
    " 'Phantom Drophead Coupe Drophead',\n",
    " 'Pilot Elite',\n",
    " 'R8 5.2 V10',\n",
    " 'R8 5.2 V10 performance',\n",
    " 'RS 7 4.0T',\n",
    " 'RS 7 4.0T quattro',\n",
    " 'RS Q8 4.0T',\n",
    " 'RS Q8 4.0T quattro',\n",
    " 'Roma Base',\n",
    " 'Rover LR4 Lux',\n",
    " 'Rover Range Rover P525 HSE SWB',\n",
    " 'Rover Range Rover P530 SE',\n",
    " 'Rover Range Rover P530 SE LWB 7 Seat',\n",
    " 'Rover Range Rover P530 SE SWB',\n",
    " 'S-Class S 580 4MATIC',\n",
    " 'S4 Base',\n",
    " 'SQ7 4.0T',\n",
    " 'Shelby GT500 Base',\n",
    " 'Sierra 1500 SLE1 Extended Cab',\n",
    " 'Silverado 1500 Custom Trail Boss',\n",
    " 'Taycan Turbo',\n",
    " 'Urus Base',\n",
    " 'Urus Pearl Capsule',\n",
    " 'Veyron 16.4 Grand Sport',\n",
    " 'Wraith Base']\n",
    "\n",
    "\n",
    "def categorize_model(model):\n",
    "    if model in prem_models:\n",
    "        return 1\n",
    "    else:\n",
    "        return 0\n",
    "\n",
    "train['model_category'] = train['model'].apply(categorize_model)"
   ]
  },
  {
   "cell_type": "code",
   "execution_count": 12,
   "metadata": {
    "tags": []
   },
   "outputs": [],
   "source": [
    "average_prices_year = train.groupby('model_year')['price'].mean().reset_index()\n",
    "\n",
    "average_prices_brand.rename(columns={'price': 'average_prices_brand'}, inplace=True)\n",
    "train_new = pd.merge(train, average_prices_brand, on='brand')\n",
    "average_prices_year.rename(columns={'price': 'average_prices_year'}, inplace=True)\n",
    "train_new = pd.merge(train_new, average_prices_year, on='model_year')\n",
    "\n",
    "average_prices_model.rename(columns={'price': 'average_prices_model'}, inplace=True)\n",
    "train_new = pd.merge(train_new, average_prices_model, on='model')"
   ]
  },
  {
   "cell_type": "markdown",
   "metadata": {},
   "source": [
    "## Models"
   ]
  },
  {
   "cell_type": "code",
   "execution_count": 13,
   "metadata": {},
   "outputs": [],
   "source": [
    "numerical_cols = ['milage', 'average_prices_brand','average_prices_year','average_prices_model']\n",
    "cat_cols = ['brand', 'model', 'model_year','fuel_type',\n",
    "       'transmission', 'ext_col', 'int_col', 'accident', 'clean_title', 'year_category','brand_category','model_category']\n",
    "text_col = ['engine']\n",
    "for i in cat_cols:\n",
    "    train_new[i] = train_new[i].astype(str)\n",
    "    \n",
    "for i in text_col:\n",
    "    train_new[i] = train_new[i].astype(str)"
   ]
  },
  {
   "cell_type": "code",
   "execution_count": 14,
   "metadata": {
    "tags": []
   },
   "outputs": [],
   "source": [
    "X = train_new.drop(columns = ['price', 'id'])\n",
    "y = train_new['price']\n",
    "X_train, X_test, y_train, y_test = train_test_split(X, y,random_state=42, train_size=0.8, shuffle=True)"
   ]
  },
  {
   "cell_type": "markdown",
   "metadata": {},
   "source": [
    "## CatBoost"
   ]
  },
  {
   "cell_type": "code",
   "execution_count": 25,
   "metadata": {},
   "outputs": [],
   "source": [
    "from catboost import CatBoostRegressor\n",
    "import optuna\n",
    "from optuna.samplers import TPESampler\n",
    "from catboost import Pool\n",
    "from sklearn.metrics import mean_squared_error\n",
    "from sklearn.ensemble import StackingRegressor\n",
    "from sklearn.model_selection import KFold"
   ]
  },
  {
   "cell_type": "code",
   "execution_count": 26,
   "metadata": {},
   "outputs": [],
   "source": [
    "params = { \n",
    "    'learning_rate':0.1,\n",
    "    'depth':3,\n",
    "    'max_ctr_complexity':1,\n",
    "    'use_best_model':True,\n",
    "    'eval_metric':'RMSE',\n",
    "    'verbose':True,\n",
    "    'thread_count':-1,\n",
    "    'min_data_in_leaf':50,\n",
    "    'early_stopping_rounds':50,\n",
    "    'iterations':500\n",
    "}"
   ]
  },
  {
   "cell_type": "code",
   "execution_count": 27,
   "metadata": {},
   "outputs": [],
   "source": [
    "def fit_model(train_pool, validation_pool, params):\n",
    "    model = CatBoostRegressor(\n",
    "        **params\n",
    "    )\n",
    "    return model.fit(\n",
    "        train_pool,\n",
    "        eval_set=validation_pool,\n",
    "        verbose=False,\n",
    "    )"
   ]
  },
  {
   "cell_type": "code",
   "execution_count": 28,
   "metadata": {},
   "outputs": [],
   "source": [
    "def forward_selection(to_add_feats, params, eps=0.0):\n",
    "    \n",
    "    top_score = 10000\n",
    "    \n",
    "    features_dict = dict()\n",
    "    features = []\n",
    "    for i, add_feat in enumerate(to_add_feats):\n",
    "        \n",
    "        features.append(add_feat)\n",
    "        features.sort()\n",
    "        cat_features = [feat for feat in features if feat in cat_cols]\n",
    "        text_features = [feat for feat in features if feat in text_col]\n",
    "        \n",
    "        if len(cat_features)>0:\n",
    "            train_pool = Pool(\n",
    "            X_train[features].values, y_train.values,\n",
    "            text_features = text_features,\n",
    "            feature_names = features,\n",
    "            cat_features = cat_features\n",
    "            )\n",
    "\n",
    "            validation_pool = Pool(\n",
    "                X_test[features].values, y_test.values,\n",
    "                text_features = text_features,\n",
    "                feature_names = features,\n",
    "                cat_features= cat_features\n",
    "            )\n",
    "        else:\n",
    "            train_pool = Pool(\n",
    "            X_train[features].values, y_train.values,\n",
    "            text_features = text_features,\n",
    "            feature_names = features,\n",
    "            )\n",
    "\n",
    "            validation_pool = Pool(\n",
    "                X_test[features].values, y_test.values,\n",
    "                text_features = text_features,\n",
    "                feature_names = features,\n",
    "            )\n",
    "        \n",
    "        model = fit_model(train_pool,validation_pool,params)\n",
    "        \n",
    "        valid_score = model.best_score_['validation']['RMSE']\n",
    "        features_dict[add_feat] = top_score - valid_score\n",
    "\n",
    "        if valid_score < top_score - eps:\n",
    "            top_score = valid_score\n",
    "        else:\n",
    "            features.remove(add_feat)\n",
    "            features.sort()\n",
    "    \n",
    "    return features, features_dict"
   ]
  },
  {
   "cell_type": "code",
   "execution_count": 19,
   "metadata": {},
   "outputs": [],
   "source": [
    "feats = numerical_cols+cat_cols+text_col"
   ]
  },
  {
   "cell_type": "code",
   "execution_count": 89,
   "metadata": {},
   "outputs": [],
   "source": [
    "FEATS_forw, features_dict_03 = forward_selection(feats, params,eps=0.00)"
   ]
  },
  {
   "cell_type": "code",
   "execution_count": 101,
   "metadata": {},
   "outputs": [
    {
     "name": "stdout",
     "output_type": "stream",
     "text": [
      "['accident', 'average_prices_brand', 'average_prices_model', 'average_prices_year', 'clean_title', 'engine', 'ext_col', 'fuel_type', 'int_col', 'milage', 'model', 'model_year', 'transmission']\n"
     ]
    }
   ],
   "source": [
    "print(FEATS_forw)"
   ]
  },
  {
   "cell_type": "code",
   "execution_count": 20,
   "metadata": {},
   "outputs": [],
   "source": [
    "FEATS_forw = ['accident', 'average_prices_brand', 'average_prices_model', 'average_prices_year', 'clean_title', 'engine', 'ext_col', 'fuel_type', 'int_col', 'milage', 'model', 'model_year', 'transmission']"
   ]
  },
  {
   "cell_type": "code",
   "execution_count": 21,
   "metadata": {},
   "outputs": [
    {
     "name": "stdout",
     "output_type": "stream",
     "text": [
      "17\n",
      "13\n"
     ]
    }
   ],
   "source": [
    "print(len(feats))\n",
    "print(len(FEATS_forw))"
   ]
  },
  {
   "cell_type": "code",
   "execution_count": 38,
   "metadata": {},
   "outputs": [],
   "source": [
    "from sklearn.metrics import mean_squared_error\n",
    "\n",
    "def objective(trial):\n",
    "    # Определение гиперпараметров\n",
    "    model = CatBoostRegressor(\n",
    "        objective = trial.suggest_categorical(\"objective\", [\"RMSE\"]),\n",
    "        iterations=trial.suggest_int(\"iterations\", 100, 1000),\n",
    "        learning_rate=trial.suggest_float(\"learning_rate\", 1e-3, 1e-1, log=True),\n",
    "        depth=trial.suggest_int(\"depth\", 4, 10),\n",
    "        l2_leaf_reg=trial.suggest_float(\"l2_leaf_reg\", 1e-8, 100.0, log=True),\n",
    "        # bootstrap_type=trial.suggest_categorical(\"bootstrap_type\", [\"Bayesian\"]),\n",
    "        random_strength=trial.suggest_float(\"random_strength\", 1e-8, 10.0, log=True),\n",
    "        bagging_temperature=trial.suggest_float(\"bagging_temperature\", 0.0, 10.0),\n",
    "        od_type=trial.suggest_categorical(\"od_type\", [\"IncToDec\", \"Iter\"]),\n",
    "        od_wait=trial.suggest_int(\"od_wait\", 10, 50),\n",
    "        verbose=False\n",
    "    )\n",
    "    \n",
    "    # Обучение модели\n",
    "    model.fit(train_pool,eval_set=validation_pool, verbose=False)\n",
    "    \n",
    "    # Предсказания\n",
    "    y_train_pred = model.predict(X_train[FEATS_forw])\n",
    "    y_val_pred = model.predict(X_test[FEATS_forw])\n",
    "    \n",
    "    # Вычисление ошибок\n",
    "    train_rmse = mean_squared_error(y_train, y_train_pred, squared=False)\n",
    "    val_rmse = mean_squared_error(y_test, y_val_pred, squared=False)\n",
    "    \n",
    "    # Учет переобучения\n",
    "    score = 100000000 if val_rmse/train_rmse>1.1 else val_rmse\n",
    "\n",
    "    return score"
   ]
  },
  {
   "cell_type": "code",
   "execution_count": 31,
   "metadata": {},
   "outputs": [],
   "source": [
    "optuna.logging.set_verbosity(optuna.logging.WARNING)"
   ]
  },
  {
   "cell_type": "code",
   "execution_count": 39,
   "metadata": {},
   "outputs": [
    {
     "name": "stderr",
     "output_type": "stream",
     "text": [
      "[W 2024-11-30 14:53:08,329] Trial 19 failed with parameters: {'objective': 'RMSE', 'iterations': 908, 'learning_rate': 0.014544837488246138, 'depth': 8, 'l2_leaf_reg': 1.0215574292582667e-08, 'random_strength': 2.0532642591644733e-05, 'bagging_temperature': 3.271672311023489, 'od_type': 'IncToDec', 'od_wait': 31} because of the following error: KeyboardInterrupt('').\n",
      "Traceback (most recent call last):\n",
      "  File \"/Users/caprize/.pyenv/versions/3.8.13/lib/python3.8/site-packages/optuna/study/_optimize.py\", line 197, in _run_trial\n",
      "    value_or_values = func(trial)\n",
      "  File \"/var/folders/vn/08nv62l14cngcmwdzhp6khyh0000gn/T/ipykernel_6342/1756470834.py\", line 20, in objective\n",
      "    model.fit(train_pool,eval_set=validation_pool, verbose=False)\n",
      "  File \"/Users/caprize/.pyenv/versions/3.8.13/lib/python3.8/site-packages/catboost/core.py\", line 5873, in fit\n",
      "    return self._fit(X, y, cat_features, text_features, embedding_features, None, graph, sample_weight, None, None, None, None, baseline,\n",
      "  File \"/Users/caprize/.pyenv/versions/3.8.13/lib/python3.8/site-packages/catboost/core.py\", line 2410, in _fit\n",
      "    self._train(\n",
      "  File \"/Users/caprize/.pyenv/versions/3.8.13/lib/python3.8/site-packages/catboost/core.py\", line 1790, in _train\n",
      "    self._object._train(train_pool, test_pool, params, allow_clear_pool, init_model._object if init_model else None)\n",
      "  File \"_catboost.pyx\", line 5017, in _catboost._CatBoost._train\n",
      "  File \"_catboost.pyx\", line 5066, in _catboost._CatBoost._train\n",
      "KeyboardInterrupt\n",
      "[W 2024-11-30 14:53:08,336] Trial 19 failed with value None.\n"
     ]
    },
    {
     "ename": "KeyboardInterrupt",
     "evalue": "",
     "output_type": "error",
     "traceback": [
      "\u001b[0;31m---------------------------------------------------------------------------\u001b[0m",
      "\u001b[0;31mKeyboardInterrupt\u001b[0m                         Traceback (most recent call last)",
      "Cell \u001b[0;32mIn[39], line 23\u001b[0m\n\u001b[1;32m     21\u001b[0m sampler \u001b[38;5;241m=\u001b[39m TPESampler(seed\u001b[38;5;241m=\u001b[39m\u001b[38;5;241m1\u001b[39m)\n\u001b[1;32m     22\u001b[0m study \u001b[38;5;241m=\u001b[39m optuna\u001b[38;5;241m.\u001b[39mcreate_study(study_name\u001b[38;5;241m=\u001b[39m\u001b[38;5;124mf\u001b[39m\u001b[38;5;124m\"\u001b[39m\u001b[38;5;124mcatboost\u001b[39m\u001b[38;5;132;01m{\u001b[39;00mk\u001b[38;5;132;01m}\u001b[39;00m\u001b[38;5;124m\"\u001b[39m, direction\u001b[38;5;241m=\u001b[39m\u001b[38;5;124m\"\u001b[39m\u001b[38;5;124mminimize\u001b[39m\u001b[38;5;124m\"\u001b[39m, sampler\u001b[38;5;241m=\u001b[39msampler)\n\u001b[0;32m---> 23\u001b[0m \u001b[43mstudy\u001b[49m\u001b[38;5;241;43m.\u001b[39;49m\u001b[43moptimize\u001b[49m\u001b[43m(\u001b[49m\u001b[43mobjective\u001b[49m\u001b[43m,\u001b[49m\u001b[43m \u001b[49m\u001b[43mn_trials\u001b[49m\u001b[38;5;241;43m=\u001b[39;49m\u001b[38;5;241;43m100\u001b[39;49m\u001b[43m)\u001b[49m\n\u001b[1;32m     24\u001b[0m \u001b[38;5;28mprint\u001b[39m(\u001b[38;5;124m\"\u001b[39m\u001b[38;5;124mModel is: \u001b[39m\u001b[38;5;124m\"\u001b[39m,k)\n\u001b[1;32m     25\u001b[0m \u001b[38;5;28mprint\u001b[39m(\u001b[38;5;124m\"\u001b[39m\u001b[38;5;124mNumber of finished trials: \u001b[39m\u001b[38;5;124m\"\u001b[39m, \u001b[38;5;28mlen\u001b[39m(study\u001b[38;5;241m.\u001b[39mtrials))\n",
      "File \u001b[0;32m~/.pyenv/versions/3.8.13/lib/python3.8/site-packages/optuna/study/study.py:475\u001b[0m, in \u001b[0;36mStudy.optimize\u001b[0;34m(self, func, n_trials, timeout, n_jobs, catch, callbacks, gc_after_trial, show_progress_bar)\u001b[0m\n\u001b[1;32m    373\u001b[0m \u001b[38;5;28;01mdef\u001b[39;00m \u001b[38;5;21moptimize\u001b[39m(\n\u001b[1;32m    374\u001b[0m     \u001b[38;5;28mself\u001b[39m,\n\u001b[1;32m    375\u001b[0m     func: ObjectiveFuncType,\n\u001b[0;32m   (...)\u001b[0m\n\u001b[1;32m    382\u001b[0m     show_progress_bar: \u001b[38;5;28mbool\u001b[39m \u001b[38;5;241m=\u001b[39m \u001b[38;5;28;01mFalse\u001b[39;00m,\n\u001b[1;32m    383\u001b[0m ) \u001b[38;5;241m-\u001b[39m\u001b[38;5;241m>\u001b[39m \u001b[38;5;28;01mNone\u001b[39;00m:\n\u001b[1;32m    384\u001b[0m \u001b[38;5;250m    \u001b[39m\u001b[38;5;124;03m\"\"\"Optimize an objective function.\u001b[39;00m\n\u001b[1;32m    385\u001b[0m \n\u001b[1;32m    386\u001b[0m \u001b[38;5;124;03m    Optimization is done by choosing a suitable set of hyperparameter values from a given\u001b[39;00m\n\u001b[0;32m   (...)\u001b[0m\n\u001b[1;32m    473\u001b[0m \u001b[38;5;124;03m            If nested invocation of this method occurs.\u001b[39;00m\n\u001b[1;32m    474\u001b[0m \u001b[38;5;124;03m    \"\"\"\u001b[39;00m\n\u001b[0;32m--> 475\u001b[0m     \u001b[43m_optimize\u001b[49m\u001b[43m(\u001b[49m\n\u001b[1;32m    476\u001b[0m \u001b[43m        \u001b[49m\u001b[43mstudy\u001b[49m\u001b[38;5;241;43m=\u001b[39;49m\u001b[38;5;28;43mself\u001b[39;49m\u001b[43m,\u001b[49m\n\u001b[1;32m    477\u001b[0m \u001b[43m        \u001b[49m\u001b[43mfunc\u001b[49m\u001b[38;5;241;43m=\u001b[39;49m\u001b[43mfunc\u001b[49m\u001b[43m,\u001b[49m\n\u001b[1;32m    478\u001b[0m \u001b[43m        \u001b[49m\u001b[43mn_trials\u001b[49m\u001b[38;5;241;43m=\u001b[39;49m\u001b[43mn_trials\u001b[49m\u001b[43m,\u001b[49m\n\u001b[1;32m    479\u001b[0m \u001b[43m        \u001b[49m\u001b[43mtimeout\u001b[49m\u001b[38;5;241;43m=\u001b[39;49m\u001b[43mtimeout\u001b[49m\u001b[43m,\u001b[49m\n\u001b[1;32m    480\u001b[0m \u001b[43m        \u001b[49m\u001b[43mn_jobs\u001b[49m\u001b[38;5;241;43m=\u001b[39;49m\u001b[43mn_jobs\u001b[49m\u001b[43m,\u001b[49m\n\u001b[1;32m    481\u001b[0m \u001b[43m        \u001b[49m\u001b[43mcatch\u001b[49m\u001b[38;5;241;43m=\u001b[39;49m\u001b[38;5;28;43mtuple\u001b[39;49m\u001b[43m(\u001b[49m\u001b[43mcatch\u001b[49m\u001b[43m)\u001b[49m\u001b[43m \u001b[49m\u001b[38;5;28;43;01mif\u001b[39;49;00m\u001b[43m \u001b[49m\u001b[38;5;28;43misinstance\u001b[39;49m\u001b[43m(\u001b[49m\u001b[43mcatch\u001b[49m\u001b[43m,\u001b[49m\u001b[43m \u001b[49m\u001b[43mIterable\u001b[49m\u001b[43m)\u001b[49m\u001b[43m \u001b[49m\u001b[38;5;28;43;01melse\u001b[39;49;00m\u001b[43m \u001b[49m\u001b[43m(\u001b[49m\u001b[43mcatch\u001b[49m\u001b[43m,\u001b[49m\u001b[43m)\u001b[49m\u001b[43m,\u001b[49m\n\u001b[1;32m    482\u001b[0m \u001b[43m        \u001b[49m\u001b[43mcallbacks\u001b[49m\u001b[38;5;241;43m=\u001b[39;49m\u001b[43mcallbacks\u001b[49m\u001b[43m,\u001b[49m\n\u001b[1;32m    483\u001b[0m \u001b[43m        \u001b[49m\u001b[43mgc_after_trial\u001b[49m\u001b[38;5;241;43m=\u001b[39;49m\u001b[43mgc_after_trial\u001b[49m\u001b[43m,\u001b[49m\n\u001b[1;32m    484\u001b[0m \u001b[43m        \u001b[49m\u001b[43mshow_progress_bar\u001b[49m\u001b[38;5;241;43m=\u001b[39;49m\u001b[43mshow_progress_bar\u001b[49m\u001b[43m,\u001b[49m\n\u001b[1;32m    485\u001b[0m \u001b[43m    \u001b[49m\u001b[43m)\u001b[49m\n",
      "File \u001b[0;32m~/.pyenv/versions/3.8.13/lib/python3.8/site-packages/optuna/study/_optimize.py:63\u001b[0m, in \u001b[0;36m_optimize\u001b[0;34m(study, func, n_trials, timeout, n_jobs, catch, callbacks, gc_after_trial, show_progress_bar)\u001b[0m\n\u001b[1;32m     61\u001b[0m \u001b[38;5;28;01mtry\u001b[39;00m:\n\u001b[1;32m     62\u001b[0m     \u001b[38;5;28;01mif\u001b[39;00m n_jobs \u001b[38;5;241m==\u001b[39m \u001b[38;5;241m1\u001b[39m:\n\u001b[0;32m---> 63\u001b[0m         \u001b[43m_optimize_sequential\u001b[49m\u001b[43m(\u001b[49m\n\u001b[1;32m     64\u001b[0m \u001b[43m            \u001b[49m\u001b[43mstudy\u001b[49m\u001b[43m,\u001b[49m\n\u001b[1;32m     65\u001b[0m \u001b[43m            \u001b[49m\u001b[43mfunc\u001b[49m\u001b[43m,\u001b[49m\n\u001b[1;32m     66\u001b[0m \u001b[43m            \u001b[49m\u001b[43mn_trials\u001b[49m\u001b[43m,\u001b[49m\n\u001b[1;32m     67\u001b[0m \u001b[43m            \u001b[49m\u001b[43mtimeout\u001b[49m\u001b[43m,\u001b[49m\n\u001b[1;32m     68\u001b[0m \u001b[43m            \u001b[49m\u001b[43mcatch\u001b[49m\u001b[43m,\u001b[49m\n\u001b[1;32m     69\u001b[0m \u001b[43m            \u001b[49m\u001b[43mcallbacks\u001b[49m\u001b[43m,\u001b[49m\n\u001b[1;32m     70\u001b[0m \u001b[43m            \u001b[49m\u001b[43mgc_after_trial\u001b[49m\u001b[43m,\u001b[49m\n\u001b[1;32m     71\u001b[0m \u001b[43m            \u001b[49m\u001b[43mreseed_sampler_rng\u001b[49m\u001b[38;5;241;43m=\u001b[39;49m\u001b[38;5;28;43;01mFalse\u001b[39;49;00m\u001b[43m,\u001b[49m\n\u001b[1;32m     72\u001b[0m \u001b[43m            \u001b[49m\u001b[43mtime_start\u001b[49m\u001b[38;5;241;43m=\u001b[39;49m\u001b[38;5;28;43;01mNone\u001b[39;49;00m\u001b[43m,\u001b[49m\n\u001b[1;32m     73\u001b[0m \u001b[43m            \u001b[49m\u001b[43mprogress_bar\u001b[49m\u001b[38;5;241;43m=\u001b[39;49m\u001b[43mprogress_bar\u001b[49m\u001b[43m,\u001b[49m\n\u001b[1;32m     74\u001b[0m \u001b[43m        \u001b[49m\u001b[43m)\u001b[49m\n\u001b[1;32m     75\u001b[0m     \u001b[38;5;28;01melse\u001b[39;00m:\n\u001b[1;32m     76\u001b[0m         \u001b[38;5;28;01mif\u001b[39;00m n_jobs \u001b[38;5;241m==\u001b[39m \u001b[38;5;241m-\u001b[39m\u001b[38;5;241m1\u001b[39m:\n",
      "File \u001b[0;32m~/.pyenv/versions/3.8.13/lib/python3.8/site-packages/optuna/study/_optimize.py:160\u001b[0m, in \u001b[0;36m_optimize_sequential\u001b[0;34m(study, func, n_trials, timeout, catch, callbacks, gc_after_trial, reseed_sampler_rng, time_start, progress_bar)\u001b[0m\n\u001b[1;32m    157\u001b[0m         \u001b[38;5;28;01mbreak\u001b[39;00m\n\u001b[1;32m    159\u001b[0m \u001b[38;5;28;01mtry\u001b[39;00m:\n\u001b[0;32m--> 160\u001b[0m     frozen_trial \u001b[38;5;241m=\u001b[39m \u001b[43m_run_trial\u001b[49m\u001b[43m(\u001b[49m\u001b[43mstudy\u001b[49m\u001b[43m,\u001b[49m\u001b[43m \u001b[49m\u001b[43mfunc\u001b[49m\u001b[43m,\u001b[49m\u001b[43m \u001b[49m\u001b[43mcatch\u001b[49m\u001b[43m)\u001b[49m\n\u001b[1;32m    161\u001b[0m \u001b[38;5;28;01mfinally\u001b[39;00m:\n\u001b[1;32m    162\u001b[0m     \u001b[38;5;66;03m# The following line mitigates memory problems that can be occurred in some\u001b[39;00m\n\u001b[1;32m    163\u001b[0m     \u001b[38;5;66;03m# environments (e.g., services that use computing containers such as GitHub Actions).\u001b[39;00m\n\u001b[1;32m    164\u001b[0m     \u001b[38;5;66;03m# Please refer to the following PR for further details:\u001b[39;00m\n\u001b[1;32m    165\u001b[0m     \u001b[38;5;66;03m# https://github.com/optuna/optuna/pull/325.\u001b[39;00m\n\u001b[1;32m    166\u001b[0m     \u001b[38;5;28;01mif\u001b[39;00m gc_after_trial:\n",
      "File \u001b[0;32m~/.pyenv/versions/3.8.13/lib/python3.8/site-packages/optuna/study/_optimize.py:248\u001b[0m, in \u001b[0;36m_run_trial\u001b[0;34m(study, func, catch)\u001b[0m\n\u001b[1;32m    241\u001b[0m         \u001b[38;5;28;01massert\u001b[39;00m \u001b[38;5;28;01mFalse\u001b[39;00m, \u001b[38;5;124m\"\u001b[39m\u001b[38;5;124mShould not reach.\u001b[39m\u001b[38;5;124m\"\u001b[39m\n\u001b[1;32m    243\u001b[0m \u001b[38;5;28;01mif\u001b[39;00m (\n\u001b[1;32m    244\u001b[0m     frozen_trial\u001b[38;5;241m.\u001b[39mstate \u001b[38;5;241m==\u001b[39m TrialState\u001b[38;5;241m.\u001b[39mFAIL\n\u001b[1;32m    245\u001b[0m     \u001b[38;5;129;01mand\u001b[39;00m func_err \u001b[38;5;129;01mis\u001b[39;00m \u001b[38;5;129;01mnot\u001b[39;00m \u001b[38;5;28;01mNone\u001b[39;00m\n\u001b[1;32m    246\u001b[0m     \u001b[38;5;129;01mand\u001b[39;00m \u001b[38;5;129;01mnot\u001b[39;00m \u001b[38;5;28misinstance\u001b[39m(func_err, catch)\n\u001b[1;32m    247\u001b[0m ):\n\u001b[0;32m--> 248\u001b[0m     \u001b[38;5;28;01mraise\u001b[39;00m func_err\n\u001b[1;32m    249\u001b[0m \u001b[38;5;28;01mreturn\u001b[39;00m frozen_trial\n",
      "File \u001b[0;32m~/.pyenv/versions/3.8.13/lib/python3.8/site-packages/optuna/study/_optimize.py:197\u001b[0m, in \u001b[0;36m_run_trial\u001b[0;34m(study, func, catch)\u001b[0m\n\u001b[1;32m    195\u001b[0m \u001b[38;5;28;01mwith\u001b[39;00m get_heartbeat_thread(trial\u001b[38;5;241m.\u001b[39m_trial_id, study\u001b[38;5;241m.\u001b[39m_storage):\n\u001b[1;32m    196\u001b[0m     \u001b[38;5;28;01mtry\u001b[39;00m:\n\u001b[0;32m--> 197\u001b[0m         value_or_values \u001b[38;5;241m=\u001b[39m \u001b[43mfunc\u001b[49m\u001b[43m(\u001b[49m\u001b[43mtrial\u001b[49m\u001b[43m)\u001b[49m\n\u001b[1;32m    198\u001b[0m     \u001b[38;5;28;01mexcept\u001b[39;00m exceptions\u001b[38;5;241m.\u001b[39mTrialPruned \u001b[38;5;28;01mas\u001b[39;00m e:\n\u001b[1;32m    199\u001b[0m         \u001b[38;5;66;03m# TODO(mamu): Handle multi-objective cases.\u001b[39;00m\n\u001b[1;32m    200\u001b[0m         state \u001b[38;5;241m=\u001b[39m TrialState\u001b[38;5;241m.\u001b[39mPRUNED\n",
      "Cell \u001b[0;32mIn[38], line 20\u001b[0m, in \u001b[0;36mobjective\u001b[0;34m(trial)\u001b[0m\n\u001b[1;32m      5\u001b[0m model \u001b[38;5;241m=\u001b[39m CatBoostRegressor(\n\u001b[1;32m      6\u001b[0m     objective \u001b[38;5;241m=\u001b[39m trial\u001b[38;5;241m.\u001b[39msuggest_categorical(\u001b[38;5;124m\"\u001b[39m\u001b[38;5;124mobjective\u001b[39m\u001b[38;5;124m\"\u001b[39m, [\u001b[38;5;124m\"\u001b[39m\u001b[38;5;124mRMSE\u001b[39m\u001b[38;5;124m\"\u001b[39m]),\n\u001b[1;32m      7\u001b[0m     iterations\u001b[38;5;241m=\u001b[39mtrial\u001b[38;5;241m.\u001b[39msuggest_int(\u001b[38;5;124m\"\u001b[39m\u001b[38;5;124miterations\u001b[39m\u001b[38;5;124m\"\u001b[39m, \u001b[38;5;241m100\u001b[39m, \u001b[38;5;241m1000\u001b[39m),\n\u001b[0;32m   (...)\u001b[0m\n\u001b[1;32m     16\u001b[0m     verbose\u001b[38;5;241m=\u001b[39m\u001b[38;5;28;01mFalse\u001b[39;00m\n\u001b[1;32m     17\u001b[0m )\n\u001b[1;32m     19\u001b[0m \u001b[38;5;66;03m# Обучение модели\u001b[39;00m\n\u001b[0;32m---> 20\u001b[0m \u001b[43mmodel\u001b[49m\u001b[38;5;241;43m.\u001b[39;49m\u001b[43mfit\u001b[49m\u001b[43m(\u001b[49m\u001b[43mtrain_pool\u001b[49m\u001b[43m,\u001b[49m\u001b[43meval_set\u001b[49m\u001b[38;5;241;43m=\u001b[39;49m\u001b[43mvalidation_pool\u001b[49m\u001b[43m,\u001b[49m\u001b[43m \u001b[49m\u001b[43mverbose\u001b[49m\u001b[38;5;241;43m=\u001b[39;49m\u001b[38;5;28;43;01mFalse\u001b[39;49;00m\u001b[43m)\u001b[49m\n\u001b[1;32m     22\u001b[0m \u001b[38;5;66;03m# Предсказания\u001b[39;00m\n\u001b[1;32m     23\u001b[0m y_train_pred \u001b[38;5;241m=\u001b[39m model\u001b[38;5;241m.\u001b[39mpredict(X_train[FEATS_forw])\n",
      "File \u001b[0;32m~/.pyenv/versions/3.8.13/lib/python3.8/site-packages/catboost/core.py:5873\u001b[0m, in \u001b[0;36mCatBoostRegressor.fit\u001b[0;34m(self, X, y, cat_features, text_features, embedding_features, graph, sample_weight, baseline, use_best_model, eval_set, verbose, logging_level, plot, plot_file, column_description, verbose_eval, metric_period, silent, early_stopping_rounds, save_snapshot, snapshot_file, snapshot_interval, init_model, callbacks, log_cout, log_cerr)\u001b[0m\n\u001b[1;32m   5871\u001b[0m \u001b[38;5;28;01mif\u001b[39;00m \u001b[38;5;124m'\u001b[39m\u001b[38;5;124mloss_function\u001b[39m\u001b[38;5;124m'\u001b[39m \u001b[38;5;129;01min\u001b[39;00m params:\n\u001b[1;32m   5872\u001b[0m     CatBoostRegressor\u001b[38;5;241m.\u001b[39m_check_is_compatible_loss(params[\u001b[38;5;124m'\u001b[39m\u001b[38;5;124mloss_function\u001b[39m\u001b[38;5;124m'\u001b[39m])\n\u001b[0;32m-> 5873\u001b[0m \u001b[38;5;28;01mreturn\u001b[39;00m \u001b[38;5;28;43mself\u001b[39;49m\u001b[38;5;241;43m.\u001b[39;49m\u001b[43m_fit\u001b[49m\u001b[43m(\u001b[49m\u001b[43mX\u001b[49m\u001b[43m,\u001b[49m\u001b[43m \u001b[49m\u001b[43my\u001b[49m\u001b[43m,\u001b[49m\u001b[43m \u001b[49m\u001b[43mcat_features\u001b[49m\u001b[43m,\u001b[49m\u001b[43m \u001b[49m\u001b[43mtext_features\u001b[49m\u001b[43m,\u001b[49m\u001b[43m \u001b[49m\u001b[43membedding_features\u001b[49m\u001b[43m,\u001b[49m\u001b[43m \u001b[49m\u001b[38;5;28;43;01mNone\u001b[39;49;00m\u001b[43m,\u001b[49m\u001b[43m \u001b[49m\u001b[43mgraph\u001b[49m\u001b[43m,\u001b[49m\u001b[43m \u001b[49m\u001b[43msample_weight\u001b[49m\u001b[43m,\u001b[49m\u001b[43m \u001b[49m\u001b[38;5;28;43;01mNone\u001b[39;49;00m\u001b[43m,\u001b[49m\u001b[43m \u001b[49m\u001b[38;5;28;43;01mNone\u001b[39;49;00m\u001b[43m,\u001b[49m\u001b[43m \u001b[49m\u001b[38;5;28;43;01mNone\u001b[39;49;00m\u001b[43m,\u001b[49m\u001b[43m \u001b[49m\u001b[38;5;28;43;01mNone\u001b[39;49;00m\u001b[43m,\u001b[49m\u001b[43m \u001b[49m\u001b[43mbaseline\u001b[49m\u001b[43m,\u001b[49m\n\u001b[1;32m   5874\u001b[0m \u001b[43m                 \u001b[49m\u001b[43muse_best_model\u001b[49m\u001b[43m,\u001b[49m\u001b[43m \u001b[49m\u001b[43meval_set\u001b[49m\u001b[43m,\u001b[49m\u001b[43m \u001b[49m\u001b[43mverbose\u001b[49m\u001b[43m,\u001b[49m\u001b[43m \u001b[49m\u001b[43mlogging_level\u001b[49m\u001b[43m,\u001b[49m\u001b[43m \u001b[49m\u001b[43mplot\u001b[49m\u001b[43m,\u001b[49m\u001b[43m \u001b[49m\u001b[43mplot_file\u001b[49m\u001b[43m,\u001b[49m\u001b[43m \u001b[49m\u001b[43mcolumn_description\u001b[49m\u001b[43m,\u001b[49m\n\u001b[1;32m   5875\u001b[0m \u001b[43m                 \u001b[49m\u001b[43mverbose_eval\u001b[49m\u001b[43m,\u001b[49m\u001b[43m \u001b[49m\u001b[43mmetric_period\u001b[49m\u001b[43m,\u001b[49m\u001b[43m \u001b[49m\u001b[43msilent\u001b[49m\u001b[43m,\u001b[49m\u001b[43m \u001b[49m\u001b[43mearly_stopping_rounds\u001b[49m\u001b[43m,\u001b[49m\n\u001b[1;32m   5876\u001b[0m \u001b[43m                 \u001b[49m\u001b[43msave_snapshot\u001b[49m\u001b[43m,\u001b[49m\u001b[43m \u001b[49m\u001b[43msnapshot_file\u001b[49m\u001b[43m,\u001b[49m\u001b[43m \u001b[49m\u001b[43msnapshot_interval\u001b[49m\u001b[43m,\u001b[49m\u001b[43m \u001b[49m\u001b[43minit_model\u001b[49m\u001b[43m,\u001b[49m\u001b[43m \u001b[49m\u001b[43mcallbacks\u001b[49m\u001b[43m,\u001b[49m\u001b[43m \u001b[49m\u001b[43mlog_cout\u001b[49m\u001b[43m,\u001b[49m\u001b[43m \u001b[49m\u001b[43mlog_cerr\u001b[49m\u001b[43m)\u001b[49m\n",
      "File \u001b[0;32m~/.pyenv/versions/3.8.13/lib/python3.8/site-packages/catboost/core.py:2410\u001b[0m, in \u001b[0;36mCatBoost._fit\u001b[0;34m(self, X, y, cat_features, text_features, embedding_features, pairs, graph, sample_weight, group_id, group_weight, subgroup_id, pairs_weight, baseline, use_best_model, eval_set, verbose, logging_level, plot, plot_file, column_description, verbose_eval, metric_period, silent, early_stopping_rounds, save_snapshot, snapshot_file, snapshot_interval, init_model, callbacks, log_cout, log_cerr)\u001b[0m\n\u001b[1;32m   2407\u001b[0m allow_clear_pool \u001b[38;5;241m=\u001b[39m train_params[\u001b[38;5;124m\"\u001b[39m\u001b[38;5;124mallow_clear_pool\u001b[39m\u001b[38;5;124m\"\u001b[39m]\n\u001b[1;32m   2409\u001b[0m \u001b[38;5;28;01mwith\u001b[39;00m plot_wrapper(plot, plot_file, \u001b[38;5;124m'\u001b[39m\u001b[38;5;124mTraining plots\u001b[39m\u001b[38;5;124m'\u001b[39m, [_get_train_dir(\u001b[38;5;28mself\u001b[39m\u001b[38;5;241m.\u001b[39mget_params())]):\n\u001b[0;32m-> 2410\u001b[0m     \u001b[38;5;28;43mself\u001b[39;49m\u001b[38;5;241;43m.\u001b[39;49m\u001b[43m_train\u001b[49m\u001b[43m(\u001b[49m\n\u001b[1;32m   2411\u001b[0m \u001b[43m        \u001b[49m\u001b[43mtrain_pool\u001b[49m\u001b[43m,\u001b[49m\n\u001b[1;32m   2412\u001b[0m \u001b[43m        \u001b[49m\u001b[43mtrain_params\u001b[49m\u001b[43m[\u001b[49m\u001b[38;5;124;43m\"\u001b[39;49m\u001b[38;5;124;43meval_sets\u001b[39;49m\u001b[38;5;124;43m\"\u001b[39;49m\u001b[43m]\u001b[49m\u001b[43m,\u001b[49m\n\u001b[1;32m   2413\u001b[0m \u001b[43m        \u001b[49m\u001b[43mparams\u001b[49m\u001b[43m,\u001b[49m\n\u001b[1;32m   2414\u001b[0m \u001b[43m        \u001b[49m\u001b[43mallow_clear_pool\u001b[49m\u001b[43m,\u001b[49m\n\u001b[1;32m   2415\u001b[0m \u001b[43m        \u001b[49m\u001b[43mtrain_params\u001b[49m\u001b[43m[\u001b[49m\u001b[38;5;124;43m\"\u001b[39;49m\u001b[38;5;124;43minit_model\u001b[39;49m\u001b[38;5;124;43m\"\u001b[39;49m\u001b[43m]\u001b[49m\n\u001b[1;32m   2416\u001b[0m \u001b[43m    \u001b[49m\u001b[43m)\u001b[49m\n\u001b[1;32m   2418\u001b[0m \u001b[38;5;66;03m# Have property feature_importance possibly set\u001b[39;00m\n\u001b[1;32m   2419\u001b[0m loss \u001b[38;5;241m=\u001b[39m \u001b[38;5;28mself\u001b[39m\u001b[38;5;241m.\u001b[39m_object\u001b[38;5;241m.\u001b[39m_get_loss_function_name()\n",
      "File \u001b[0;32m~/.pyenv/versions/3.8.13/lib/python3.8/site-packages/catboost/core.py:1790\u001b[0m, in \u001b[0;36m_CatBoostBase._train\u001b[0;34m(self, train_pool, test_pool, params, allow_clear_pool, init_model)\u001b[0m\n\u001b[1;32m   1789\u001b[0m \u001b[38;5;28;01mdef\u001b[39;00m \u001b[38;5;21m_train\u001b[39m(\u001b[38;5;28mself\u001b[39m, train_pool, test_pool, params, allow_clear_pool, init_model):\n\u001b[0;32m-> 1790\u001b[0m     \u001b[38;5;28;43mself\u001b[39;49m\u001b[38;5;241;43m.\u001b[39;49m\u001b[43m_object\u001b[49m\u001b[38;5;241;43m.\u001b[39;49m\u001b[43m_train\u001b[49m\u001b[43m(\u001b[49m\u001b[43mtrain_pool\u001b[49m\u001b[43m,\u001b[49m\u001b[43m \u001b[49m\u001b[43mtest_pool\u001b[49m\u001b[43m,\u001b[49m\u001b[43m \u001b[49m\u001b[43mparams\u001b[49m\u001b[43m,\u001b[49m\u001b[43m \u001b[49m\u001b[43mallow_clear_pool\u001b[49m\u001b[43m,\u001b[49m\u001b[43m \u001b[49m\u001b[43minit_model\u001b[49m\u001b[38;5;241;43m.\u001b[39;49m\u001b[43m_object\u001b[49m\u001b[43m \u001b[49m\u001b[38;5;28;43;01mif\u001b[39;49;00m\u001b[43m \u001b[49m\u001b[43minit_model\u001b[49m\u001b[43m \u001b[49m\u001b[38;5;28;43;01melse\u001b[39;49;00m\u001b[43m \u001b[49m\u001b[38;5;28;43;01mNone\u001b[39;49;00m\u001b[43m)\u001b[49m\n\u001b[1;32m   1791\u001b[0m     \u001b[38;5;28mself\u001b[39m\u001b[38;5;241m.\u001b[39m_set_trained_model_attributes()\n",
      "File \u001b[0;32m_catboost.pyx:5017\u001b[0m, in \u001b[0;36m_catboost._CatBoost._train\u001b[0;34m()\u001b[0m\n",
      "File \u001b[0;32m_catboost.pyx:5066\u001b[0m, in \u001b[0;36m_catboost._CatBoost._train\u001b[0;34m()\u001b[0m\n",
      "\u001b[0;31mKeyboardInterrupt\u001b[0m: "
     ]
    }
   ],
   "source": [
    "kf = KFold(n_splits=5)\n",
    "cat_features = [feat for feat in FEATS_forw if feat in cat_cols]\n",
    "text_features = [feat for feat in FEATS_forw if feat in text_col]\n",
    "k = 0\n",
    "for train_index, test_index in kf.split(X):\n",
    "    k+=1\n",
    "    X_train, X_test = X.loc[train_index], X.loc[test_index]\n",
    "    y_train, y_test = y.loc[train_index], y.loc[test_index]\n",
    "    train_pool = Pool(\n",
    "            X_train[FEATS_forw].values, y_train.values,\n",
    "            text_features = text_features,\n",
    "            feature_names = FEATS_forw,\n",
    "            cat_features = cat_features\n",
    "            )\n",
    "\n",
    "    validation_pool = Pool(\n",
    "                X_test[FEATS_forw].values, y_test.values,\n",
    "                text_features = text_features,\n",
    "                feature_names = FEATS_forw,\n",
    "                cat_features= cat_features\n",
    "            )\n",
    "    sampler = TPESampler(seed=1)\n",
    "    study = optuna.create_study(study_name=f\"catboost{k}\", direction=\"minimize\", sampler=sampler)\n",
    "    study.optimize(objective, n_trials=100)\n",
    "    print(\"Model is: \",k)\n",
    "    print(\"Number of finished trials: \", len(study.trials))\n",
    "    print(\"Best trial:\")\n",
    "    trial = study.best_trial\n",
    "    print(\"  Value: \", trial.value)\n",
    "    print(\"  Params: \")\n",
    "    for key, value in trial.params.items():\n",
    "        print(\"    {}: {}\".format(key, value))\n",
    "    print(\"-----------------------\")\n",
    "    print()"
   ]
  },
  {
   "cell_type": "code",
   "execution_count": 38,
   "metadata": {
    "execution": {
     "iopub.execute_input": "2024-11-26T09:13:10.068224Z",
     "iopub.status.busy": "2024-11-26T09:13:10.067871Z",
     "iopub.status.idle": "2024-11-26T09:13:10.509924Z",
     "shell.execute_reply": "2024-11-26T09:13:10.508691Z",
     "shell.execute_reply.started": "2024-11-26T09:13:10.068188Z"
    }
   },
   "outputs": [
    {
     "data": {
      "text/plain": [
       "0.24332879618610548"
      ]
     },
     "execution_count": 38,
     "metadata": {},
     "output_type": "execute_result"
    }
   ],
   "source": [
    "y_pred = model.predict(validation_pool)\n",
    "mean_squared_error(y_test, y_pred)"
   ]
  },
  {
   "cell_type": "code",
   "execution_count": 39,
   "metadata": {
    "execution": {
     "iopub.execute_input": "2024-11-26T09:13:10.511510Z",
     "iopub.status.busy": "2024-11-26T09:13:10.511150Z",
     "iopub.status.idle": "2024-11-26T09:13:10.520541Z",
     "shell.execute_reply": "2024-11-26T09:13:10.519582Z",
     "shell.execute_reply.started": "2024-11-26T09:13:10.511471Z"
    }
   },
   "outputs": [
    {
     "data": {
      "text/plain": [
       "4717543039.900205"
      ]
     },
     "execution_count": 39,
     "metadata": {},
     "output_type": "execute_result"
    }
   ],
   "source": [
    "mean_squared_error(np.exp(y_test), np.exp(y_pred))"
   ]
  },
  {
   "cell_type": "code",
   "execution_count": 40,
   "metadata": {
    "execution": {
     "iopub.execute_input": "2024-11-26T09:13:10.521934Z",
     "iopub.status.busy": "2024-11-26T09:13:10.521572Z",
     "iopub.status.idle": "2024-11-26T09:13:10.536261Z",
     "shell.execute_reply": "2024-11-26T09:13:10.535075Z",
     "shell.execute_reply.started": "2024-11-26T09:13:10.521894Z"
    }
   },
   "outputs": [],
   "source": [
    "import matplotlib.pyplot as plt\n",
    "import pandas as pd\n",
    "import numpy as np\n",
    "\n",
    "def plot_feature_importance(importance, names, model_type):\n",
    "    feature_importance = np.array(importance)\n",
    "    feature_names = np.array(names)\n",
    "    data = {'feature_names': feature_names, 'feature_importance': feature_importance}\n",
    "    fi_df = pd.DataFrame(data)\n",
    "    \n",
    "    fi_df.sort_values(by=['feature_importance'], ascending=True, inplace=True)\n",
    "\n",
    "    plt.figure(figsize=(10, 6))\n",
    "    plt.barh(fi_df['feature_names'], fi_df['feature_importance'], color='skyblue')\n",
    "    plt.xlabel('Feature Importance', fontsize=14)\n",
    "    plt.ylabel('Feature Names', fontsize=14)\n",
    "    plt.title(f'Feature Importance ({model_type})', fontsize=16)\n",
    "    plt.grid(axis='x', linestyle='--', alpha=0.7)\n",
    "    plt.tight_layout()\n",
    "    plt.show()\n"
   ]
  },
  {
   "cell_type": "code",
   "execution_count": 41,
   "metadata": {
    "execution": {
     "iopub.execute_input": "2024-11-26T09:13:10.539478Z",
     "iopub.status.busy": "2024-11-26T09:13:10.538402Z",
     "iopub.status.idle": "2024-11-26T09:13:11.188969Z",
     "shell.execute_reply": "2024-11-26T09:13:11.188142Z",
     "shell.execute_reply.started": "2024-11-26T09:13:10.539431Z"
    }
   },
   "outputs": [],
   "source": [
    "import plotly.express as px"
   ]
  },
  {
   "cell_type": "code",
   "execution_count": 42,
   "metadata": {
    "execution": {
     "iopub.execute_input": "2024-11-26T09:13:11.190655Z",
     "iopub.status.busy": "2024-11-26T09:13:11.190055Z",
     "iopub.status.idle": "2024-11-26T09:13:11.655999Z",
     "shell.execute_reply": "2024-11-26T09:13:11.655127Z",
     "shell.execute_reply.started": "2024-11-26T09:13:11.190626Z"
    }
   },
   "outputs": [
    {
     "data": {
      "image/png": "[encoded data removed]",
      "text/plain": [
       "<Figure size 1000x600 with 1 Axes>"
      ]
     },
     "metadata": {},
     "output_type": "display_data"
    }
   ],
   "source": [
    "plot_feature_importance(model.feature_importances_,X_train.columns,'CatBoost')"
   ]
  },
  {
   "cell_type": "markdown",
   "metadata": {},
   "source": [
    "# Predict"
   ]
  },
  {
   "cell_type": "code",
   "execution_count": 43,
   "metadata": {
    "execution": {
     "iopub.execute_input": "2024-11-26T09:13:11.657626Z",
     "iopub.status.busy": "2024-11-26T09:13:11.657240Z",
     "iopub.status.idle": "2024-11-26T09:13:12.153653Z",
     "shell.execute_reply": "2024-11-26T09:13:12.152621Z",
     "shell.execute_reply.started": "2024-11-26T09:13:11.657576Z"
    }
   },
   "outputs": [
    {
     "data": {
      "text/html": [
       "<div>\n",
       "<style scoped>\n",
       "    .dataframe tbody tr th:only-of-type {\n",
       "        vertical-align: middle;\n",
       "    }\n",
       "\n",
       "    .dataframe tbody tr th {\n",
       "        vertical-align: top;\n",
       "    }\n",
       "\n",
       "    .dataframe thead th {\n",
       "        text-align: right;\n",
       "    }\n",
       "</style>\n",
       "<table border=\"1\" class=\"dataframe\">\n",
       "  <thead>\n",
       "    <tr style=\"text-align: right;\">\n",
       "      <th></th>\n",
       "      <th>id</th>\n",
       "      <th>brand</th>\n",
       "      <th>model</th>\n",
       "      <th>model_year</th>\n",
       "      <th>milage</th>\n",
       "      <th>fuel_type</th>\n",
       "      <th>engine</th>\n",
       "      <th>transmission</th>\n",
       "      <th>ext_col</th>\n",
       "      <th>int_col</th>\n",
       "      <th>accident</th>\n",
       "      <th>clean_title</th>\n",
       "    </tr>\n",
       "  </thead>\n",
       "  <tbody>\n",
       "    <tr>\n",
       "      <th>0</th>\n",
       "      <td>188533</td>\n",
       "      <td>Land</td>\n",
       "      <td>Rover LR2 Base</td>\n",
       "      <td>2015</td>\n",
       "      <td>98000</td>\n",
       "      <td>Gasoline</td>\n",
       "      <td>240.0HP 2.0L 4 Cylinder Engine Gasoline Fuel</td>\n",
       "      <td>6-Speed A/T</td>\n",
       "      <td>White</td>\n",
       "      <td>Beige</td>\n",
       "      <td>None reported</td>\n",
       "      <td>Yes</td>\n",
       "    </tr>\n",
       "    <tr>\n",
       "      <th>1</th>\n",
       "      <td>188534</td>\n",
       "      <td>Land</td>\n",
       "      <td>Rover Defender SE</td>\n",
       "      <td>2020</td>\n",
       "      <td>9142</td>\n",
       "      <td>Hybrid</td>\n",
       "      <td>395.0HP 3.0L Straight 6 Cylinder Engine Gasoli...</td>\n",
       "      <td>8-Speed A/T</td>\n",
       "      <td>Silver</td>\n",
       "      <td>Black</td>\n",
       "      <td>None reported</td>\n",
       "      <td>Yes</td>\n",
       "    </tr>\n",
       "    <tr>\n",
       "      <th>2</th>\n",
       "      <td>188535</td>\n",
       "      <td>Ford</td>\n",
       "      <td>Expedition Limited</td>\n",
       "      <td>2022</td>\n",
       "      <td>28121</td>\n",
       "      <td>Gasoline</td>\n",
       "      <td>3.5L V6 24V PDI DOHC Twin Turbo</td>\n",
       "      <td>10-Speed Automatic</td>\n",
       "      <td>White</td>\n",
       "      <td>Ebony</td>\n",
       "      <td>None reported</td>\n",
       "      <td>NaN</td>\n",
       "    </tr>\n",
       "    <tr>\n",
       "      <th>3</th>\n",
       "      <td>188536</td>\n",
       "      <td>Audi</td>\n",
       "      <td>A6 2.0T Sport</td>\n",
       "      <td>2016</td>\n",
       "      <td>61258</td>\n",
       "      <td>Gasoline</td>\n",
       "      <td>2.0 Liter TFSI</td>\n",
       "      <td>Automatic</td>\n",
       "      <td>Silician Yellow</td>\n",
       "      <td>Black</td>\n",
       "      <td>None reported</td>\n",
       "      <td>NaN</td>\n",
       "    </tr>\n",
       "    <tr>\n",
       "      <th>4</th>\n",
       "      <td>188537</td>\n",
       "      <td>Audi</td>\n",
       "      <td>A6 2.0T Premium Plus</td>\n",
       "      <td>2018</td>\n",
       "      <td>59000</td>\n",
       "      <td>Gasoline</td>\n",
       "      <td>252.0HP 2.0L 4 Cylinder Engine Gasoline Fuel</td>\n",
       "      <td>A/T</td>\n",
       "      <td>Gray</td>\n",
       "      <td>Black</td>\n",
       "      <td>None reported</td>\n",
       "      <td>Yes</td>\n",
       "    </tr>\n",
       "    <tr>\n",
       "      <th>...</th>\n",
       "      <td>...</td>\n",
       "      <td>...</td>\n",
       "      <td>...</td>\n",
       "      <td>...</td>\n",
       "      <td>...</td>\n",
       "      <td>...</td>\n",
       "      <td>...</td>\n",
       "      <td>...</td>\n",
       "      <td>...</td>\n",
       "      <td>...</td>\n",
       "      <td>...</td>\n",
       "      <td>...</td>\n",
       "    </tr>\n",
       "    <tr>\n",
       "      <th>125685</th>\n",
       "      <td>314218</td>\n",
       "      <td>Mercedes-Benz</td>\n",
       "      <td>GL-Class GL 450 4MATIC</td>\n",
       "      <td>2014</td>\n",
       "      <td>83315</td>\n",
       "      <td>Gasoline</td>\n",
       "      <td>362.0HP 3.0L V6 Cylinder Engine Gasoline Fuel</td>\n",
       "      <td>7-Speed A/T</td>\n",
       "      <td>Black</td>\n",
       "      <td>Black</td>\n",
       "      <td>None reported</td>\n",
       "      <td>Yes</td>\n",
       "    </tr>\n",
       "    <tr>\n",
       "      <th>125686</th>\n",
       "      <td>314219</td>\n",
       "      <td>Audi</td>\n",
       "      <td>Q7 55 Prestige</td>\n",
       "      <td>2019</td>\n",
       "      <td>29336</td>\n",
       "      <td>Gasoline</td>\n",
       "      <td>3.0 Liter Turbo</td>\n",
       "      <td>Automatic</td>\n",
       "      <td>White</td>\n",
       "      <td>Black</td>\n",
       "      <td>None reported</td>\n",
       "      <td>NaN</td>\n",
       "    </tr>\n",
       "    <tr>\n",
       "      <th>125687</th>\n",
       "      <td>314220</td>\n",
       "      <td>Audi</td>\n",
       "      <td>A6 3.0T Premium Plus</td>\n",
       "      <td>2012</td>\n",
       "      <td>77634</td>\n",
       "      <td>Gasoline</td>\n",
       "      <td>333.0HP 3.0L V6 Cylinder Engine Gasoline Fuel</td>\n",
       "      <td>A/T</td>\n",
       "      <td>Black</td>\n",
       "      <td>Black</td>\n",
       "      <td>None reported</td>\n",
       "      <td>Yes</td>\n",
       "    </tr>\n",
       "    <tr>\n",
       "      <th>125688</th>\n",
       "      <td>314221</td>\n",
       "      <td>Audi</td>\n",
       "      <td>Q7 3.0T Premium</td>\n",
       "      <td>2012</td>\n",
       "      <td>112000</td>\n",
       "      <td>Gasoline</td>\n",
       "      <td>333.0HP 3.0L V6 Cylinder Engine Gasoline Fuel</td>\n",
       "      <td>A/T</td>\n",
       "      <td>Black</td>\n",
       "      <td>Black</td>\n",
       "      <td>None reported</td>\n",
       "      <td>Yes</td>\n",
       "    </tr>\n",
       "    <tr>\n",
       "      <th>125689</th>\n",
       "      <td>314222</td>\n",
       "      <td>Chevrolet</td>\n",
       "      <td>Tahoe LT</td>\n",
       "      <td>2018</td>\n",
       "      <td>66840</td>\n",
       "      <td>Gasoline</td>\n",
       "      <td>355.0HP 5.3L 8 Cylinder Engine Gasoline Fuel</td>\n",
       "      <td>A/T</td>\n",
       "      <td>Silver</td>\n",
       "      <td>Black</td>\n",
       "      <td>None reported</td>\n",
       "      <td>Yes</td>\n",
       "    </tr>\n",
       "  </tbody>\n",
       "</table>\n",
       "<p>125690 rows × 12 columns</p>\n",
       "</div>"
      ],
      "text/plain": [
       "            id          brand                   model  model_year  milage  \\\n",
       "0       188533           Land          Rover LR2 Base        2015   98000   \n",
       "1       188534           Land       Rover Defender SE        2020    9142   \n",
       "2       188535           Ford      Expedition Limited        2022   28121   \n",
       "3       188536           Audi           A6 2.0T Sport        2016   61258   \n",
       "4       188537           Audi    A6 2.0T Premium Plus        2018   59000   \n",
       "...        ...            ...                     ...         ...     ...   \n",
       "125685  314218  Mercedes-Benz  GL-Class GL 450 4MATIC        2014   83315   \n",
       "125686  314219           Audi          Q7 55 Prestige        2019   29336   \n",
       "125687  314220           Audi    A6 3.0T Premium Plus        2012   77634   \n",
       "125688  314221           Audi         Q7 3.0T Premium        2012  112000   \n",
       "125689  314222      Chevrolet                Tahoe LT        2018   66840   \n",
       "\n",
       "       fuel_type                                             engine  \\\n",
       "0       Gasoline       240.0HP 2.0L 4 Cylinder Engine Gasoline Fuel   \n",
       "1         Hybrid  395.0HP 3.0L Straight 6 Cylinder Engine Gasoli...   \n",
       "2       Gasoline                    3.5L V6 24V PDI DOHC Twin Turbo   \n",
       "3       Gasoline                                     2.0 Liter TFSI   \n",
       "4       Gasoline       252.0HP 2.0L 4 Cylinder Engine Gasoline Fuel   \n",
       "...          ...                                                ...   \n",
       "125685  Gasoline      362.0HP 3.0L V6 Cylinder Engine Gasoline Fuel   \n",
       "125686  Gasoline                                    3.0 Liter Turbo   \n",
       "125687  Gasoline      333.0HP 3.0L V6 Cylinder Engine Gasoline Fuel   \n",
       "125688  Gasoline      333.0HP 3.0L V6 Cylinder Engine Gasoline Fuel   \n",
       "125689  Gasoline       355.0HP 5.3L 8 Cylinder Engine Gasoline Fuel   \n",
       "\n",
       "              transmission          ext_col int_col       accident clean_title  \n",
       "0              6-Speed A/T            White   Beige  None reported         Yes  \n",
       "1              8-Speed A/T           Silver   Black  None reported         Yes  \n",
       "2       10-Speed Automatic            White   Ebony  None reported         NaN  \n",
       "3                Automatic  Silician Yellow   Black  None reported         NaN  \n",
       "4                      A/T             Gray   Black  None reported         Yes  \n",
       "...                    ...              ...     ...            ...         ...  \n",
       "125685         7-Speed A/T            Black   Black  None reported         Yes  \n",
       "125686           Automatic            White   Black  None reported         NaN  \n",
       "125687                 A/T            Black   Black  None reported         Yes  \n",
       "125688                 A/T            Black   Black  None reported         Yes  \n",
       "125689                 A/T           Silver   Black  None reported         Yes  \n",
       "\n",
       "[125690 rows x 12 columns]"
      ]
     },
     "execution_count": 43,
     "metadata": {},
     "output_type": "execute_result"
    }
   ],
   "source": [
    "test = pd.read_csv(\"/kaggle/input/playground-series-s4e9/test.csv\")\n",
    "test"
   ]
  },
  {
   "cell_type": "code",
   "execution_count": 44,
   "metadata": {
    "execution": {
     "iopub.execute_input": "2024-11-26T09:13:12.154949Z",
     "iopub.status.busy": "2024-11-26T09:13:12.154675Z",
     "iopub.status.idle": "2024-11-26T09:13:12.217067Z",
     "shell.execute_reply": "2024-11-26T09:13:12.216069Z",
     "shell.execute_reply.started": "2024-11-26T09:13:12.154921Z"
    }
   },
   "outputs": [
    {
     "name": "stdout",
     "output_type": "stream",
     "text": [
      "<class 'pandas.core.frame.DataFrame'>\n",
      "RangeIndex: 125690 entries, 0 to 125689\n",
      "Data columns (total 12 columns):\n",
      " #   Column        Non-Null Count   Dtype \n",
      "---  ------        --------------   ----- \n",
      " 0   id            125690 non-null  int64 \n",
      " 1   brand         125690 non-null  object\n",
      " 2   model         125690 non-null  object\n",
      " 3   model_year    125690 non-null  int64 \n",
      " 4   milage        125690 non-null  int64 \n",
      " 5   fuel_type     122307 non-null  object\n",
      " 6   engine        125690 non-null  object\n",
      " 7   transmission  125690 non-null  object\n",
      " 8   ext_col       125690 non-null  object\n",
      " 9   int_col       125690 non-null  object\n",
      " 10  accident      124058 non-null  object\n",
      " 11  clean_title   111451 non-null  object\n",
      "dtypes: int64(3), object(9)\n",
      "memory usage: 11.5+ MB\n"
     ]
    }
   ],
   "source": [
    "test.info()"
   ]
  },
  {
   "cell_type": "code",
   "execution_count": 45,
   "metadata": {
    "execution": {
     "iopub.execute_input": "2024-11-26T09:13:12.218713Z",
     "iopub.status.busy": "2024-11-26T09:13:12.218401Z",
     "iopub.status.idle": "2024-11-26T09:13:12.274332Z",
     "shell.execute_reply": "2024-11-26T09:13:12.273506Z",
     "shell.execute_reply.started": "2024-11-26T09:13:12.218682Z"
    }
   },
   "outputs": [],
   "source": [
    "test.accident = test.accident.fillna('None reported')\n",
    "\n",
    "test.fuel_type = test.fuel_type.fillna(train.fuel_type.mode(dropna=True)[0])\n",
    "\n",
    "test.clean_title = test.clean_title.fillna(train.clean_title.mode(dropna=True)[0])"
   ]
  },
  {
   "cell_type": "code",
   "execution_count": 46,
   "metadata": {
    "execution": {
     "iopub.execute_input": "2024-11-26T09:13:12.275974Z",
     "iopub.status.busy": "2024-11-26T09:13:12.275544Z",
     "iopub.status.idle": "2024-11-26T09:13:12.595644Z",
     "shell.execute_reply": "2024-11-26T09:13:12.594829Z",
     "shell.execute_reply.started": "2024-11-26T09:13:12.275929Z"
    }
   },
   "outputs": [],
   "source": [
    "test['year_category'] = test['model_year'].apply(categorize_year)\n",
    "test['model_category'] = test['model'].apply(categorize_model)\n",
    "test['brand_category'] = test['brand'].apply(categorize_brand)"
   ]
  },
  {
   "cell_type": "code",
   "execution_count": 47,
   "metadata": {
    "execution": {
     "iopub.execute_input": "2024-11-26T09:13:12.597006Z",
     "iopub.status.busy": "2024-11-26T09:13:12.596713Z",
     "iopub.status.idle": "2024-11-26T09:13:12.702643Z",
     "shell.execute_reply": "2024-11-26T09:13:12.701680Z",
     "shell.execute_reply.started": "2024-11-26T09:13:12.596976Z"
    }
   },
   "outputs": [
    {
     "data": {
      "text/html": [
       "<div>\n",
       "<style scoped>\n",
       "    .dataframe tbody tr th:only-of-type {\n",
       "        vertical-align: middle;\n",
       "    }\n",
       "\n",
       "    .dataframe tbody tr th {\n",
       "        vertical-align: top;\n",
       "    }\n",
       "\n",
       "    .dataframe thead th {\n",
       "        text-align: right;\n",
       "    }\n",
       "</style>\n",
       "<table border=\"1\" class=\"dataframe\">\n",
       "  <thead>\n",
       "    <tr style=\"text-align: right;\">\n",
       "      <th></th>\n",
       "      <th>id</th>\n",
       "      <th>brand</th>\n",
       "      <th>model</th>\n",
       "      <th>model_year</th>\n",
       "      <th>milage</th>\n",
       "      <th>fuel_type</th>\n",
       "      <th>engine</th>\n",
       "      <th>transmission</th>\n",
       "      <th>ext_col</th>\n",
       "      <th>int_col</th>\n",
       "      <th>accident</th>\n",
       "      <th>clean_title</th>\n",
       "      <th>year_category</th>\n",
       "      <th>model_category</th>\n",
       "      <th>brand_category</th>\n",
       "      <th>average_prices_brand</th>\n",
       "      <th>average_prices_year</th>\n",
       "      <th>average_prices_model</th>\n",
       "    </tr>\n",
       "  </thead>\n",
       "  <tbody>\n",
       "    <tr>\n",
       "      <th>0</th>\n",
       "      <td>188533</td>\n",
       "      <td>Land</td>\n",
       "      <td>Rover LR2 Base</td>\n",
       "      <td>2015</td>\n",
       "      <td>98000</td>\n",
       "      <td>Gasoline</td>\n",
       "      <td>240.0HP 2.0L 4 Cylinder Engine Gasoline Fuel</td>\n",
       "      <td>6-Speed A/T</td>\n",
       "      <td>White</td>\n",
       "      <td>Beige</td>\n",
       "      <td>None reported</td>\n",
       "      <td>Yes</td>\n",
       "      <td>0</td>\n",
       "      <td>0</td>\n",
       "      <td>1</td>\n",
       "      <td>10.530053</td>\n",
       "      <td>10.081412</td>\n",
       "      <td>9.643311</td>\n",
       "    </tr>\n",
       "    <tr>\n",
       "      <th>1</th>\n",
       "      <td>188534</td>\n",
       "      <td>Land</td>\n",
       "      <td>Rover Defender SE</td>\n",
       "      <td>2020</td>\n",
       "      <td>9142</td>\n",
       "      <td>Hybrid</td>\n",
       "      <td>395.0HP 3.0L Straight 6 Cylinder Engine Gasoli...</td>\n",
       "      <td>8-Speed A/T</td>\n",
       "      <td>Silver</td>\n",
       "      <td>Black</td>\n",
       "      <td>None reported</td>\n",
       "      <td>Yes</td>\n",
       "      <td>0</td>\n",
       "      <td>0</td>\n",
       "      <td>1</td>\n",
       "      <td>10.530053</td>\n",
       "      <td>10.808905</td>\n",
       "      <td>11.057717</td>\n",
       "    </tr>\n",
       "    <tr>\n",
       "      <th>2</th>\n",
       "      <td>188535</td>\n",
       "      <td>Ford</td>\n",
       "      <td>Expedition Limited</td>\n",
       "      <td>2022</td>\n",
       "      <td>28121</td>\n",
       "      <td>Gasoline</td>\n",
       "      <td>3.5L V6 24V PDI DOHC Twin Turbo</td>\n",
       "      <td>10-Speed Automatic</td>\n",
       "      <td>White</td>\n",
       "      <td>Ebony</td>\n",
       "      <td>None reported</td>\n",
       "      <td>Yes</td>\n",
       "      <td>0</td>\n",
       "      <td>0</td>\n",
       "      <td>1</td>\n",
       "      <td>10.285014</td>\n",
       "      <td>10.970816</td>\n",
       "      <td>10.663814</td>\n",
       "    </tr>\n",
       "    <tr>\n",
       "      <th>3</th>\n",
       "      <td>188536</td>\n",
       "      <td>Audi</td>\n",
       "      <td>A6 2.0T Sport</td>\n",
       "      <td>2016</td>\n",
       "      <td>61258</td>\n",
       "      <td>Gasoline</td>\n",
       "      <td>2.0 Liter TFSI</td>\n",
       "      <td>Automatic</td>\n",
       "      <td>Silician Yellow</td>\n",
       "      <td>Black</td>\n",
       "      <td>None reported</td>\n",
       "      <td>Yes</td>\n",
       "      <td>0</td>\n",
       "      <td>0</td>\n",
       "      <td>1</td>\n",
       "      <td>10.307171</td>\n",
       "      <td>10.182768</td>\n",
       "      <td>10.183147</td>\n",
       "    </tr>\n",
       "    <tr>\n",
       "      <th>4</th>\n",
       "      <td>188537</td>\n",
       "      <td>Audi</td>\n",
       "      <td>A6 2.0T Premium Plus</td>\n",
       "      <td>2018</td>\n",
       "      <td>59000</td>\n",
       "      <td>Gasoline</td>\n",
       "      <td>252.0HP 2.0L 4 Cylinder Engine Gasoline Fuel</td>\n",
       "      <td>A/T</td>\n",
       "      <td>Gray</td>\n",
       "      <td>Black</td>\n",
       "      <td>None reported</td>\n",
       "      <td>Yes</td>\n",
       "      <td>0</td>\n",
       "      <td>0</td>\n",
       "      <td>1</td>\n",
       "      <td>10.307171</td>\n",
       "      <td>10.579236</td>\n",
       "      <td>10.033409</td>\n",
       "    </tr>\n",
       "    <tr>\n",
       "      <th>...</th>\n",
       "      <td>...</td>\n",
       "      <td>...</td>\n",
       "      <td>...</td>\n",
       "      <td>...</td>\n",
       "      <td>...</td>\n",
       "      <td>...</td>\n",
       "      <td>...</td>\n",
       "      <td>...</td>\n",
       "      <td>...</td>\n",
       "      <td>...</td>\n",
       "      <td>...</td>\n",
       "      <td>...</td>\n",
       "      <td>...</td>\n",
       "      <td>...</td>\n",
       "      <td>...</td>\n",
       "      <td>...</td>\n",
       "      <td>...</td>\n",
       "      <td>...</td>\n",
       "    </tr>\n",
       "    <tr>\n",
       "      <th>125685</th>\n",
       "      <td>314218</td>\n",
       "      <td>Mercedes-Benz</td>\n",
       "      <td>GL-Class GL 450 4MATIC</td>\n",
       "      <td>2014</td>\n",
       "      <td>83315</td>\n",
       "      <td>Gasoline</td>\n",
       "      <td>362.0HP 3.0L V6 Cylinder Engine Gasoline Fuel</td>\n",
       "      <td>7-Speed A/T</td>\n",
       "      <td>Black</td>\n",
       "      <td>Black</td>\n",
       "      <td>None reported</td>\n",
       "      <td>Yes</td>\n",
       "      <td>0</td>\n",
       "      <td>0</td>\n",
       "      <td>1</td>\n",
       "      <td>10.480629</td>\n",
       "      <td>9.906966</td>\n",
       "      <td>10.109585</td>\n",
       "    </tr>\n",
       "    <tr>\n",
       "      <th>125686</th>\n",
       "      <td>314219</td>\n",
       "      <td>Audi</td>\n",
       "      <td>Q7 55 Prestige</td>\n",
       "      <td>2019</td>\n",
       "      <td>29336</td>\n",
       "      <td>Gasoline</td>\n",
       "      <td>3.0 Liter Turbo</td>\n",
       "      <td>Automatic</td>\n",
       "      <td>White</td>\n",
       "      <td>Black</td>\n",
       "      <td>None reported</td>\n",
       "      <td>Yes</td>\n",
       "      <td>0</td>\n",
       "      <td>0</td>\n",
       "      <td>1</td>\n",
       "      <td>10.307171</td>\n",
       "      <td>10.635039</td>\n",
       "      <td>10.682976</td>\n",
       "    </tr>\n",
       "    <tr>\n",
       "      <th>125687</th>\n",
       "      <td>314220</td>\n",
       "      <td>Audi</td>\n",
       "      <td>A6 3.0T Premium Plus</td>\n",
       "      <td>2012</td>\n",
       "      <td>77634</td>\n",
       "      <td>Gasoline</td>\n",
       "      <td>333.0HP 3.0L V6 Cylinder Engine Gasoline Fuel</td>\n",
       "      <td>A/T</td>\n",
       "      <td>Black</td>\n",
       "      <td>Black</td>\n",
       "      <td>None reported</td>\n",
       "      <td>Yes</td>\n",
       "      <td>2</td>\n",
       "      <td>0</td>\n",
       "      <td>1</td>\n",
       "      <td>10.307171</td>\n",
       "      <td>9.631382</td>\n",
       "      <td>10.111177</td>\n",
       "    </tr>\n",
       "    <tr>\n",
       "      <th>125688</th>\n",
       "      <td>314221</td>\n",
       "      <td>Audi</td>\n",
       "      <td>Q7 3.0T Premium</td>\n",
       "      <td>2012</td>\n",
       "      <td>112000</td>\n",
       "      <td>Gasoline</td>\n",
       "      <td>333.0HP 3.0L V6 Cylinder Engine Gasoline Fuel</td>\n",
       "      <td>A/T</td>\n",
       "      <td>Black</td>\n",
       "      <td>Black</td>\n",
       "      <td>None reported</td>\n",
       "      <td>Yes</td>\n",
       "      <td>2</td>\n",
       "      <td>0</td>\n",
       "      <td>1</td>\n",
       "      <td>10.307171</td>\n",
       "      <td>9.631382</td>\n",
       "      <td>10.318351</td>\n",
       "    </tr>\n",
       "    <tr>\n",
       "      <th>125689</th>\n",
       "      <td>314222</td>\n",
       "      <td>Chevrolet</td>\n",
       "      <td>Tahoe LT</td>\n",
       "      <td>2018</td>\n",
       "      <td>66840</td>\n",
       "      <td>Gasoline</td>\n",
       "      <td>355.0HP 5.3L 8 Cylinder Engine Gasoline Fuel</td>\n",
       "      <td>A/T</td>\n",
       "      <td>Silver</td>\n",
       "      <td>Black</td>\n",
       "      <td>None reported</td>\n",
       "      <td>Yes</td>\n",
       "      <td>0</td>\n",
       "      <td>0</td>\n",
       "      <td>1</td>\n",
       "      <td>10.276388</td>\n",
       "      <td>10.579236</td>\n",
       "      <td>10.391064</td>\n",
       "    </tr>\n",
       "  </tbody>\n",
       "</table>\n",
       "<p>125690 rows × 18 columns</p>\n",
       "</div>"
      ],
      "text/plain": [
       "            id          brand                   model  model_year  milage  \\\n",
       "0       188533           Land          Rover LR2 Base        2015   98000   \n",
       "1       188534           Land       Rover Defender SE        2020    9142   \n",
       "2       188535           Ford      Expedition Limited        2022   28121   \n",
       "3       188536           Audi           A6 2.0T Sport        2016   61258   \n",
       "4       188537           Audi    A6 2.0T Premium Plus        2018   59000   \n",
       "...        ...            ...                     ...         ...     ...   \n",
       "125685  314218  Mercedes-Benz  GL-Class GL 450 4MATIC        2014   83315   \n",
       "125686  314219           Audi          Q7 55 Prestige        2019   29336   \n",
       "125687  314220           Audi    A6 3.0T Premium Plus        2012   77634   \n",
       "125688  314221           Audi         Q7 3.0T Premium        2012  112000   \n",
       "125689  314222      Chevrolet                Tahoe LT        2018   66840   \n",
       "\n",
       "       fuel_type                                             engine  \\\n",
       "0       Gasoline       240.0HP 2.0L 4 Cylinder Engine Gasoline Fuel   \n",
       "1         Hybrid  395.0HP 3.0L Straight 6 Cylinder Engine Gasoli...   \n",
       "2       Gasoline                    3.5L V6 24V PDI DOHC Twin Turbo   \n",
       "3       Gasoline                                     2.0 Liter TFSI   \n",
       "4       Gasoline       252.0HP 2.0L 4 Cylinder Engine Gasoline Fuel   \n",
       "...          ...                                                ...   \n",
       "125685  Gasoline      362.0HP 3.0L V6 Cylinder Engine Gasoline Fuel   \n",
       "125686  Gasoline                                    3.0 Liter Turbo   \n",
       "125687  Gasoline      333.0HP 3.0L V6 Cylinder Engine Gasoline Fuel   \n",
       "125688  Gasoline      333.0HP 3.0L V6 Cylinder Engine Gasoline Fuel   \n",
       "125689  Gasoline       355.0HP 5.3L 8 Cylinder Engine Gasoline Fuel   \n",
       "\n",
       "              transmission          ext_col int_col       accident  \\\n",
       "0              6-Speed A/T            White   Beige  None reported   \n",
       "1              8-Speed A/T           Silver   Black  None reported   \n",
       "2       10-Speed Automatic            White   Ebony  None reported   \n",
       "3                Automatic  Silician Yellow   Black  None reported   \n",
       "4                      A/T             Gray   Black  None reported   \n",
       "...                    ...              ...     ...            ...   \n",
       "125685         7-Speed A/T            Black   Black  None reported   \n",
       "125686           Automatic            White   Black  None reported   \n",
       "125687                 A/T            Black   Black  None reported   \n",
       "125688                 A/T            Black   Black  None reported   \n",
       "125689                 A/T           Silver   Black  None reported   \n",
       "\n",
       "       clean_title  year_category  model_category  brand_category  \\\n",
       "0              Yes              0               0               1   \n",
       "1              Yes              0               0               1   \n",
       "2              Yes              0               0               1   \n",
       "3              Yes              0               0               1   \n",
       "4              Yes              0               0               1   \n",
       "...            ...            ...             ...             ...   \n",
       "125685         Yes              0               0               1   \n",
       "125686         Yes              0               0               1   \n",
       "125687         Yes              2               0               1   \n",
       "125688         Yes              2               0               1   \n",
       "125689         Yes              0               0               1   \n",
       "\n",
       "        average_prices_brand  average_prices_year  average_prices_model  \n",
       "0                  10.530053            10.081412              9.643311  \n",
       "1                  10.530053            10.808905             11.057717  \n",
       "2                  10.285014            10.970816             10.663814  \n",
       "3                  10.307171            10.182768             10.183147  \n",
       "4                  10.307171            10.579236             10.033409  \n",
       "...                      ...                  ...                   ...  \n",
       "125685             10.480629             9.906966             10.109585  \n",
       "125686             10.307171            10.635039             10.682976  \n",
       "125687             10.307171             9.631382             10.111177  \n",
       "125688             10.307171             9.631382             10.318351  \n",
       "125689             10.276388            10.579236             10.391064  \n",
       "\n",
       "[125690 rows x 18 columns]"
      ]
     },
     "execution_count": 47,
     "metadata": {},
     "output_type": "execute_result"
    }
   ],
   "source": [
    "test_new = pd.merge(test, average_prices_brand, on='brand', how='left')\n",
    "test_new = pd.merge(test_new, average_prices_year, on='model_year', how='left')\n",
    "test_new = pd.merge(test_new, average_prices_model, on='model', how='left')\n",
    "test_new"
   ]
  },
  {
   "cell_type": "code",
   "execution_count": 48,
   "metadata": {
    "execution": {
     "iopub.execute_input": "2024-11-26T09:13:12.704624Z",
     "iopub.status.busy": "2024-11-26T09:13:12.704212Z",
     "iopub.status.idle": "2024-11-26T09:13:12.946602Z",
     "shell.execute_reply": "2024-11-26T09:13:12.945880Z",
     "shell.execute_reply.started": "2024-11-26T09:13:12.704580Z"
    }
   },
   "outputs": [],
   "source": [
    "test_pool = Pool(\n",
    "    test_new,\n",
    "    text_features = text_col,\n",
    "    cat_features= cat_cols\n",
    ")"
   ]
  },
  {
   "cell_type": "code",
   "execution_count": 49,
   "metadata": {
    "execution": {
     "iopub.execute_input": "2024-11-26T09:13:12.948080Z",
     "iopub.status.busy": "2024-11-26T09:13:12.947745Z",
     "iopub.status.idle": "2024-11-26T09:13:13.782986Z",
     "shell.execute_reply": "2024-11-26T09:13:13.781996Z",
     "shell.execute_reply.started": "2024-11-26T09:13:12.948051Z"
    }
   },
   "outputs": [
    {
     "data": {
      "text/plain": [
       "(125690,)"
      ]
     },
     "execution_count": 49,
     "metadata": {},
     "output_type": "execute_result"
    }
   ],
   "source": [
    "y_pred = model.predict(test_pool)\n",
    "y_pred.shape"
   ]
  },
  {
   "cell_type": "code",
   "execution_count": 50,
   "metadata": {
    "execution": {
     "iopub.execute_input": "2024-11-26T09:13:13.784674Z",
     "iopub.status.busy": "2024-11-26T09:13:13.784295Z",
     "iopub.status.idle": "2024-11-26T09:13:13.837073Z",
     "shell.execute_reply": "2024-11-26T09:13:13.836174Z",
     "shell.execute_reply.started": "2024-11-26T09:13:13.784633Z"
    }
   },
   "outputs": [
    {
     "name": "stdout",
     "output_type": "stream",
     "text": [
      "(125690, 2)\n"
     ]
    },
    {
     "data": {
      "text/html": [
       "<div>\n",
       "<style scoped>\n",
       "    .dataframe tbody tr th:only-of-type {\n",
       "        vertical-align: middle;\n",
       "    }\n",
       "\n",
       "    .dataframe tbody tr th {\n",
       "        vertical-align: top;\n",
       "    }\n",
       "\n",
       "    .dataframe thead th {\n",
       "        text-align: right;\n",
       "    }\n",
       "</style>\n",
       "<table border=\"1\" class=\"dataframe\">\n",
       "  <thead>\n",
       "    <tr style=\"text-align: right;\">\n",
       "      <th></th>\n",
       "      <th>id</th>\n",
       "      <th>price</th>\n",
       "    </tr>\n",
       "  </thead>\n",
       "  <tbody>\n",
       "    <tr>\n",
       "      <th>0</th>\n",
       "      <td>188533</td>\n",
       "      <td>9.666160</td>\n",
       "    </tr>\n",
       "    <tr>\n",
       "      <th>1</th>\n",
       "      <td>188534</td>\n",
       "      <td>11.086691</td>\n",
       "    </tr>\n",
       "    <tr>\n",
       "      <th>2</th>\n",
       "      <td>188535</td>\n",
       "      <td>10.825717</td>\n",
       "    </tr>\n",
       "    <tr>\n",
       "      <th>3</th>\n",
       "      <td>188536</td>\n",
       "      <td>10.068855</td>\n",
       "    </tr>\n",
       "    <tr>\n",
       "      <th>4</th>\n",
       "      <td>188537</td>\n",
       "      <td>10.239954</td>\n",
       "    </tr>\n",
       "    <tr>\n",
       "      <th>...</th>\n",
       "      <td>...</td>\n",
       "      <td>...</td>\n",
       "    </tr>\n",
       "    <tr>\n",
       "      <th>125685</th>\n",
       "      <td>314218</td>\n",
       "      <td>9.979743</td>\n",
       "    </tr>\n",
       "    <tr>\n",
       "      <th>125686</th>\n",
       "      <td>314219</td>\n",
       "      <td>10.677481</td>\n",
       "    </tr>\n",
       "    <tr>\n",
       "      <th>125687</th>\n",
       "      <td>314220</td>\n",
       "      <td>9.774772</td>\n",
       "    </tr>\n",
       "    <tr>\n",
       "      <th>125688</th>\n",
       "      <td>314221</td>\n",
       "      <td>9.437274</td>\n",
       "    </tr>\n",
       "    <tr>\n",
       "      <th>125689</th>\n",
       "      <td>314222</td>\n",
       "      <td>10.492786</td>\n",
       "    </tr>\n",
       "  </tbody>\n",
       "</table>\n",
       "<p>125690 rows × 2 columns</p>\n",
       "</div>"
      ],
      "text/plain": [
       "            id      price\n",
       "0       188533   9.666160\n",
       "1       188534  11.086691\n",
       "2       188535  10.825717\n",
       "3       188536  10.068855\n",
       "4       188537  10.239954\n",
       "...        ...        ...\n",
       "125685  314218   9.979743\n",
       "125686  314219  10.677481\n",
       "125687  314220   9.774772\n",
       "125688  314221   9.437274\n",
       "125689  314222  10.492786\n",
       "\n",
       "[125690 rows x 2 columns]"
      ]
     },
     "execution_count": 50,
     "metadata": {},
     "output_type": "execute_result"
    }
   ],
   "source": [
    "submission = pd.read_csv(\"/kaggle/input/playground-series-s4e9/sample_submission.csv\")\n",
    "print(submission.shape)\n",
    "submission['price'] = y_pred #np.exp(y_pred)\n",
    "submission"
   ]
  },
  {
   "cell_type": "code",
   "execution_count": 51,
   "metadata": {
    "execution": {
     "iopub.execute_input": "2024-11-26T09:13:13.838440Z",
     "iopub.status.busy": "2024-11-26T09:13:13.838144Z",
     "iopub.status.idle": "2024-11-26T09:13:14.092109Z",
     "shell.execute_reply": "2024-11-26T09:13:14.091293Z",
     "shell.execute_reply.started": "2024-11-26T09:13:13.838415Z"
    }
   },
   "outputs": [],
   "source": [
    "submission.to_csv(\"submission_new_no_exp.csv\", index = False)"
   ]
  },
  {
   "cell_type": "code",
   "execution_count": null,
   "metadata": {},
   "outputs": [],
   "source": []
  }
 ],
 "metadata": {
  "kaggle": {
   "accelerator": "nvidiaTeslaT4",
   "dataSources": [
    {
     "databundleVersionId": 9057646,
     "sourceId": 76728,
     "sourceType": "competition"
    }
   ],
   "dockerImageVersionId": 30786,
   "isGpuEnabled": true,
   "isInternetEnabled": true,
   "language": "python",
   "sourceType": "notebook"
  },
  "kernelspec": {
   "display_name": "Python (kaggle)",
   "language": "python",
   "name": "kagggle"
  },
  "language_info": {
   "codemirror_mode": {
    "name": "ipython",
    "version": 3
   },
   "file_extension": ".py",
   "mimetype": "text/x-python",
   "name": "python",
   "nbconvert_exporter": "python",
   "pygments_lexer": "ipython3",
   "version": "3.8.13"
  }
 },
 "nbformat": 4,
 "nbformat_minor": 4
}
