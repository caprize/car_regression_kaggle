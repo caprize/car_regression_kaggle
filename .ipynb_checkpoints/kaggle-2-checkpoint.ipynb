{
  "cells": [
    {
      "cell_type": "code",
      "execution_count": 1,
      "metadata": {
        "tags": [],
        "id": "M-SpXYvH7C-z"
      },
      "outputs": [],
      "source": [
        "import pandas as pd\n",
        "import numpy as np\n",
        "import random\n",
        "from scipy import stats\n",
        "import seaborn as sns\n",
        "#import scikitplot as skplt\n",
        "import matplotlib.pyplot as plt\n",
        "%matplotlib inline\n",
        "\n",
        "from sklearn.model_selection import train_test_split\n",
        "\n",
        "np.random.seed(42)\n",
        "random.seed(42)"
      ]
    },
    {
      "cell_type": "code",
      "source": [
        "!pip install catboost"
      ],
      "metadata": {
        "colab": {
          "base_uri": "https://localhost:8080/"
        },
        "id": "aRpgWCxG7HWm",
        "outputId": "43a79a30-4136-4381-90c4-00fc94752eb9"
      },
      "execution_count": 2,
      "outputs": [
        {
          "output_type": "stream",
          "name": "stdout",
          "text": [
            "Requirement already satisfied: catboost in /usr/local/lib/python3.10/dist-packages (1.2.7)\n",
            "Requirement already satisfied: graphviz in /usr/local/lib/python3.10/dist-packages (from catboost) (0.20.3)\n",
            "Requirement already satisfied: matplotlib in /usr/local/lib/python3.10/dist-packages (from catboost) (3.8.0)\n",
            "Requirement already satisfied: numpy<2.0,>=1.16.0 in /usr/local/lib/python3.10/dist-packages (from catboost) (1.26.4)\n",
            "Requirement already satisfied: pandas>=0.24 in /usr/local/lib/python3.10/dist-packages (from catboost) (2.2.2)\n",
            "Requirement already satisfied: scipy in /usr/local/lib/python3.10/dist-packages (from catboost) (1.13.1)\n",
            "Requirement already satisfied: plotly in /usr/local/lib/python3.10/dist-packages (from catboost) (5.24.1)\n",
            "Requirement already satisfied: six in /usr/local/lib/python3.10/dist-packages (from catboost) (1.16.0)\n",
            "Requirement already satisfied: python-dateutil>=2.8.2 in /usr/local/lib/python3.10/dist-packages (from pandas>=0.24->catboost) (2.8.2)\n",
            "Requirement already satisfied: pytz>=2020.1 in /usr/local/lib/python3.10/dist-packages (from pandas>=0.24->catboost) (2024.2)\n",
            "Requirement already satisfied: tzdata>=2022.7 in /usr/local/lib/python3.10/dist-packages (from pandas>=0.24->catboost) (2024.2)\n",
            "Requirement already satisfied: contourpy>=1.0.1 in /usr/local/lib/python3.10/dist-packages (from matplotlib->catboost) (1.3.1)\n",
            "Requirement already satisfied: cycler>=0.10 in /usr/local/lib/python3.10/dist-packages (from matplotlib->catboost) (0.12.1)\n",
            "Requirement already satisfied: fonttools>=4.22.0 in /usr/local/lib/python3.10/dist-packages (from matplotlib->catboost) (4.55.0)\n",
            "Requirement already satisfied: kiwisolver>=1.0.1 in /usr/local/lib/python3.10/dist-packages (from matplotlib->catboost) (1.4.7)\n",
            "Requirement already satisfied: packaging>=20.0 in /usr/local/lib/python3.10/dist-packages (from matplotlib->catboost) (24.2)\n",
            "Requirement already satisfied: pillow>=6.2.0 in /usr/local/lib/python3.10/dist-packages (from matplotlib->catboost) (11.0.0)\n",
            "Requirement already satisfied: pyparsing>=2.3.1 in /usr/local/lib/python3.10/dist-packages (from matplotlib->catboost) (3.2.0)\n",
            "Requirement already satisfied: tenacity>=6.2.0 in /usr/local/lib/python3.10/dist-packages (from plotly->catboost) (9.0.0)\n"
          ]
        }
      ]
    },
    {
      "cell_type": "code",
      "source": [
        "!pip install optuna"
      ],
      "metadata": {
        "colab": {
          "base_uri": "https://localhost:8080/"
        },
        "id": "RaTdBkaO7MkS",
        "outputId": "6e4b061d-ec1c-4e5d-b10d-dd75e5fe55c2"
      },
      "execution_count": 3,
      "outputs": [
        {
          "output_type": "stream",
          "name": "stdout",
          "text": [
            "Requirement already satisfied: optuna in /usr/local/lib/python3.10/dist-packages (4.1.0)\n",
            "Requirement already satisfied: alembic>=1.5.0 in /usr/local/lib/python3.10/dist-packages (from optuna) (1.14.0)\n",
            "Requirement already satisfied: colorlog in /usr/local/lib/python3.10/dist-packages (from optuna) (6.9.0)\n",
            "Requirement already satisfied: numpy in /usr/local/lib/python3.10/dist-packages (from optuna) (1.26.4)\n",
            "Requirement already satisfied: packaging>=20.0 in /usr/local/lib/python3.10/dist-packages (from optuna) (24.2)\n",
            "Requirement already satisfied: sqlalchemy>=1.4.2 in /usr/local/lib/python3.10/dist-packages (from optuna) (2.0.36)\n",
            "Requirement already satisfied: tqdm in /usr/local/lib/python3.10/dist-packages (from optuna) (4.66.6)\n",
            "Requirement already satisfied: PyYAML in /usr/local/lib/python3.10/dist-packages (from optuna) (6.0.2)\n",
            "Requirement already satisfied: Mako in /usr/local/lib/python3.10/dist-packages (from alembic>=1.5.0->optuna) (1.3.6)\n",
            "Requirement already satisfied: typing-extensions>=4 in /usr/local/lib/python3.10/dist-packages (from alembic>=1.5.0->optuna) (4.12.2)\n",
            "Requirement already satisfied: greenlet!=0.4.17 in /usr/local/lib/python3.10/dist-packages (from sqlalchemy>=1.4.2->optuna) (3.1.1)\n",
            "Requirement already satisfied: MarkupSafe>=0.9.2 in /usr/local/lib/python3.10/dist-packages (from Mako->alembic>=1.5.0->optuna) (3.0.2)\n"
          ]
        }
      ]
    },
    {
      "cell_type": "code",
      "execution_count": 6,
      "metadata": {
        "tags": [],
        "id": "OuocC3ws7C-2"
      },
      "outputs": [],
      "source": [
        "import warnings\n",
        "warnings.filterwarnings('ignore')"
      ]
    },
    {
      "cell_type": "markdown",
      "metadata": {
        "id": "CRndGV2E7C-3"
      },
      "source": [
        "# EDA"
      ]
    },
    {
      "cell_type": "code",
      "execution_count": 4,
      "metadata": {
        "tags": [],
        "id": "xILw4pt07C-4"
      },
      "outputs": [],
      "source": [
        "train = pd.read_csv(\"train.csv\")"
      ]
    },
    {
      "cell_type": "markdown",
      "metadata": {
        "id": "K5VoF-mv7C-4"
      },
      "source": [
        "## Смотрим на данные"
      ]
    },
    {
      "cell_type": "code",
      "execution_count": 5,
      "metadata": {
        "tags": [],
        "colab": {
          "base_uri": "https://localhost:8080/"
        },
        "id": "pLuEcRu57C-4",
        "outputId": "034331a1-ee3a-4edf-a7dc-cd6c1e40349d"
      },
      "outputs": [
        {
          "output_type": "execute_result",
          "data": {
            "text/plain": [
              "Index(['brand', 'model', 'fuel_type', 'engine', 'transmission', 'ext_col',\n",
              "       'int_col', 'accident', 'clean_title'],\n",
              "      dtype='object')"
            ]
          },
          "metadata": {},
          "execution_count": 5
        }
      ],
      "source": [
        "numerical_cols = train.select_dtypes(include = ['int64', 'float64']).columns\n",
        "categorical_cols = train.select_dtypes(include = ['object']).columns\n",
        "categorical_cols"
      ]
    },
    {
      "cell_type": "code",
      "execution_count": 6,
      "metadata": {
        "tags": [],
        "id": "AQQPPKf07C-5"
      },
      "outputs": [],
      "source": [
        "from sklearn.impute import SimpleImputer\n",
        "from sklearn.preprocessing import OneHotEncoder\n",
        "from sklearn.compose import ColumnTransformer\n",
        "from sklearn.pipeline import Pipeline\n",
        "\n",
        "numerical_transformer = SimpleImputer(strategy='median')\n",
        "categorical_transformer = Pipeline(steps = [\n",
        "    ('imputer', SimpleImputer(strategy='constant', fill_value= '')),\n",
        "    ('onehot', OneHotEncoder(handle_unknown='ignore'))\n",
        "])\n",
        "\n",
        "preprocessor = ColumnTransformer(\n",
        "    transformers = [\n",
        "        ('num',numerical_transformer, numerical_cols),\n",
        "        ('cat',categorical_transformer,categorical_cols)\n",
        "    ])"
      ]
    },
    {
      "cell_type": "markdown",
      "metadata": {
        "id": "Q8fifAef7C-5"
      },
      "source": [
        "## Целевая переменная"
      ]
    },
    {
      "cell_type": "code",
      "execution_count": 7,
      "metadata": {
        "colab": {
          "base_uri": "https://localhost:8080/",
          "height": 506
        },
        "id": "koKPv3Xd7C-6",
        "outputId": "a0942e9c-d5f2-407c-c68f-60acdf3fd60d"
      },
      "outputs": [
        {
          "output_type": "display_data",
          "data": {
            "text/plain": [
              "<Figure size 500x500 with 1 Axes>"
            ],
            "image/png": "[encoded data removed]"
          },
          "metadata": {}
        }
      ],
      "source": [
        "train[\"price\"] = np.log(train[\"price\"])\n",
        "sns.displot(train[\"price\"] , color=\"skyblue\", label=\"Symdol Length\");"
      ]
    },
    {
      "cell_type": "markdown",
      "metadata": {
        "id": "rpbDmDs47C-6"
      },
      "source": [
        "## Замена `NaN`-ов на `mode`"
      ]
    },
    {
      "cell_type": "code",
      "execution_count": 8,
      "metadata": {
        "tags": [],
        "id": "Y_m-FwLm7C-6"
      },
      "outputs": [],
      "source": [
        "train.accident = train.accident.fillna('None reported')\n",
        "\n",
        "train.fuel_type = train.fuel_type.fillna('None reported')\n",
        "\n",
        "train.clean_title = train.clean_title.fillna('None reported')"
      ]
    },
    {
      "cell_type": "code",
      "execution_count": 12,
      "metadata": {
        "tags": [],
        "colab": {
          "base_uri": "https://localhost:8080/",
          "height": 486
        },
        "id": "IFG0N0Yj7C-7",
        "outputId": "3be6131b-071e-41e6-b2ce-9080ba6005f9"
      },
      "outputs": [
        {
          "output_type": "execute_result",
          "data": {
            "text/plain": [
              "id              0\n",
              "brand           0\n",
              "model           0\n",
              "model_year      0\n",
              "milage          0\n",
              "fuel_type       0\n",
              "engine          0\n",
              "transmission    0\n",
              "ext_col         0\n",
              "int_col         0\n",
              "accident        0\n",
              "clean_title     0\n",
              "price           0\n",
              "dtype: int64"
            ],
            "text/html": [
              "<div>\n",
              "<style scoped>\n",
              "    .dataframe tbody tr th:only-of-type {\n",
              "        vertical-align: middle;\n",
              "    }\n",
              "\n",
              "    .dataframe tbody tr th {\n",
              "        vertical-align: top;\n",
              "    }\n",
              "\n",
              "    .dataframe thead th {\n",
              "        text-align: right;\n",
              "    }\n",
              "</style>\n",
              "<table border=\"1\" class=\"dataframe\">\n",
              "  <thead>\n",
              "    <tr style=\"text-align: right;\">\n",
              "      <th></th>\n",
              "      <th>0</th>\n",
              "    </tr>\n",
              "  </thead>\n",
              "  <tbody>\n",
              "    <tr>\n",
              "      <th>id</th>\n",
              "      <td>0</td>\n",
              "    </tr>\n",
              "    <tr>\n",
              "      <th>brand</th>\n",
              "      <td>0</td>\n",
              "    </tr>\n",
              "    <tr>\n",
              "      <th>model</th>\n",
              "      <td>0</td>\n",
              "    </tr>\n",
              "    <tr>\n",
              "      <th>model_year</th>\n",
              "      <td>0</td>\n",
              "    </tr>\n",
              "    <tr>\n",
              "      <th>milage</th>\n",
              "      <td>0</td>\n",
              "    </tr>\n",
              "    <tr>\n",
              "      <th>fuel_type</th>\n",
              "      <td>0</td>\n",
              "    </tr>\n",
              "    <tr>\n",
              "      <th>engine</th>\n",
              "      <td>0</td>\n",
              "    </tr>\n",
              "    <tr>\n",
              "      <th>transmission</th>\n",
              "      <td>0</td>\n",
              "    </tr>\n",
              "    <tr>\n",
              "      <th>ext_col</th>\n",
              "      <td>0</td>\n",
              "    </tr>\n",
              "    <tr>\n",
              "      <th>int_col</th>\n",
              "      <td>0</td>\n",
              "    </tr>\n",
              "    <tr>\n",
              "      <th>accident</th>\n",
              "      <td>0</td>\n",
              "    </tr>\n",
              "    <tr>\n",
              "      <th>clean_title</th>\n",
              "      <td>0</td>\n",
              "    </tr>\n",
              "    <tr>\n",
              "      <th>price</th>\n",
              "      <td>0</td>\n",
              "    </tr>\n",
              "  </tbody>\n",
              "</table>\n",
              "</div><br><label><b>dtype:</b> int64</label>"
            ]
          },
          "metadata": {},
          "execution_count": 12
        }
      ],
      "source": [
        "train.isna().sum()"
      ]
    },
    {
      "cell_type": "markdown",
      "metadata": {
        "id": "2aEYOCi47C-7"
      },
      "source": [
        "## Генерация новых фич\n"
      ]
    },
    {
      "cell_type": "code",
      "execution_count": 9,
      "metadata": {
        "tags": [],
        "id": "foDMBkhU7C-7"
      },
      "outputs": [],
      "source": [
        "def categorize_year(year):\n",
        "    if 1992 <= year <= 1997:\n",
        "        return 1\n",
        "    elif year <= 1991:\n",
        "        return -1\n",
        "    elif 1996 <= year <= 2004:\n",
        "        return 2\n",
        "    elif 2006 <= year <= 2012:\n",
        "        return 2\n",
        "    elif year == 2005:\n",
        "        return 3\n",
        "    else:\n",
        "        return 0\n",
        "\n",
        "train['year_category'] = train['model_year'].apply(categorize_year)"
      ]
    },
    {
      "cell_type": "code",
      "execution_count": 10,
      "metadata": {
        "tags": [],
        "id": "ZYWfGjYp7C-7"
      },
      "outputs": [],
      "source": [
        "average_prices_brand = train.groupby('brand')['price'].mean().reset_index()\n",
        "prem_car = ['Alfa',\n",
        " 'Aston',\n",
        " 'Audi',\n",
        " 'BMW',\n",
        " 'Bentley',\n",
        " 'Bugatti',\n",
        " 'Cadillac',\n",
        " 'Chevrolet',\n",
        " 'Ferrari',\n",
        " 'Ford',\n",
        " 'Genesis',\n",
        " 'Jaguar',\n",
        " 'Lamborghini',\n",
        " 'Land',\n",
        " 'Lucid',\n",
        " 'Maserati',\n",
        " 'Maybach',\n",
        " 'McLaren',\n",
        " 'Mercedes-Benz',\n",
        " 'Polestar',\n",
        " 'Porsche',\n",
        " 'RAM',\n",
        " 'Rivian',\n",
        " 'Rolls-Royce',\n",
        " 'Tesla']\n",
        "\n",
        "def categorize_brand(brand):\n",
        "    if brand in prem_car:\n",
        "        return 1\n",
        "    else:\n",
        "        return 0\n",
        "\n",
        "train['brand_category'] = train['brand'].apply(categorize_brand)"
      ]
    },
    {
      "cell_type": "code",
      "execution_count": 11,
      "metadata": {
        "tags": [],
        "id": "gseveaRs7C-7"
      },
      "outputs": [],
      "source": [
        "average_prices_ext_col = train.groupby('ext_col')['price'].mean().reset_index()\n",
        "average_prices_model = train.groupby('model')['price'].mean().reset_index()\n",
        "\n",
        "list(average_prices_model[average_prices_model['price'] > 100000]['model'])\n",
        "prem_models = ['3500 Tradesman',\n",
        " '488 GTB Base',\n",
        " '500e Battery Electric',\n",
        " '570S Base',\n",
        " '570S Spider',\n",
        " '718 Cayman GTS',\n",
        " '720S Performance',\n",
        " '812 Superfast Base',\n",
        " '911 Carrera 4 GTS',\n",
        " '911 Carrera GTS',\n",
        " '911 GT2 RS',\n",
        " '911 GT3',\n",
        " '911 GT3 RS',\n",
        " '911 R',\n",
        " '911 Turbo',\n",
        " '911 Turbo Cabriolet',\n",
        " '911 Turbo S',\n",
        " 'AMG E 53 4MATIC',\n",
        " 'AMG GLS 63 4MATIC',\n",
        " 'AMG GT AMG GT S',\n",
        " 'Aventador LP700-4',\n",
        " 'Aventador LP750-4 Superveloce',\n",
        " 'Aventador S Base',\n",
        " 'Aventador SVJ Base',\n",
        " 'Bentayga Activity Edition',\n",
        " 'Bentayga Azure First Edition',\n",
        " 'Bentayga Onyx Edition',\n",
        " 'Bentayga S',\n",
        " 'Bentayga Speed',\n",
        " 'Bentayga V8',\n",
        " 'Bronco Raptor',\n",
        " 'CT5-V Blackwing',\n",
        " 'Carrera GT Base',\n",
        " 'Cayman GTS',\n",
        " 'Continental GT GT Speed',\n",
        " 'Continental GT Speed',\n",
        " 'Continental GT V8',\n",
        " 'Continental GT V8 First Edition',\n",
        " 'Continental GT V8 S',\n",
        " 'Cullinan',\n",
        " 'DeVille Base',\n",
        " 'Escalade Sport',\n",
        " 'F12berlinetta Base',\n",
        " 'FF Base',\n",
        " 'Flying Spur V8',\n",
        " 'GT',\n",
        " 'GTC4Lusso T',\n",
        " 'Gallardo LP570-4 Superleggera',\n",
        " 'Gallardo SE',\n",
        " 'Ghost Base',\n",
        " 'Grecale Modena',\n",
        " 'Huracan EVO Base',\n",
        " 'Huracan EVO Coupe',\n",
        " 'Huracan LP580-2',\n",
        " 'Huracan LP580-2S',\n",
        " 'Huracan LP610-4',\n",
        " 'Huracan Tecnica Coupe',\n",
        " 'Levante GTS',\n",
        " 'M8 Competition',\n",
        " 'M8 Gran Coupe Competition',\n",
        " 'MC20 Base',\n",
        " 'Martin DB7 Vantage Volante',\n",
        " 'Martin DBS Superleggera',\n",
        " 'Martin DBX Base',\n",
        " 'Maybach S 580 4MATIC',\n",
        " 'Murcielago Base',\n",
        " 'Phantom',\n",
        " 'Phantom Drophead Coupe Drophead',\n",
        " 'Pilot Elite',\n",
        " 'R8 5.2 V10',\n",
        " 'R8 5.2 V10 performance',\n",
        " 'RS 7 4.0T',\n",
        " 'RS 7 4.0T quattro',\n",
        " 'RS Q8 4.0T',\n",
        " 'RS Q8 4.0T quattro',\n",
        " 'Roma Base',\n",
        " 'Rover LR4 Lux',\n",
        " 'Rover Range Rover P525 HSE SWB',\n",
        " 'Rover Range Rover P530 SE',\n",
        " 'Rover Range Rover P530 SE LWB 7 Seat',\n",
        " 'Rover Range Rover P530 SE SWB',\n",
        " 'S-Class S 580 4MATIC',\n",
        " 'S4 Base',\n",
        " 'SQ7 4.0T',\n",
        " 'Shelby GT500 Base',\n",
        " 'Sierra 1500 SLE1 Extended Cab',\n",
        " 'Silverado 1500 Custom Trail Boss',\n",
        " 'Taycan Turbo',\n",
        " 'Urus Base',\n",
        " 'Urus Pearl Capsule',\n",
        " 'Veyron 16.4 Grand Sport',\n",
        " 'Wraith Base']\n",
        "\n",
        "\n",
        "def categorize_model(model):\n",
        "    if model in prem_models:\n",
        "        return 1\n",
        "    else:\n",
        "        return 0\n",
        "\n",
        "train['model_category'] = train['model'].apply(categorize_model)"
      ]
    },
    {
      "cell_type": "code",
      "execution_count": 12,
      "metadata": {
        "tags": [],
        "id": "hk34A7IL7C-8"
      },
      "outputs": [],
      "source": [
        "average_prices_year = train.groupby('model_year')['price'].mean().reset_index()\n",
        "\n",
        "average_prices_brand.rename(columns={'price': 'average_prices_brand'}, inplace=True)\n",
        "train_new = pd.merge(train, average_prices_brand, on='brand')\n",
        "average_prices_year.rename(columns={'price': 'average_prices_year'}, inplace=True)\n",
        "train_new = pd.merge(train_new, average_prices_year, on='model_year')\n",
        "\n",
        "average_prices_model.rename(columns={'price': 'average_prices_model'}, inplace=True)\n",
        "train_new = pd.merge(train_new, average_prices_model, on='model')"
      ]
    },
    {
      "cell_type": "markdown",
      "metadata": {
        "id": "RR_wXqGa7C-8"
      },
      "source": [
        "## Models"
      ]
    },
    {
      "cell_type": "code",
      "execution_count": 13,
      "metadata": {
        "id": "BmaJxFNJ7C-8"
      },
      "outputs": [],
      "source": [
        "numerical_cols = ['milage', 'average_prices_brand','average_prices_year','average_prices_model']\n",
        "cat_cols = ['brand', 'model', 'model_year','fuel_type',\n",
        "       'transmission', 'ext_col', 'int_col', 'accident', 'clean_title', 'year_category','brand_category','model_category']\n",
        "text_col = ['engine']\n",
        "for i in cat_cols:\n",
        "    train_new[i] = train_new[i].astype(str)\n",
        "\n",
        "for i in text_col:\n",
        "    train_new[i] = train_new[i].astype(str)"
      ]
    },
    {
      "cell_type": "code",
      "execution_count": 14,
      "metadata": {
        "tags": [],
        "id": "sgjILoJG7C-8"
      },
      "outputs": [],
      "source": [
        "X = train_new.drop(columns = ['price', 'id'])\n",
        "y = train_new['price']\n",
        "X_train, X_test, y_train, y_test = train_test_split(X, y,random_state=42, train_size=0.8, shuffle=True)"
      ]
    },
    {
      "cell_type": "markdown",
      "metadata": {
        "id": "xBUymnyK7C-9"
      },
      "source": [
        "## CatBoost"
      ]
    },
    {
      "cell_type": "code",
      "execution_count": 15,
      "metadata": {
        "id": "4Db_TItg7C-9"
      },
      "outputs": [],
      "source": [
        "from catboost import CatBoostRegressor\n",
        "import optuna\n",
        "from optuna.samplers import TPESampler\n",
        "from catboost import Pool\n",
        "from sklearn.metrics import mean_squared_error\n",
        "from sklearn.ensemble import StackingRegressor\n",
        "from sklearn.model_selection import KFold"
      ]
    },
    {
      "cell_type": "code",
      "execution_count": 16,
      "metadata": {
        "id": "8vAnMH-b7C-9"
      },
      "outputs": [],
      "source": [
        "params = {\n",
        "    'learning_rate':0.1,\n",
        "    'depth':3,\n",
        "    'max_ctr_complexity':1,\n",
        "    'use_best_model':True,\n",
        "    'eval_metric':'RMSE',\n",
        "    'verbose':True,\n",
        "    'thread_count':-1,\n",
        "    'min_data_in_leaf':50,\n",
        "    'early_stopping_rounds':50,\n",
        "    'iterations':500\n",
        "}"
      ]
    },
    {
      "cell_type": "code",
      "execution_count": 17,
      "metadata": {
        "id": "KTiFQFYO7C-9"
      },
      "outputs": [],
      "source": [
        "def fit_model(train_pool, validation_pool, params):\n",
        "    model = CatBoostRegressor(\n",
        "        **params\n",
        "    )\n",
        "    return model.fit(\n",
        "        train_pool,\n",
        "        eval_set=validation_pool,\n",
        "        verbose=False,\n",
        "    )"
      ]
    },
    {
      "cell_type": "code",
      "execution_count": 18,
      "metadata": {
        "id": "Mq2ryZhq7C-9"
      },
      "outputs": [],
      "source": [
        "def forward_selection(to_add_feats, params, eps=0.0):\n",
        "\n",
        "    top_score = 10000\n",
        "\n",
        "    features_dict = dict()\n",
        "    features = []\n",
        "    for i, add_feat in enumerate(to_add_feats):\n",
        "\n",
        "        features.append(add_feat)\n",
        "        features.sort()\n",
        "        cat_features = [feat for feat in features if feat in cat_cols]\n",
        "        text_features = [feat for feat in features if feat in text_col]\n",
        "\n",
        "        if len(cat_features)>0:\n",
        "            train_pool = Pool(\n",
        "            X_train[features].values, y_train.values,\n",
        "            text_features = text_features,\n",
        "            feature_names = features,\n",
        "            cat_features = cat_features\n",
        "            )\n",
        "\n",
        "            validation_pool = Pool(\n",
        "                X_test[features].values, y_test.values,\n",
        "                text_features = text_features,\n",
        "                feature_names = features,\n",
        "                cat_features= cat_features\n",
        "            )\n",
        "        else:\n",
        "            train_pool = Pool(\n",
        "            X_train[features].values, y_train.values,\n",
        "            text_features = text_features,\n",
        "            feature_names = features,\n",
        "            )\n",
        "\n",
        "            validation_pool = Pool(\n",
        "                X_test[features].values, y_test.values,\n",
        "                text_features = text_features,\n",
        "                feature_names = features,\n",
        "            )\n",
        "\n",
        "        model = fit_model(train_pool,validation_pool,params)\n",
        "\n",
        "        valid_score = model.best_score_['validation']['RMSE']\n",
        "        features_dict[add_feat] = top_score - valid_score\n",
        "\n",
        "        if valid_score < top_score - eps:\n",
        "            top_score = valid_score\n",
        "        else:\n",
        "            features.remove(add_feat)\n",
        "            features.sort()\n",
        "\n",
        "    return features, features_dict"
      ]
    },
    {
      "cell_type": "code",
      "execution_count": 21,
      "metadata": {
        "id": "ntrmxj7q7C-9"
      },
      "outputs": [],
      "source": [
        "feats = numerical_cols+cat_cols+text_col"
      ]
    },
    {
      "cell_type": "code",
      "execution_count": null,
      "metadata": {
        "id": "hOpvKbU27C-9"
      },
      "outputs": [],
      "source": [
        "FEATS_forw, features_dict_03 = forward_selection(feats, params,eps=0.00)"
      ]
    },
    {
      "cell_type": "code",
      "execution_count": null,
      "metadata": {
        "id": "4ZpbXOeR7C--",
        "outputId": "88dfd0bd-2fe6-413f-8254-32a8daa54acb"
      },
      "outputs": [
        {
          "name": "stdout",
          "output_type": "stream",
          "text": [
            "['accident', 'average_prices_brand', 'average_prices_model', 'average_prices_year', 'clean_title', 'engine', 'ext_col', 'fuel_type', 'int_col', 'milage', 'model', 'model_year', 'transmission']\n"
          ]
        }
      ],
      "source": [
        "print(FEATS_forw)"
      ]
    },
    {
      "cell_type": "code",
      "execution_count": 19,
      "metadata": {
        "id": "C4dDcN787C--"
      },
      "outputs": [],
      "source": [
        "FEATS_forw = ['accident', 'average_prices_brand', 'average_prices_model', 'average_prices_year', 'clean_title', 'engine', 'ext_col', 'fuel_type', 'int_col', 'milage', 'model', 'model_year', 'transmission']"
      ]
    },
    {
      "cell_type": "code",
      "execution_count": 23,
      "metadata": {
        "colab": {
          "base_uri": "https://localhost:8080/"
        },
        "id": "pAMK64Zc7C--",
        "outputId": "d25a07d2-fb77-455c-bac8-77b787574f58"
      },
      "outputs": [
        {
          "output_type": "stream",
          "name": "stdout",
          "text": [
            "17\n",
            "13\n"
          ]
        }
      ],
      "source": [
        "print(len(feats))\n",
        "print(len(FEATS_forw))"
      ]
    },
    {
      "cell_type": "code",
      "execution_count": 24,
      "metadata": {
        "id": "fWpAQjKh7C--"
      },
      "outputs": [],
      "source": [
        "from sklearn.metrics import mean_squared_error\n",
        "\n",
        "def objective(trial):\n",
        "    # Определение гиперпараметров\n",
        "    model = CatBoostRegressor(\n",
        "        objective = trial.suggest_categorical(\"objective\", [\"RMSE\"]),\n",
        "        iterations=trial.suggest_int(\"iterations\", 100, 1000),\n",
        "        learning_rate=trial.suggest_float(\"learning_rate\", 1e-3, 1e-1, log=True),\n",
        "        depth=trial.suggest_int(\"depth\", 4, 10),\n",
        "        l2_leaf_reg=trial.suggest_float(\"l2_leaf_reg\", 1e-8, 100.0, log=True),\n",
        "        # bootstrap_type=trial.suggest_categorical(\"bootstrap_type\", [\"Bayesian\"]),\n",
        "        random_strength=trial.suggest_float(\"random_strength\", 1e-8, 10.0, log=True),\n",
        "        bagging_temperature=trial.suggest_float(\"bagging_temperature\", 0.0, 10.0),\n",
        "        od_type=trial.suggest_categorical(\"od_type\", [\"IncToDec\", \"Iter\"]),\n",
        "        od_wait=trial.suggest_int(\"od_wait\", 10, 50),\n",
        "        verbose=False,\n",
        "        task_type=\"GPU\"\n",
        "    )\n",
        "\n",
        "    # Обучение модели\n",
        "    model.fit(train_pool,eval_set=validation_pool, verbose=False)\n",
        "\n",
        "    # Предсказания\n",
        "    y_train_pred = model.predict(X_train[FEATS_forw])\n",
        "    y_val_pred = model.predict(X_test[FEATS_forw])\n",
        "\n",
        "    # Вычисление ошибок\n",
        "    train_rmse = mean_squared_error(y_train, y_train_pred, squared=False)\n",
        "    val_rmse = mean_squared_error(y_test, y_val_pred, squared=False)\n",
        "\n",
        "    # Учет переобучения\n",
        "    score = 100000000 if val_rmse/train_rmse>1.1 else val_rmse\n",
        "\n",
        "    return score"
      ]
    },
    {
      "cell_type": "code",
      "execution_count": 25,
      "metadata": {
        "id": "TCzN0g147C--"
      },
      "outputs": [],
      "source": [
        "optuna.logging.set_verbosity(optuna.logging.WARNING)"
      ]
    },
    {
      "cell_type": "code",
      "execution_count": 27,
      "metadata": {
        "colab": {
          "base_uri": "https://localhost:8080/"
        },
        "id": "pJhRW7vA7C--",
        "outputId": "71dbaeaa-5eca-4fcb-8cc8-6eb6158b0b48"
      },
      "outputs": [
        {
          "output_type": "stream",
          "name": "stdout",
          "text": [
            "Model is:  1\n",
            "Number of finished trials:  50\n",
            "Best trial:\n",
            "  Value:  0.49177802263376824\n",
            "  Params: \n",
            "    objective: RMSE\n",
            "    iterations: 782\n",
            "    learning_rate: 0.0609745110649962\n",
            "    depth: 10\n",
            "    l2_leaf_reg: 0.0012451862361021549\n",
            "    random_strength: 0.0001389576157320045\n",
            "    bagging_temperature: 0.3882913905679768\n",
            "    od_type: Iter\n",
            "    od_wait: 14\n",
            "-----------------------\n",
            "\n",
            "Model is:  2\n",
            "Number of finished trials:  50\n",
            "Best trial:\n",
            "  Value:  0.48853538125363943\n",
            "  Params: \n",
            "    objective: RMSE\n",
            "    iterations: 906\n",
            "    learning_rate: 0.025801228221744032\n",
            "    depth: 10\n",
            "    l2_leaf_reg: 3.08511946568206e-05\n",
            "    random_strength: 0.0002659498146328842\n",
            "    bagging_temperature: 0.05028435974583667\n",
            "    od_type: Iter\n",
            "    od_wait: 33\n",
            "-----------------------\n",
            "\n",
            "Model is:  3\n",
            "Number of finished trials:  50\n",
            "Best trial:\n",
            "  Value:  0.490237207163296\n",
            "  Params: \n",
            "    objective: RMSE\n",
            "    iterations: 953\n",
            "    learning_rate: 0.07848801873282044\n",
            "    depth: 8\n",
            "    l2_leaf_reg: 0.12837013488078813\n",
            "    random_strength: 2.095732853304129e-06\n",
            "    bagging_temperature: 0.06357993391862697\n",
            "    od_type: Iter\n",
            "    od_wait: 12\n",
            "-----------------------\n",
            "\n",
            "Model is:  4\n",
            "Number of finished trials:  50\n",
            "Best trial:\n",
            "  Value:  0.4903692333092119\n",
            "  Params: \n",
            "    objective: RMSE\n",
            "    iterations: 595\n",
            "    learning_rate: 0.04421939235032091\n",
            "    depth: 9\n",
            "    l2_leaf_reg: 1.4207334457747091e-06\n",
            "    random_strength: 2.2722463422151135e-06\n",
            "    bagging_temperature: 0.5401030421014698\n",
            "    od_type: Iter\n",
            "    od_wait: 20\n",
            "-----------------------\n",
            "\n",
            "Model is:  5\n",
            "Number of finished trials:  50\n",
            "Best trial:\n",
            "  Value:  0.4880906056601812\n",
            "  Params: \n",
            "    objective: RMSE\n",
            "    iterations: 773\n",
            "    learning_rate: 0.0761084302660723\n",
            "    depth: 7\n",
            "    l2_leaf_reg: 0.0001948438493460769\n",
            "    random_strength: 3.4324024395109833e-07\n",
            "    bagging_temperature: 0.11050837554812247\n",
            "    od_type: IncToDec\n",
            "    od_wait: 13\n",
            "-----------------------\n",
            "\n"
          ]
        }
      ],
      "source": [
        "kf = KFold(n_splits=5,shuffle=True,random_state=42)\n",
        "cat_features = [feat for feat in FEATS_forw if feat in cat_cols]\n",
        "text_features = [feat for feat in FEATS_forw if feat in text_col]\n",
        "k = 0\n",
        "for train_index, test_index in kf.split(X):\n",
        "    k+=1\n",
        "    X_train, X_test = X.loc[train_index], X.loc[test_index]\n",
        "    y_train, y_test = y.loc[train_index], y.loc[test_index]\n",
        "    train_pool = Pool(\n",
        "            X_train[FEATS_forw].values, y_train.values,\n",
        "            text_features = text_features,\n",
        "            feature_names = FEATS_forw,\n",
        "            cat_features = cat_features\n",
        "            )\n",
        "\n",
        "    validation_pool = Pool(\n",
        "                X_test[FEATS_forw].values, y_test.values,\n",
        "                text_features = text_features,\n",
        "                feature_names = FEATS_forw,\n",
        "                cat_features= cat_features\n",
        "            )\n",
        "    sampler = TPESampler(seed=1)\n",
        "    study = optuna.create_study(study_name=f\"catboost{k}\", direction=\"minimize\", sampler=sampler)\n",
        "    study.optimize(objective, n_trials=50)\n",
        "    print(\"Model is: \",k)\n",
        "    print(\"Number of finished trials: \", len(study.trials))\n",
        "    print(\"Best trial:\")\n",
        "    trial = study.best_trial\n",
        "    print(\"  Value: \", trial.value)\n",
        "    print(\"  Params: \")\n",
        "    for key, value in trial.params.items():\n",
        "        print(\"    {}: {}\".format(key, value))\n",
        "    print(\"-----------------------\")\n",
        "    print()"
      ]
    },
    {
      "cell_type": "code",
      "source": [
        "params = [{\n",
        "    \"objective\": \"RMSE\",\n",
        "    \"iterations\": 782,\n",
        "    'learning_rate': 0.0609745110649962,\n",
        "    'depth': 10,\n",
        "    'l2_leaf_reg': 0.0012451862361021549,\n",
        "    'random_strength': 0.0001389576157320045,\n",
        "    'bagging_temperature': 0.3882913905679768,\n",
        "    'od_type': 'Iter',\n",
        "    'od_wait': 14,\n",
        "},\n",
        "   {'objective': 'RMSE',\n",
        "    'iterations': 906,\n",
        "    'learning_rate': 0.025801228221744032,\n",
        "    'depth': 10,\n",
        "    'l2_leaf_reg': 3.08511946568206e-05,\n",
        "    'random_strength': 0.0002659498146328842,\n",
        "    'bagging_temperature': 0.05028435974583667,\n",
        "    'od_type': 'Iter',\n",
        "    'od_wait': 33},\n",
        "    {\n",
        "        'objective': 'RMSE',\n",
        "    'iterations': 953,\n",
        "    'learning_rate': 0.07848801873282044,\n",
        "    'depth': 8,\n",
        "    'l2_leaf_reg': 0.12837013488078813,\n",
        "    'random_strength': 2.095732853304129e-06,\n",
        "    'bagging_temperature': 0.06357993391862697,\n",
        "    'od_type': 'Iter',\n",
        "    'od_wait': 12,\n",
        "    },\n",
        "    {\n",
        "           'objective': 'RMSE',\n",
        "    'iterations': 595,\n",
        "    'learning_rate': 0.04421939235032091,\n",
        "    'depth': 9,\n",
        "    'l2_leaf_reg': 1.4207334457747091e-06,\n",
        "    'random_strength': 2.2722463422151135e-06,\n",
        "    'bagging_temperature': 0.5401030421014698,\n",
        "    'od_type': 'Iter',\n",
        "    'od_wait': 20,\n",
        "    },\n",
        "    {\n",
        "      'objective': 'RMSE',\n",
        "    'iterations': 773,\n",
        "    'learning_rate': 0.0761084302660723,\n",
        "    'depth': 7,\n",
        "    'l2_leaf_reg': 0.0001948438493460769,\n",
        "    'random_strength': 3.4324024395109833e-07,\n",
        "    'bagging_temperature': 0.11050837554812247,\n",
        "    'od_type': 'IncToDec',\n",
        "    'od_wait': 13,\n",
        "    }\n",
        "]"
      ],
      "metadata": {
        "id": "qOvmmHdyM6aY"
      },
      "execution_count": 20,
      "outputs": []
    },
    {
      "cell_type": "code",
      "source": [
        "def fit_model(train_pool, validation_pool, params):\n",
        "    model = CatBoostRegressor(\n",
        "        **params,\n",
        "        task_type=\"GPU\"\n",
        "    )\n",
        "    return model.fit(\n",
        "        train_pool,\n",
        "        eval_set=validation_pool,\n",
        "        verbose=False,\n",
        "\n",
        "    )"
      ],
      "metadata": {
        "id": "x6wXK1DDOG0v"
      },
      "execution_count": 21,
      "outputs": []
    },
    {
      "cell_type": "code",
      "source": [
        "kf = KFold(n_splits=5,shuffle=True,random_state=42)\n",
        "cat_features = [feat for feat in FEATS_forw if feat in cat_cols]\n",
        "text_features = [feat for feat in FEATS_forw if feat in text_col]\n",
        "k = 0\n",
        "preds = []\n",
        "models = []\n",
        "for train_index, test_index in kf.split(X):\n",
        "\n",
        "    X_train, X_test = X.loc[train_index], X.loc[test_index]\n",
        "    y_train, y_test = y.loc[train_index], y.loc[test_index]\n",
        "    train_pool = Pool(\n",
        "            X_train[FEATS_forw].values, y_train.values,\n",
        "            text_features = text_features,\n",
        "            feature_names = FEATS_forw,\n",
        "            cat_features = cat_features\n",
        "            )\n",
        "\n",
        "    validation_pool = Pool(\n",
        "                X_test[FEATS_forw].values, y_test.values,\n",
        "                text_features = text_features,\n",
        "                feature_names = FEATS_forw,\n",
        "                cat_features= cat_features\n",
        "            )\n",
        "    model = fit_model(train_pool,validation_pool,params[k])\n",
        "    preds.append(model.predict(X_test[FEATS_forw].values))\n",
        "    models.append(model)\n",
        "    k+=1\n",
        "\n",
        "# df_dict = {}\n",
        "# o = 0\n",
        "# new_y = []\n",
        "# for x_tr, x_val in kf.split(X):\n",
        "#     new_y.extend(x_val)\n",
        "#     for i,key in enumerate(x_val):\n",
        "#       df_dict[i] = preds[o][i]\n",
        "\n",
        "#     o+=1\n",
        "# new_y = np.array(new_y)\n",
        "# df_dict[\"id\"] = y[new_y]\n",
        "\n",
        "\n",
        "# new_df_train = pd.DataFrame()\n",
        "# for i in range(5):\n",
        "#   new_df_train[f\"score_{i}\"] = preds[i]\n",
        "\n",
        "# new_df_train[\"target\"] = y[new_y]"
      ],
      "metadata": {
        "collapsed": true,
        "id": "TScMkoJhMxOL"
      },
      "execution_count": null,
      "outputs": []
    },
    {
      "cell_type": "code",
      "source": [
        "pd.DataFrame().from_dict(df_dict)"
      ],
      "metadata": {
        "id": "Jh5oz8G2an7m"
      },
      "execution_count": null,
      "outputs": []
    },
    {
      "cell_type": "code",
      "source": [
        "X = new_df_train.drop(columns = ['target'])\n",
        "y = new_df_train['target']\n",
        "X_train, X_test, y_train, y_test = train_test_split(X, y,random_state=42, train_size=0.8, shuffle=True)"
      ],
      "metadata": {
        "id": "upH5XkvwQXMB"
      },
      "execution_count": 87,
      "outputs": []
    },
    {
      "cell_type": "code",
      "source": [
        "from sklearn.metrics import mean_squared_error\n",
        "\n",
        "def objective(trial):\n",
        "    # Определение гиперпараметров\n",
        "    model = CatBoostRegressor(\n",
        "        objective = trial.suggest_categorical(\"objective\", [\"RMSE\"]),\n",
        "        iterations=trial.suggest_int(\"iterations\", 100, 1000),\n",
        "        learning_rate=trial.suggest_float(\"learning_rate\", 1e-3, 1e-1, log=True),\n",
        "        depth=trial.suggest_int(\"depth\", 4, 10),\n",
        "        l2_leaf_reg=trial.suggest_float(\"l2_leaf_reg\", 1e-8, 100.0, log=True),\n",
        "        # bootstrap_type=trial.suggest_categorical(\"bootstrap_type\", [\"Bayesian\"]),\n",
        "        random_strength=trial.suggest_float(\"random_strength\", 1e-8, 10.0, log=True),\n",
        "        bagging_temperature=trial.suggest_float(\"bagging_temperature\", 0.0, 10.0),\n",
        "        od_type=trial.suggest_categorical(\"od_type\", [\"IncToDec\", \"Iter\"]),\n",
        "        od_wait=trial.suggest_int(\"od_wait\", 10, 50),\n",
        "        verbose=False,\n",
        "        task_type=\"GPU\"\n",
        "    )\n",
        "\n",
        "    # Обучение модели\n",
        "    model.fit(train_pool,eval_set=validation_pool, verbose=False)\n",
        "\n",
        "    # Предсказания\n",
        "    y_train_pred = model.predict(X_train)\n",
        "    y_val_pred = model.predict(X_test)\n",
        "\n",
        "    # Вычисление ошибок\n",
        "    train_rmse = mean_squared_error(y_train.values, y_train_pred, squared=False)\n",
        "    val_rmse = mean_squared_error(y_test.values, y_val_pred, squared=False)\n",
        "\n",
        "    # Учет переобучения\n",
        "    score = 100000000 if val_rmse/train_rmse>1.1 else val_rmse\n",
        "\n",
        "    return score"
      ],
      "metadata": {
        "id": "R_GvETaCQ7Bk"
      },
      "execution_count": 69,
      "outputs": []
    },
    {
      "cell_type": "code",
      "source": [
        "train_pool = Pool(\n",
        "        X_train[\"score\"].values, y_train.values,\n",
        "        feature_names = [\"score\"],\n",
        "        )\n",
        "\n",
        "validation_pool = Pool(\n",
        "            X_test[\"score\"].values, y_test.values,\n",
        "            feature_names = [\"score\"],\n",
        "        )\n",
        "sampler = TPESampler(seed=1)\n",
        "study = optuna.create_study(study_name=f\"catboost{k}\", direction=\"minimize\", sampler=sampler)\n",
        "study.optimize(objective, n_trials=50)\n",
        "print(\"Model is: \",k)\n",
        "print(\"Number of finished trials: \", len(study.trials))\n",
        "print(\"Best trial:\")\n",
        "trial = study.best_trial\n",
        "print(\"  Value: \", trial.value)\n",
        "print(\"  Params: \")\n",
        "for key, value in trial.params.items():\n",
        "    print(\"    {}: {}\".format(key, value))\n",
        "print(\"-----------------------\")\n",
        "print()"
      ],
      "metadata": {
        "colab": {
          "base_uri": "https://localhost:8080/"
        },
        "id": "xRCX8pVuP_Ht",
        "outputId": "9555f7e0-a895-4b5e-d1a2-322a9c95bbed"
      },
      "execution_count": 70,
      "outputs": [
        {
          "output_type": "stream",
          "name": "stdout",
          "text": [
            "Model is:  5\n",
            "Number of finished trials:  50\n",
            "Best trial:\n",
            "  Value:  0.8409114689307593\n",
            "  Params: \n",
            "    objective: RMSE\n",
            "    iterations: 664\n",
            "    learning_rate: 0.03615491162820968\n",
            "    depth: 4\n",
            "    l2_leaf_reg: 0.0004890184773041024\n",
            "    random_strength: 0.00010758207294597246\n",
            "    bagging_temperature: 4.8418203515062315\n",
            "    od_type: Iter\n",
            "    od_wait: 27\n",
            "-----------------------\n",
            "\n"
          ]
        }
      ]
    },
    {
      "cell_type": "code",
      "source": [
        "params = {\n",
        "    'objective': 'RMSE',\n",
        "    'iterations': 664,\n",
        "    'learning_rate': 0.03615491162820968,\n",
        "    'depth': 4,\n",
        "    'l2_leaf_reg': 0.0004890184773041024,\n",
        "    'random_strength': 0.00010758207294597246,\n",
        "    'bagging_temperature': 4.8418203515062315,\n",
        "    'od_type': 'Iter',\n",
        "    'od_wait': 27,\n",
        "}"
      ],
      "metadata": {
        "id": "IHFmVvDDSqS2"
      },
      "execution_count": 88,
      "outputs": []
    },
    {
      "cell_type": "code",
      "source": [
        "model = CatBoostRegressor(\n",
        "    **params,\n",
        "    task_type=\"GPU\"\n",
        "    )"
      ],
      "metadata": {
        "id": "7LVF3eVhSxyc"
      },
      "execution_count": 89,
      "outputs": []
    },
    {
      "cell_type": "code",
      "source": [
        "model.fit(\n",
        "    X_train[[\"score\"]], y_train,\n",
        "    eval_set=(X_test[[\"score\"]], y_test),\n",
        "    plot=True, verbose=False\n",
        ")"
      ],
      "metadata": {
        "colab": {
          "base_uri": "https://localhost:8080/",
          "height": 34,
          "referenced_widgets": [
            "f8247fb15dc442c8bb8ba859f6e1768a"
          ]
        },
        "id": "6Z42zCDbS61-",
        "outputId": "43fb00b3-2b47-4cbb-c01b-0fcce9aa0fae"
      },
      "execution_count": 92,
      "outputs": [
        {
          "output_type": "display_data",
          "data": {
            "text/plain": [
              "MetricVisualizer(layout=Layout(align_self='stretch', height='500px'))"
            ],
            "application/vnd.jupyter.widget-view+json": {
              "version_major": 2,
              "version_minor": 0,
              "model_id": "f8247fb15dc442c8bb8ba859f6e1768a"
            }
          },
          "metadata": {}
        },
        {
          "output_type": "execute_result",
          "data": {
            "text/plain": [
              "<catboost.core.CatBoostRegressor at 0x7b9762ecb280>"
            ]
          },
          "metadata": {},
          "execution_count": 92
        }
      ]
    },
    {
      "cell_type": "code",
      "source": [
        "from google.colab import output\n",
        "output.enable_custom_widget_manager()"
      ],
      "metadata": {
        "id": "CiRr_Hr0Ugk7"
      },
      "execution_count": 91,
      "outputs": []
    },
    {
      "cell_type": "markdown",
      "source": [
        "Support for third party widgets will remain active for the duration of the session. To disable support:"
      ],
      "metadata": {
        "id": "cakjcaseUgk8"
      }
    },
    {
      "cell_type": "code",
      "source": [
        "y_pred = model.predict(X_test[[\"score\"]])\n",
        "mean_squared_error(y_test, y_pred)"
      ],
      "metadata": {
        "colab": {
          "base_uri": "https://localhost:8080/"
        },
        "id": "6hYWCJWMTMgU",
        "outputId": "17ec69dc-5ea8-4f15-d03f-3ce9810eb01c"
      },
      "execution_count": 93,
      "outputs": [
        {
          "output_type": "execute_result",
          "data": {
            "text/plain": [
              "0.7071325826232291"
            ]
          },
          "metadata": {},
          "execution_count": 93
        }
      ]
    },
    {
      "cell_type": "code",
      "source": [
        "mean_squared_error(np.exp(y_test), np.exp(y_pred))"
      ],
      "metadata": {
        "colab": {
          "base_uri": "https://localhost:8080/"
        },
        "id": "XhhECkKGTV9J",
        "outputId": "81173856-9204-4d83-c663-c30a9ff20cb4"
      },
      "execution_count": 94,
      "outputs": [
        {
          "output_type": "execute_result",
          "data": {
            "text/plain": [
              "6419984697.801937"
            ]
          },
          "metadata": {},
          "execution_count": 94
        }
      ]
    },
    {
      "cell_type": "code",
      "execution_count": null,
      "metadata": {
        "execution": {
          "iopub.execute_input": "2024-11-26T09:13:10.068224Z",
          "iopub.status.busy": "2024-11-26T09:13:10.067871Z",
          "iopub.status.idle": "2024-11-26T09:13:10.509924Z",
          "shell.execute_reply": "2024-11-26T09:13:10.508691Z",
          "shell.execute_reply.started": "2024-11-26T09:13:10.068188Z"
        },
        "id": "Xfs-S79U7C-_",
        "outputId": "88d8450b-24d0-4a99-c1ee-c5cdb76d7340"
      },
      "outputs": [
        {
          "data": {
            "text/plain": [
              "0.24332879618610548"
            ]
          },
          "execution_count": 38,
          "metadata": {},
          "output_type": "execute_result"
        }
      ],
      "source": [
        "y_pred = model.predict(validation_pool)\n",
        "mean_squared_error(y_test, y_pred)"
      ]
    },
    {
      "cell_type": "code",
      "execution_count": null,
      "metadata": {
        "execution": {
          "iopub.execute_input": "2024-11-26T09:13:10.511510Z",
          "iopub.status.busy": "2024-11-26T09:13:10.511150Z",
          "iopub.status.idle": "2024-11-26T09:13:10.520541Z",
          "shell.execute_reply": "2024-11-26T09:13:10.519582Z",
          "shell.execute_reply.started": "2024-11-26T09:13:10.511471Z"
        },
        "id": "uMTDA8Qj7C-_",
        "outputId": "b67221bd-59bb-4aab-cb6e-d030eaa1902d"
      },
      "outputs": [
        {
          "data": {
            "text/plain": [
              "4717543039.900205"
            ]
          },
          "execution_count": 39,
          "metadata": {},
          "output_type": "execute_result"
        }
      ],
      "source": [
        "mean_squared_error(np.exp(y_test), np.exp(y_pred))"
      ]
    },
    {
      "cell_type": "code",
      "execution_count": 78,
      "metadata": {
        "execution": {
          "iopub.execute_input": "2024-11-26T09:13:10.521934Z",
          "iopub.status.busy": "2024-11-26T09:13:10.521572Z",
          "iopub.status.idle": "2024-11-26T09:13:10.536261Z",
          "shell.execute_reply": "2024-11-26T09:13:10.535075Z",
          "shell.execute_reply.started": "2024-11-26T09:13:10.521894Z"
        },
        "id": "SrqSdmNg7C_A"
      },
      "outputs": [],
      "source": [
        "import matplotlib.pyplot as plt\n",
        "import pandas as pd\n",
        "import numpy as np\n",
        "\n",
        "def plot_feature_importance(importance, names, model_type):\n",
        "    feature_importance = np.array(importance)\n",
        "    feature_names = np.array(names)\n",
        "    data = {'feature_names': feature_names, 'feature_importance': feature_importance}\n",
        "    fi_df = pd.DataFrame(data)\n",
        "\n",
        "    fi_df.sort_values(by=['feature_importance'], ascending=True, inplace=True)\n",
        "\n",
        "    plt.figure(figsize=(10, 6))\n",
        "    plt.barh(fi_df['feature_names'], fi_df['feature_importance'], color='skyblue')\n",
        "    plt.xlabel('Feature Importance', fontsize=14)\n",
        "    plt.ylabel('Feature Names', fontsize=14)\n",
        "    plt.title(f'Feature Importance ({model_type})', fontsize=16)\n",
        "    plt.grid(axis='x', linestyle='--', alpha=0.7)\n",
        "    plt.tight_layout()\n",
        "    plt.show()\n"
      ]
    },
    {
      "cell_type": "code",
      "execution_count": 79,
      "metadata": {
        "execution": {
          "iopub.execute_input": "2024-11-26T09:13:10.539478Z",
          "iopub.status.busy": "2024-11-26T09:13:10.538402Z",
          "iopub.status.idle": "2024-11-26T09:13:11.188969Z",
          "shell.execute_reply": "2024-11-26T09:13:11.188142Z",
          "shell.execute_reply.started": "2024-11-26T09:13:10.539431Z"
        },
        "id": "XoDWQwhq7C_A"
      },
      "outputs": [],
      "source": [
        "import plotly.express as px"
      ]
    },
    {
      "cell_type": "code",
      "execution_count": 80,
      "metadata": {
        "execution": {
          "iopub.execute_input": "2024-11-26T09:13:11.190655Z",
          "iopub.status.busy": "2024-11-26T09:13:11.190055Z",
          "iopub.status.idle": "2024-11-26T09:13:11.655999Z",
          "shell.execute_reply": "2024-11-26T09:13:11.655127Z",
          "shell.execute_reply.started": "2024-11-26T09:13:11.190626Z"
        },
        "colab": {
          "base_uri": "https://localhost:8080/",
          "height": 607
        },
        "id": "PWnzBjB-7C_A",
        "outputId": "04b00340-b491-428a-e795-e9f9c70a1b14"
      },
      "outputs": [
        {
          "output_type": "display_data",
          "data": {
            "text/plain": [
              "<Figure size 1000x600 with 1 Axes>"
            ],
            "image/png": "[encoded data removed]"
          },
          "metadata": {}
        }
      ],
      "source": [
        "plot_feature_importance(model.feature_importances_,X_train.columns,'CatBoost')"
      ]
    },
    {
      "cell_type": "markdown",
      "metadata": {
        "id": "5fwmJJU97C_A"
      },
      "source": [
        "# Predict"
      ]
    },
    {
      "cell_type": "code",
      "execution_count": 95,
      "metadata": {
        "execution": {
          "iopub.execute_input": "2024-11-26T09:13:11.657626Z",
          "iopub.status.busy": "2024-11-26T09:13:11.657240Z",
          "iopub.status.idle": "2024-11-26T09:13:12.153653Z",
          "shell.execute_reply": "2024-11-26T09:13:12.152621Z",
          "shell.execute_reply.started": "2024-11-26T09:13:11.657576Z"
        },
        "id": "74Was4g87C_B"
      },
      "outputs": [],
      "source": [
        "test = pd.read_csv(\"test.csv\")"
      ]
    },
    {
      "cell_type": "code",
      "execution_count": 96,
      "metadata": {
        "execution": {
          "iopub.execute_input": "2024-11-26T09:13:12.218713Z",
          "iopub.status.busy": "2024-11-26T09:13:12.218401Z",
          "iopub.status.idle": "2024-11-26T09:13:12.274332Z",
          "shell.execute_reply": "2024-11-26T09:13:12.273506Z",
          "shell.execute_reply.started": "2024-11-26T09:13:12.218682Z"
        },
        "id": "II8jKgX17C_B"
      },
      "outputs": [],
      "source": [
        "test.accident = test.accident.fillna('None reported')\n",
        "\n",
        "test.fuel_type = test.fuel_type.fillna(train.fuel_type.mode(dropna=True)[0])\n",
        "\n",
        "test.clean_title = test.clean_title.fillna(train.clean_title.mode(dropna=True)[0])"
      ]
    },
    {
      "cell_type": "code",
      "execution_count": 97,
      "metadata": {
        "execution": {
          "iopub.execute_input": "2024-11-26T09:13:12.275974Z",
          "iopub.status.busy": "2024-11-26T09:13:12.275544Z",
          "iopub.status.idle": "2024-11-26T09:13:12.595644Z",
          "shell.execute_reply": "2024-11-26T09:13:12.594829Z",
          "shell.execute_reply.started": "2024-11-26T09:13:12.275929Z"
        },
        "id": "qAqkVjdJ7C_B"
      },
      "outputs": [],
      "source": [
        "test['year_category'] = test['model_year'].apply(categorize_year)\n",
        "test['model_category'] = test['model'].apply(categorize_model)\n",
        "test['brand_category'] = test['brand'].apply(categorize_brand)"
      ]
    },
    {
      "cell_type": "code",
      "execution_count": 98,
      "metadata": {
        "execution": {
          "iopub.execute_input": "2024-11-26T09:13:12.597006Z",
          "iopub.status.busy": "2024-11-26T09:13:12.596713Z",
          "iopub.status.idle": "2024-11-26T09:13:12.702643Z",
          "shell.execute_reply": "2024-11-26T09:13:12.701680Z",
          "shell.execute_reply.started": "2024-11-26T09:13:12.596976Z"
        },
        "id": "bPcTj5fV7C_C"
      },
      "outputs": [],
      "source": [
        "test_new = pd.merge(test, average_prices_brand, on='brand', how='left')\n",
        "test_new = pd.merge(test_new, average_prices_year, on='model_year', how='left')\n",
        "test_new = pd.merge(test_new, average_prices_model, on='model', how='left')"
      ]
    },
    {
      "cell_type": "code",
      "source": [
        "numerical_cols = ['milage', 'average_prices_brand','average_prices_year','average_prices_model']\n",
        "cat_cols = ['brand', 'model', 'model_year','fuel_type',\n",
        "       'transmission', 'ext_col', 'int_col', 'accident', 'clean_title', 'year_category','brand_category','model_category']\n",
        "text_col = ['engine']\n",
        "for i in cat_cols:\n",
        "    test_new[i] = test_new[i].astype(str)\n",
        "\n",
        "for i in text_col:\n",
        "    test_new[i] = test_new[i].astype(str)"
      ],
      "metadata": {
        "id": "lwFL3xwjU1TT"
      },
      "execution_count": 100,
      "outputs": []
    },
    {
      "cell_type": "code",
      "execution_count": 105,
      "metadata": {
        "execution": {
          "iopub.execute_input": "2024-11-26T09:13:12.704624Z",
          "iopub.status.busy": "2024-11-26T09:13:12.704212Z",
          "iopub.status.idle": "2024-11-26T09:13:12.946602Z",
          "shell.execute_reply": "2024-11-26T09:13:12.945880Z",
          "shell.execute_reply.started": "2024-11-26T09:13:12.704580Z"
        },
        "id": "zXUpF5r97C_C"
      },
      "outputs": [],
      "source": [
        "cat_features = [feat for feat in FEATS_forw if feat in cat_cols]\n",
        "text_features = [feat for feat in FEATS_forw if feat in text_col]\n",
        "\n",
        "test_pool = Pool(\n",
        "    test_new[FEATS_forw],\n",
        "    text_features = text_features,\n",
        "    cat_features= cat_features,\n",
        "    feature_names = FEATS_forw\n",
        ")\n",
        "y_preds = []\n",
        "for m in models:\n",
        "  y_pred = m.predict(test_pool)\n",
        "  y_preds.append(y_pred)\n",
        "\n",
        "t = pd.DataFrame(y_preds[0])\n",
        "for i in range(1,5):\n",
        "  t2 = pd.DataFrame(y_preds[i])\n",
        "  t = pd.concat([t,t2])\n",
        "\n",
        "new_df_train = pd.DataFrame()\n",
        "new_df_train[\"score\"] = t[0]\n",
        "# new_df_train[\"target\"] = y[new_y]"
      ]
    },
    {
      "cell_type": "code",
      "source": [],
      "metadata": {
        "id": "z3kYRZ-jWNTG"
      },
      "execution_count": null,
      "outputs": []
    },
    {
      "cell_type": "code",
      "execution_count": 108,
      "metadata": {
        "execution": {
          "iopub.execute_input": "2024-11-26T09:13:12.948080Z",
          "iopub.status.busy": "2024-11-26T09:13:12.947745Z",
          "iopub.status.idle": "2024-11-26T09:13:13.782986Z",
          "shell.execute_reply": "2024-11-26T09:13:13.781996Z",
          "shell.execute_reply.started": "2024-11-26T09:13:12.948051Z"
        },
        "colab": {
          "base_uri": "https://localhost:8080/"
        },
        "id": "LnMiD50e7C_C",
        "outputId": "cdd1be5a-a9a7-4ed7-a17a-b83c59498882"
      },
      "outputs": [
        {
          "output_type": "execute_result",
          "data": {
            "text/plain": [
              "(628450,)"
            ]
          },
          "metadata": {},
          "execution_count": 108
        }
      ],
      "source": [
        "test_pool = Pool(\n",
        "    new_df_train[[\"score\"]],\n",
        "    feature_names = [\"score\"]\n",
        ")\n",
        "y_pred = model.predict(test_pool)\n",
        "y_pred.shape"
      ]
    },
    {
      "cell_type": "code",
      "execution_count": 109,
      "metadata": {
        "execution": {
          "iopub.execute_input": "2024-11-26T09:13:13.784674Z",
          "iopub.status.busy": "2024-11-26T09:13:13.784295Z",
          "iopub.status.idle": "2024-11-26T09:13:13.837073Z",
          "shell.execute_reply": "2024-11-26T09:13:13.836174Z",
          "shell.execute_reply.started": "2024-11-26T09:13:13.784633Z"
        },
        "colab": {
          "base_uri": "https://localhost:8080/",
          "height": 350
        },
        "id": "brGSgNoD7C_C",
        "outputId": "acaf1b09-7346-4294-e063-b737861e8211"
      },
      "outputs": [
        {
          "output_type": "stream",
          "name": "stdout",
          "text": [
            "(125690, 2)\n"
          ]
        },
        {
          "output_type": "error",
          "ename": "ValueError",
          "evalue": "Length of values (628450) does not match length of index (125690)",
          "traceback": [
            "\u001b[0;31m---------------------------------------------------------------------------\u001b[0m",
            "\u001b[0;31mValueError\u001b[0m                                Traceback (most recent call last)",
            "\u001b[0;32m<ipython-input-109-51941b19ef1b>\u001b[0m in \u001b[0;36m<cell line: 3>\u001b[0;34m()\u001b[0m\n\u001b[1;32m      1\u001b[0m \u001b[0msubmission\u001b[0m \u001b[0;34m=\u001b[0m \u001b[0mpd\u001b[0m\u001b[0;34m.\u001b[0m\u001b[0mread_csv\u001b[0m\u001b[0;34m(\u001b[0m\u001b[0;34m\"sample_submission.csv\"\u001b[0m\u001b[0;34m)\u001b[0m\u001b[0;34m\u001b[0m\u001b[0;34m\u001b[0m\u001b[0m\n\u001b[1;32m      2\u001b[0m \u001b[0mprint\u001b[0m\u001b[0;34m(\u001b[0m\u001b[0msubmission\u001b[0m\u001b[0;34m.\u001b[0m\u001b[0mshape\u001b[0m\u001b[0;34m)\u001b[0m\u001b[0;34m\u001b[0m\u001b[0;34m\u001b[0m\u001b[0m\n\u001b[0;32m----> 3\u001b[0;31m \u001b[0msubmission\u001b[0m\u001b[0;34m[\u001b[0m\u001b[0;34m'price'\u001b[0m\u001b[0;34m]\u001b[0m \u001b[0;34m=\u001b[0m \u001b[0my_pred\u001b[0m \u001b[0;31m#np.exp(y_pred)\u001b[0m\u001b[0;34m\u001b[0m\u001b[0;34m\u001b[0m\u001b[0m\n\u001b[0m\u001b[1;32m      4\u001b[0m \u001b[0msubmission\u001b[0m\u001b[0;34m\u001b[0m\u001b[0;34m\u001b[0m\u001b[0m\n",
            "\u001b[0;32m/usr/local/lib/python3.10/dist-packages/pandas/core/frame.py\u001b[0m in \u001b[0;36m__setitem__\u001b[0;34m(self, key, value)\u001b[0m\n\u001b[1;32m   4309\u001b[0m         \u001b[0;32melse\u001b[0m\u001b[0;34m:\u001b[0m\u001b[0;34m\u001b[0m\u001b[0;34m\u001b[0m\u001b[0m\n\u001b[1;32m   4310\u001b[0m             \u001b[0;31m# set column\u001b[0m\u001b[0;34m\u001b[0m\u001b[0;34m\u001b[0m\u001b[0m\n\u001b[0;32m-> 4311\u001b[0;31m             \u001b[0mself\u001b[0m\u001b[0;34m.\u001b[0m\u001b[0m_set_item\u001b[0m\u001b[0;34m(\u001b[0m\u001b[0mkey\u001b[0m\u001b[0;34m,\u001b[0m \u001b[0mvalue\u001b[0m\u001b[0;34m)\u001b[0m\u001b[0;34m\u001b[0m\u001b[0;34m\u001b[0m\u001b[0m\n\u001b[0m\u001b[1;32m   4312\u001b[0m \u001b[0;34m\u001b[0m\u001b[0m\n\u001b[1;32m   4313\u001b[0m     \u001b[0;32mdef\u001b[0m \u001b[0m_setitem_slice\u001b[0m\u001b[0;34m(\u001b[0m\u001b[0mself\u001b[0m\u001b[0;34m,\u001b[0m \u001b[0mkey\u001b[0m\u001b[0;34m:\u001b[0m \u001b[0mslice\u001b[0m\u001b[0;34m,\u001b[0m \u001b[0mvalue\u001b[0m\u001b[0;34m)\u001b[0m \u001b[0;34m->\u001b[0m \u001b[0;32mNone\u001b[0m\u001b[0;34m:\u001b[0m\u001b[0;34m\u001b[0m\u001b[0;34m\u001b[0m\u001b[0m\n",
            "\u001b[0;32m/usr/local/lib/python3.10/dist-packages/pandas/core/frame.py\u001b[0m in \u001b[0;36m_set_item\u001b[0;34m(self, key, value)\u001b[0m\n\u001b[1;32m   4522\u001b[0m         \u001b[0mensure\u001b[0m \u001b[0mhomogeneity\u001b[0m\u001b[0;34m.\u001b[0m\u001b[0;34m\u001b[0m\u001b[0;34m\u001b[0m\u001b[0m\n\u001b[1;32m   4523\u001b[0m         \"\"\"\n\u001b[0;32m-> 4524\u001b[0;31m         \u001b[0mvalue\u001b[0m\u001b[0;34m,\u001b[0m \u001b[0mrefs\u001b[0m \u001b[0;34m=\u001b[0m \u001b[0mself\u001b[0m\u001b[0;34m.\u001b[0m\u001b[0m_sanitize_column\u001b[0m\u001b[0;34m(\u001b[0m\u001b[0mvalue\u001b[0m\u001b[0;34m)\u001b[0m\u001b[0;34m\u001b[0m\u001b[0;34m\u001b[0m\u001b[0m\n\u001b[0m\u001b[1;32m   4525\u001b[0m \u001b[0;34m\u001b[0m\u001b[0m\n\u001b[1;32m   4526\u001b[0m         if (\n",
            "\u001b[0;32m/usr/local/lib/python3.10/dist-packages/pandas/core/frame.py\u001b[0m in \u001b[0;36m_sanitize_column\u001b[0;34m(self, value)\u001b[0m\n\u001b[1;32m   5264\u001b[0m \u001b[0;34m\u001b[0m\u001b[0m\n\u001b[1;32m   5265\u001b[0m         \u001b[0;32mif\u001b[0m \u001b[0mis_list_like\u001b[0m\u001b[0;34m(\u001b[0m\u001b[0mvalue\u001b[0m\u001b[0;34m)\u001b[0m\u001b[0;34m:\u001b[0m\u001b[0;34m\u001b[0m\u001b[0;34m\u001b[0m\u001b[0m\n\u001b[0;32m-> 5266\u001b[0;31m             \u001b[0mcom\u001b[0m\u001b[0;34m.\u001b[0m\u001b[0mrequire_length_match\u001b[0m\u001b[0;34m(\u001b[0m\u001b[0mvalue\u001b[0m\u001b[0;34m,\u001b[0m \u001b[0mself\u001b[0m\u001b[0;34m.\u001b[0m\u001b[0mindex\u001b[0m\u001b[0;34m)\u001b[0m\u001b[0;34m\u001b[0m\u001b[0;34m\u001b[0m\u001b[0m\n\u001b[0m\u001b[1;32m   5267\u001b[0m         \u001b[0marr\u001b[0m \u001b[0;34m=\u001b[0m \u001b[0msanitize_array\u001b[0m\u001b[0;34m(\u001b[0m\u001b[0mvalue\u001b[0m\u001b[0;34m,\u001b[0m \u001b[0mself\u001b[0m\u001b[0;34m.\u001b[0m\u001b[0mindex\u001b[0m\u001b[0;34m,\u001b[0m \u001b[0mcopy\u001b[0m\u001b[0;34m=\u001b[0m\u001b[0;32mTrue\u001b[0m\u001b[0;34m,\u001b[0m \u001b[0mallow_2d\u001b[0m\u001b[0;34m=\u001b[0m\u001b[0;32mTrue\u001b[0m\u001b[0;34m)\u001b[0m\u001b[0;34m\u001b[0m\u001b[0;34m\u001b[0m\u001b[0m\n\u001b[1;32m   5268\u001b[0m         if (\n",
            "\u001b[0;32m/usr/local/lib/python3.10/dist-packages/pandas/core/common.py\u001b[0m in \u001b[0;36mrequire_length_match\u001b[0;34m(data, index)\u001b[0m\n\u001b[1;32m    571\u001b[0m     \"\"\"\n\u001b[1;32m    572\u001b[0m     \u001b[0;32mif\u001b[0m \u001b[0mlen\u001b[0m\u001b[0;34m(\u001b[0m\u001b[0mdata\u001b[0m\u001b[0;34m)\u001b[0m \u001b[0;34m!=\u001b[0m \u001b[0mlen\u001b[0m\u001b[0;34m(\u001b[0m\u001b[0mindex\u001b[0m\u001b[0;34m)\u001b[0m\u001b[0;34m:\u001b[0m\u001b[0;34m\u001b[0m\u001b[0;34m\u001b[0m\u001b[0m\n\u001b[0;32m--> 573\u001b[0;31m         raise ValueError(\n\u001b[0m\u001b[1;32m    574\u001b[0m             \u001b[0;34m\"Length of values \"\u001b[0m\u001b[0;34m\u001b[0m\u001b[0;34m\u001b[0m\u001b[0m\n\u001b[1;32m    575\u001b[0m             \u001b[0;34mf\"({len(data)}) \"\u001b[0m\u001b[0;34m\u001b[0m\u001b[0;34m\u001b[0m\u001b[0m\n",
            "\u001b[0;31mValueError\u001b[0m: Length of values (628450) does not match length of index (125690)"
          ]
        }
      ],
      "source": [
        "submission = pd.read_csv(\"sample_submission.csv\")\n",
        "print(submission.shape)\n",
        "submission['price'] = y_pred #np.exp(y_pred)\n",
        "submission"
      ]
    },
    {
      "cell_type": "code",
      "execution_count": null,
      "metadata": {
        "execution": {
          "iopub.execute_input": "2024-11-26T09:13:13.838440Z",
          "iopub.status.busy": "2024-11-26T09:13:13.838144Z",
          "iopub.status.idle": "2024-11-26T09:13:14.092109Z",
          "shell.execute_reply": "2024-11-26T09:13:14.091293Z",
          "shell.execute_reply.started": "2024-11-26T09:13:13.838415Z"
        },
        "id": "r_BMDeQZ7C_C"
      },
      "outputs": [],
      "source": [
        "submission.to_csv(\"submission_new_no_exp.csv\", index = False)"
      ]
    },
    {
      "cell_type": "code",
      "execution_count": null,
      "metadata": {
        "id": "P_xEW3Z87C_C"
      },
      "outputs": [],
      "source": []
    }
  ],
  "metadata": {
    "kaggle": {
      "accelerator": "nvidiaTeslaT4",
      "dataSources": [
        {
          "databundleVersionId": 9057646,
          "sourceId": 76728,
          "sourceType": "competition"
        }
      ],
      "dockerImageVersionId": 30786,
      "isGpuEnabled": true,
      "isInternetEnabled": true,
      "language": "python",
      "sourceType": "notebook"
    },
    "kernelspec": {
      "display_name": "Python (kaggle)",
      "language": "python",
      "name": "kagggle"
    },
    "language_info": {
      "codemirror_mode": {
        "name": "ipython",
        "version": 3
      },
      "file_extension": ".py",
      "mimetype": "text/x-python",
      "name": "python",
      "nbconvert_exporter": "python",
      "pygments_lexer": "ipython3",
      "version": "3.8.13"
    },
    "colab": {
      "provenance": [],
      "gpuType": "T4"
    },
    "accelerator": "GPU",
    "widgets": {
      "application/vnd.jupyter.widget-state+json": {
        "f8247fb15dc442c8bb8ba859f6e1768a": {
          "model_module": "catboost-widget",
          "model_name": "CatboostWidgetModel",
          "model_module_version": "^1.0.0",
          "state": {
            "_dom_classes": [],
            "_model_module": "catboost-widget",
            "_model_module_version": "^1.0.0",
            "_model_name": "CatboostWidgetModel",
            "_view_count": null,
            "_view_module": "catboost-widget",
            "_view_module_version": "^1.0.0",
            "_view_name": "CatboostWidgetView",
            "data": {
              "catboost_info": {
                "path": "catboost_info",
                "name": "catboost_info",
                "content": {
                  "passed_iterations": 175,
                  "total_iterations": 664,
                  "data": {
                    "iterations": [
                      {
                        "learn": [
                          0.8467186407
                        ],
                        "iteration": 0,
                        "passed_time": 0.004966213778,
                        "remaining_time": 3.292599735,
                        "test": [
                          0.840923296
                        ]
                      },
                      {
                        "learn": [
                          0.8467177843
                        ],
                        "iteration": 1,
                        "passed_time": 0.008498199305,
                        "remaining_time": 2.81290397,
                        "test": [
                          0.84092268
                        ]
                      },
                      {
                        "learn": [
                          0.846717509
                        ],
                        "iteration": 2,
                        "passed_time": 0.01469189588,
                        "remaining_time": 3.237114393,
                        "test": [
                          0.8409223413
                        ]
                      },
                      {
                        "learn": [
                          0.8467172337
                        ],
                        "iteration": 3,
                        "passed_time": 0.01820959252,
                        "remaining_time": 3.004582765,
                        "test": [
                          0.8409224953
                        ]
                      },
                      {
                        "learn": [
                          0.8467167443
                        ],
                        "iteration": 4,
                        "passed_time": 0.02168426347,
                        "remaining_time": 2.857985926,
                        "test": [
                          0.8409226185
                        ]
                      },
                      {
                        "learn": [
                          0.8467164996
                        ],
                        "iteration": 5,
                        "passed_time": 0.02526880061,
                        "remaining_time": 2.771145133,
                        "test": [
                          0.8409225261
                        ]
                      },
                      {
                        "learn": [
                          0.8467157349
                        ],
                        "iteration": 6,
                        "passed_time": 0.02877819831,
                        "remaining_time": 2.70103947,
                        "test": [
                          0.8409234192
                        ]
                      },
                      {
                        "learn": [
                          0.8467152761
                        ],
                        "iteration": 7,
                        "passed_time": 0.03224931329,
                        "remaining_time": 2.64444369,
                        "test": [
                          0.8409224645
                        ]
                      },
                      {
                        "learn": [
                          0.8467149702
                        ],
                        "iteration": 8,
                        "passed_time": 0.03577108589,
                        "remaining_time": 2.60334014,
                        "test": [
                          0.8409221565
                        ]
                      },
                      {
                        "learn": [
                          0.8467139914
                        ],
                        "iteration": 9,
                        "passed_time": 0.03922828198,
                        "remaining_time": 2.565529642,
                        "test": [
                          0.8409214173
                        ]
                      },
                      {
                        "learn": [
                          0.8467130126
                        ],
                        "iteration": 10,
                        "passed_time": 0.04273842367,
                        "remaining_time": 2.537108242,
                        "test": [
                          0.8409215097
                        ]
                      },
                      {
                        "learn": [
                          0.8467125232
                        ],
                        "iteration": 11,
                        "passed_time": 0.04646079777,
                        "remaining_time": 2.524370012,
                        "test": [
                          0.8409216329
                        ]
                      },
                      {
                        "learn": [
                          0.8467123396
                        ],
                        "iteration": 12,
                        "passed_time": 0.05002604105,
                        "remaining_time": 2.50515021,
                        "test": [
                          0.8409222797
                        ]
                      },
                      {
                        "learn": [
                          0.8467118808
                        ],
                        "iteration": 13,
                        "passed_time": 0.0537156544,
                        "remaining_time": 2.493941097,
                        "test": [
                          0.8409224645
                        ]
                      },
                      {
                        "learn": [
                          0.8467112079
                        ],
                        "iteration": 14,
                        "passed_time": 0.05721399018,
                        "remaining_time": 2.475458642,
                        "test": [
                          0.8409226185
                        ]
                      },
                      {
                        "learn": [
                          0.8467108408
                        ],
                        "iteration": 15,
                        "passed_time": 0.06067442724,
                        "remaining_time": 2.457314303,
                        "test": [
                          0.8409229572
                        ]
                      },
                      {
                        "learn": [
                          0.8467097091
                        ],
                        "iteration": 16,
                        "passed_time": 0.06417415501,
                        "remaining_time": 2.442392841,
                        "test": [
                          0.8409227724
                        ]
                      },
                      {
                        "learn": [
                          0.846708975
                        ],
                        "iteration": 17,
                        "passed_time": 0.06771906644,
                        "remaining_time": 2.430362051,
                        "test": [
                          0.8409233576
                        ]
                      },
                      {
                        "learn": [
                          0.8467083632
                        ],
                        "iteration": 18,
                        "passed_time": 0.07121915321,
                        "remaining_time": 2.417702833,
                        "test": [
                          0.8409230804
                        ]
                      },
                      {
                        "learn": [
                          0.8467074456
                        ],
                        "iteration": 19,
                        "passed_time": 0.09203645818,
                        "remaining_time": 2.963573953,
                        "test": [
                          0.8409229264
                        ]
                      },
                      {
                        "learn": [
                          0.8467071397
                        ],
                        "iteration": 20,
                        "passed_time": 0.09820171997,
                        "remaining_time": 3.00684314,
                        "test": [
                          0.8409228648
                        ]
                      },
                      {
                        "learn": [
                          0.8467063138
                        ],
                        "iteration": 21,
                        "passed_time": 0.1017187476,
                        "remaining_time": 2.968337998,
                        "test": [
                          0.8409220333
                        ]
                      },
                      {
                        "learn": [
                          0.8467049068
                        ],
                        "iteration": 22,
                        "passed_time": 0.105269736,
                        "remaining_time": 2.933821773,
                        "test": [
                          0.8409232036
                        ]
                      },
                      {
                        "learn": [
                          0.846704448
                        ],
                        "iteration": 23,
                        "passed_time": 0.1087694758,
                        "remaining_time": 2.900519354,
                        "test": [
                          0.8409230804
                        ]
                      },
                      {
                        "learn": [
                          0.8467041115
                        ],
                        "iteration": 24,
                        "passed_time": 0.1122190539,
                        "remaining_time": 2.868319018,
                        "test": [
                          0.8409228648
                        ]
                      },
                      {
                        "learn": [
                          0.8467031939
                        ],
                        "iteration": 25,
                        "passed_time": 0.1158222269,
                        "remaining_time": 2.84209926,
                        "test": [
                          0.8409231112
                        ]
                      },
                      {
                        "learn": [
                          0.8467026739
                        ],
                        "iteration": 26,
                        "passed_time": 0.119278996,
                        "remaining_time": 2.814100757,
                        "test": [
                          0.8409230188
                        ]
                      },
                      {
                        "learn": [
                          0.8467020927
                        ],
                        "iteration": 27,
                        "passed_time": 0.123012634,
                        "remaining_time": 2.794144115,
                        "test": [
                          0.8409235732
                        ]
                      },
                      {
                        "learn": [
                          0.8467015727
                        ],
                        "iteration": 28,
                        "passed_time": 0.1265807713,
                        "remaining_time": 2.771682405,
                        "test": [
                          0.840922988
                        ]
                      },
                      {
                        "learn": [
                          0.8467014503
                        ],
                        "iteration": 29,
                        "passed_time": 0.1300980689,
                        "remaining_time": 2.749405856,
                        "test": [
                          0.840923142
                        ]
                      },
                      {
                        "learn": [
                          0.8467000127
                        ],
                        "iteration": 30,
                        "passed_time": 0.1336763921,
                        "remaining_time": 2.729585684,
                        "test": [
                          0.8409220949
                        ]
                      },
                      {
                        "learn": [
                          0.8466990644
                        ],
                        "iteration": 31,
                        "passed_time": 0.1371056854,
                        "remaining_time": 2.707837286,
                        "test": [
                          0.8409221873
                        ]
                      },
                      {
                        "learn": [
                          0.8466989727
                        ],
                        "iteration": 32,
                        "passed_time": 0.1405796673,
                        "remaining_time": 2.688053639,
                        "test": [
                          0.8409220949
                        ]
                      },
                      {
                        "learn": [
                          0.8466986668
                        ],
                        "iteration": 33,
                        "passed_time": 0.1441859923,
                        "remaining_time": 2.671681622,
                        "test": [
                          0.8409213557
                        ]
                      },
                      {
                        "learn": [
                          0.8466982997
                        ],
                        "iteration": 34,
                        "passed_time": 0.1476433184,
                        "remaining_time": 2.653361351,
                        "test": [
                          0.8409216021
                        ]
                      },
                      {
                        "learn": [
                          0.846698208
                        ],
                        "iteration": 35,
                        "passed_time": 0.1511536371,
                        "remaining_time": 2.636791225,
                        "test": [
                          0.8409216637
                        ]
                      },
                      {
                        "learn": [
                          0.846697168
                        ],
                        "iteration": 36,
                        "passed_time": 0.1546937056,
                        "remaining_time": 2.621431173,
                        "test": [
                          0.8409226185
                        ]
                      },
                      {
                        "learn": [
                          0.8466970456
                        ],
                        "iteration": 37,
                        "passed_time": 0.1581983043,
                        "remaining_time": 2.606108908,
                        "test": [
                          0.8409225261
                        ]
                      },
                      {
                        "learn": [
                          0.8466967397
                        ],
                        "iteration": 38,
                        "passed_time": 0.1617513757,
                        "remaining_time": 2.592169482,
                        "test": [
                          0.8409217869
                        ]
                      },
                      {
                        "learn": [
                          0.846696495
                        ],
                        "iteration": 39,
                        "passed_time": 0.1652776692,
                        "remaining_time": 2.57833164,
                        "test": [
                          0.8409215405
                        ]
                      },
                      {
                        "learn": [
                          0.8466957915
                        ],
                        "iteration": 40,
                        "passed_time": 0.1687559282,
                        "remaining_time": 2.564266908,
                        "test": [
                          0.8409220641
                        ]
                      },
                      {
                        "learn": [
                          0.8466945068
                        ],
                        "iteration": 41,
                        "passed_time": 0.1723996199,
                        "remaining_time": 2.553156275,
                        "test": [
                          0.8409213557
                        ]
                      },
                      {
                        "learn": [
                          0.8466942927
                        ],
                        "iteration": 42,
                        "passed_time": 0.1759362143,
                        "remaining_time": 2.540846258,
                        "test": [
                          0.8409209862
                        ]
                      },
                      {
                        "learn": [
                          0.846693528
                        ],
                        "iteration": 43,
                        "passed_time": 0.1793614317,
                        "remaining_time": 2.527365628,
                        "test": [
                          0.8409207398
                        ]
                      },
                      {
                        "learn": [
                          0.846693375
                        ],
                        "iteration": 44,
                        "passed_time": 0.1829287199,
                        "remaining_time": 2.51628617,
                        "test": [
                          0.8409206166
                        ]
                      },
                      {
                        "learn": [
                          0.8466931915
                        ],
                        "iteration": 45,
                        "passed_time": 0.1864284447,
                        "remaining_time": 2.504625627,
                        "test": [
                          0.8409201238
                        ]
                      },
                      {
                        "learn": [
                          0.8466916315
                        ],
                        "iteration": 46,
                        "passed_time": 0.1899028187,
                        "remaining_time": 2.492979556,
                        "test": [
                          0.8409191999
                        ]
                      },
                      {
                        "learn": [
                          0.8466907138
                        ],
                        "iteration": 47,
                        "passed_time": 0.1934774519,
                        "remaining_time": 2.482960632,
                        "test": [
                          0.840920093
                        ]
                      },
                      {
                        "learn": [
                          0.8466900409
                        ],
                        "iteration": 48,
                        "passed_time": 0.1968896753,
                        "remaining_time": 2.471166333,
                        "test": [
                          0.8409199082
                        ]
                      },
                      {
                        "learn": [
                          0.8466900409
                        ],
                        "iteration": 49,
                        "passed_time": 0.200402526,
                        "remaining_time": 2.460943019,
                        "test": [
                          0.8409196618
                        ]
                      },
                      {
                        "learn": [
                          0.8466900103
                        ],
                        "iteration": 50,
                        "passed_time": 0.2039130667,
                        "remaining_time": 2.450955095,
                        "test": [
                          0.8409197542
                        ]
                      },
                      {
                        "learn": [
                          0.8466898267
                        ],
                        "iteration": 51,
                        "passed_time": 0.2073960776,
                        "remaining_time": 2.440892297,
                        "test": [
                          0.8409197542
                        ]
                      },
                      {
                        "learn": [
                          0.8466894597
                        ],
                        "iteration": 52,
                        "passed_time": 0.2109664568,
                        "remaining_time": 2.432085002,
                        "test": [
                          0.8409196618
                        ]
                      },
                      {
                        "learn": [
                          0.846689215
                        ],
                        "iteration": 53,
                        "passed_time": 0.2144499627,
                        "remaining_time": 2.422490319,
                        "test": [
                          0.840919631
                        ]
                      },
                      {
                        "learn": [
                          0.8466889703
                        ],
                        "iteration": 54,
                        "passed_time": 0.2178929119,
                        "remaining_time": 2.412668788,
                        "test": [
                          0.8409199082
                        ]
                      },
                      {
                        "learn": [
                          0.8466885114
                        ],
                        "iteration": 55,
                        "passed_time": 0.2221656109,
                        "remaining_time": 2.412083775,
                        "test": [
                          0.8409209862
                        ]
                      },
                      {
                        "learn": [
                          0.8466884808
                        ],
                        "iteration": 56,
                        "passed_time": 0.227476908,
                        "remaining_time": 2.42242953,
                        "test": [
                          0.8409207706
                        ]
                      },
                      {
                        "learn": [
                          0.8466866455
                        ],
                        "iteration": 57,
                        "passed_time": 0.2322668971,
                        "remaining_time": 2.426788615,
                        "test": [
                          0.8409198158
                        ]
                      },
                      {
                        "learn": [
                          0.8466866761
                        ],
                        "iteration": 58,
                        "passed_time": 0.2391345647,
                        "remaining_time": 2.45214257,
                        "test": [
                          0.8409196618
                        ]
                      },
                      {
                        "learn": [
                          0.8466866455
                        ],
                        "iteration": 59,
                        "passed_time": 0.243365541,
                        "remaining_time": 2.449879779,
                        "test": [
                          0.840919785
                        ]
                      },
                      {
                        "learn": [
                          0.8466864314
                        ],
                        "iteration": 60,
                        "passed_time": 0.2512755817,
                        "remaining_time": 2.483920914,
                        "test": [
                          0.8409192923
                        ]
                      },
                      {
                        "learn": [
                          0.8466864314
                        ],
                        "iteration": 61,
                        "passed_time": 0.2555331348,
                        "remaining_time": 2.481144308,
                        "test": [
                          0.8409193231
                        ]
                      },
                      {
                        "learn": [
                          0.8466863396
                        ],
                        "iteration": 62,
                        "passed_time": 0.2587716465,
                        "remaining_time": 2.468599358,
                        "test": [
                          0.8409191383
                        ]
                      },
                      {
                        "learn": [
                          0.8466860032
                        ],
                        "iteration": 63,
                        "passed_time": 0.2620014453,
                        "remaining_time": 2.45626355,
                        "test": [
                          0.840919631
                        ]
                      },
                      {
                        "learn": [
                          0.846685789
                        ],
                        "iteration": 64,
                        "passed_time": 0.2652042893,
                        "remaining_time": 2.443959527,
                        "test": [
                          0.8409199698
                        ]
                      },
                      {
                        "learn": [
                          0.8466857279
                        ],
                        "iteration": 65,
                        "passed_time": 0.268307183,
                        "remaining_time": 2.431025689,
                        "test": [
                          0.8409201546
                        ]
                      },
                      {
                        "learn": [
                          0.8466856667
                        ],
                        "iteration": 66,
                        "passed_time": 0.2716713738,
                        "remaining_time": 2.420713584,
                        "test": [
                          0.8409198466
                        ]
                      },
                      {
                        "learn": [
                          0.8466855749
                        ],
                        "iteration": 67,
                        "passed_time": 0.2748152362,
                        "remaining_time": 2.408674718,
                        "test": [
                          0.8409197542
                        ]
                      },
                      {
                        "learn": [
                          0.8466854526
                        ],
                        "iteration": 68,
                        "passed_time": 0.2779529847,
                        "remaining_time": 2.396840955,
                        "test": [
                          0.8409199082
                        ]
                      },
                      {
                        "learn": [
                          0.8466845961
                        ],
                        "iteration": 69,
                        "passed_time": 0.2812264402,
                        "remaining_time": 2.386407221,
                        "test": [
                          0.8409201238
                        ]
                      },
                      {
                        "learn": [
                          0.8466828525
                        ],
                        "iteration": 70,
                        "passed_time": 0.2845153715,
                        "remaining_time": 2.376304441,
                        "test": [
                          0.8409187687
                        ]
                      },
                      {
                        "learn": [
                          0.8466822102
                        ],
                        "iteration": 71,
                        "passed_time": 0.2877641942,
                        "remaining_time": 2.366061152,
                        "test": [
                          0.8409188303
                        ]
                      },
                      {
                        "learn": [
                          0.8466810478
                        ],
                        "iteration": 72,
                        "passed_time": 0.2910628325,
                        "remaining_time": 2.356412794,
                        "test": [
                          0.8409181527
                        ]
                      },
                      {
                        "learn": [
                          0.8466798548
                        ],
                        "iteration": 73,
                        "passed_time": 0.2942567695,
                        "remaining_time": 2.346101271,
                        "test": [
                          0.8409169208
                        ]
                      },
                      {
                        "learn": [
                          0.8466797019
                        ],
                        "iteration": 74,
                        "passed_time": 0.2973783401,
                        "remaining_time": 2.335411231,
                        "test": [
                          0.8409165512
                        ]
                      },
                      {
                        "learn": [
                          0.8466790289
                        ],
                        "iteration": 75,
                        "passed_time": 0.3007062942,
                        "remaining_time": 2.326517118,
                        "test": [
                          0.8409172904
                        ]
                      },
                      {
                        "learn": [
                          0.8466786312
                        ],
                        "iteration": 76,
                        "passed_time": 0.3040256913,
                        "remaining_time": 2.317702348,
                        "test": [
                          0.8409168284
                        ]
                      },
                      {
                        "learn": [
                          0.8466778665
                        ],
                        "iteration": 77,
                        "passed_time": 0.3072996418,
                        "remaining_time": 2.308687052,
                        "test": [
                          0.8409159969
                        ]
                      },
                      {
                        "learn": [
                          0.8466769183
                        ],
                        "iteration": 78,
                        "passed_time": 0.3109328235,
                        "remaining_time": 2.302477238,
                        "test": [
                          0.8409155349
                        ]
                      },
                      {
                        "learn": [
                          0.8466767347
                        ],
                        "iteration": 79,
                        "passed_time": 0.3143617198,
                        "remaining_time": 2.294840555,
                        "test": [
                          0.8409155965
                        ]
                      },
                      {
                        "learn": [
                          0.8466760006
                        ],
                        "iteration": 80,
                        "passed_time": 0.3176158204,
                        "remaining_time": 2.286049671,
                        "test": [
                          0.8409156889
                        ]
                      },
                      {
                        "learn": [
                          0.8466756641
                        ],
                        "iteration": 81,
                        "passed_time": 0.3209503635,
                        "remaining_time": 2.277964775,
                        "test": [
                          0.8409152269
                        ]
                      },
                      {
                        "learn": [
                          0.8466750217
                        ],
                        "iteration": 82,
                        "passed_time": 0.3242466587,
                        "remaining_time": 2.269726611,
                        "test": [
                          0.8409158429
                        ]
                      },
                      {
                        "learn": [
                          0.8466745629
                        ],
                        "iteration": 83,
                        "passed_time": 0.3276054056,
                        "remaining_time": 2.262037324,
                        "test": [
                          0.8409160277
                        ]
                      },
                      {
                        "learn": [
                          0.846674257
                        ],
                        "iteration": 84,
                        "passed_time": 0.3308596962,
                        "remaining_time": 2.253738401,
                        "test": [
                          0.8409167052
                        ]
                      },
                      {
                        "learn": [
                          0.8466741652
                        ],
                        "iteration": 85,
                        "passed_time": 0.3340606622,
                        "remaining_time": 2.245198404,
                        "test": [
                          0.8409166744
                        ]
                      },
                      {
                        "learn": [
                          0.8466735535
                        ],
                        "iteration": 86,
                        "passed_time": 0.3372517803,
                        "remaining_time": 2.23671583,
                        "test": [
                          0.8409166128
                        ]
                      },
                      {
                        "learn": [
                          0.8466734311
                        ],
                        "iteration": 87,
                        "passed_time": 0.3407709919,
                        "remaining_time": 2.230501038,
                        "test": [
                          0.8409162125
                        ]
                      },
                      {
                        "learn": [
                          0.8466734617
                        ],
                        "iteration": 88,
                        "passed_time": 0.3438522538,
                        "remaining_time": 2.22151737,
                        "test": [
                          0.8409166744
                        ]
                      },
                      {
                        "learn": [
                          0.8466730946
                        ],
                        "iteration": 89,
                        "passed_time": 0.3470669237,
                        "remaining_time": 2.213515713,
                        "test": [
                          0.8409159045
                        ]
                      },
                      {
                        "learn": [
                          0.846672697
                        ],
                        "iteration": 90,
                        "passed_time": 0.3503717479,
                        "remaining_time": 2.20618694,
                        "test": [
                          0.8409163048
                        ]
                      },
                      {
                        "learn": [
                          0.8466720546
                        ],
                        "iteration": 91,
                        "passed_time": 0.3534890556,
                        "remaining_time": 2.19777978,
                        "test": [
                          0.8409167052
                        ]
                      },
                      {
                        "learn": [
                          0.8466719934
                        ],
                        "iteration": 92,
                        "passed_time": 0.3567150684,
                        "remaining_time": 2.190153807,
                        "test": [
                          0.8409166744
                        ]
                      },
                      {
                        "learn": [
                          0.8466717793
                        ],
                        "iteration": 93,
                        "passed_time": 0.3600747092,
                        "remaining_time": 2.183431747,
                        "test": [
                          0.8409167668
                        ]
                      },
                      {
                        "learn": [
                          0.8466716569
                        ],
                        "iteration": 94,
                        "passed_time": 0.3633621086,
                        "remaining_time": 2.176347787,
                        "test": [
                          0.8409166744
                        ]
                      },
                      {
                        "learn": [
                          0.8466715652
                        ],
                        "iteration": 95,
                        "passed_time": 0.3667238464,
                        "remaining_time": 2.169782758,
                        "test": [
                          0.8409163664
                        ]
                      },
                      {
                        "learn": [
                          0.8466715957
                        ],
                        "iteration": 96,
                        "passed_time": 0.3700996351,
                        "remaining_time": 2.163365908,
                        "test": [
                          0.8409161201
                        ]
                      },
                      {
                        "learn": [
                          0.8466705251
                        ],
                        "iteration": 97,
                        "passed_time": 0.3733711826,
                        "remaining_time": 2.156409075,
                        "test": [
                          0.840916582
                        ]
                      },
                      {
                        "learn": [
                          0.8466703416
                        ],
                        "iteration": 98,
                        "passed_time": 0.3766230182,
                        "remaining_time": 2.149414195,
                        "test": [
                          0.8409163664
                        ]
                      },
                      {
                        "learn": [
                          0.8466694239
                        ],
                        "iteration": 99,
                        "passed_time": 0.3799456663,
                        "remaining_time": 2.142893558,
                        "test": [
                          0.8409155965
                        ]
                      },
                      {
                        "learn": [
                          0.8466690262
                        ],
                        "iteration": 100,
                        "passed_time": 0.383179572,
                        "remaining_time": 2.135941575,
                        "test": [
                          0.8409158121
                        ]
                      },
                      {
                        "learn": [
                          0.8466687204
                        ],
                        "iteration": 101,
                        "passed_time": 0.3863995699,
                        "remaining_time": 2.128985866,
                        "test": [
                          0.8409152269
                        ]
                      },
                      {
                        "learn": [
                          0.8466685368
                        ],
                        "iteration": 102,
                        "passed_time": 0.3896896162,
                        "remaining_time": 2.122484221,
                        "test": [
                          0.8409154733
                        ]
                      },
                      {
                        "learn": [
                          0.8466682309
                        ],
                        "iteration": 103,
                        "passed_time": 0.3928228938,
                        "remaining_time": 2.115200197,
                        "test": [
                          0.8409149497
                        ]
                      },
                      {
                        "learn": [
                          0.8466677415
                        ],
                        "iteration": 104,
                        "passed_time": 0.3960086229,
                        "remaining_time": 2.108274478,
                        "test": [
                          0.8409145493
                        ]
                      },
                      {
                        "learn": [
                          0.8466677109
                        ],
                        "iteration": 105,
                        "passed_time": 0.3992997842,
                        "remaining_time": 2.101974336,
                        "test": [
                          0.8409144877
                        ]
                      },
                      {
                        "learn": [
                          0.8466675885
                        ],
                        "iteration": 106,
                        "passed_time": 0.4023847951,
                        "remaining_time": 2.094657298,
                        "test": [
                          0.8409137486
                        ]
                      },
                      {
                        "learn": [
                          0.8466666097
                        ],
                        "iteration": 107,
                        "passed_time": 0.4055582383,
                        "remaining_time": 2.087873894,
                        "test": [
                          0.8409145493
                        ]
                      },
                      {
                        "learn": [
                          0.8466666097
                        ],
                        "iteration": 108,
                        "passed_time": 0.4087571213,
                        "remaining_time": 2.08128626,
                        "test": [
                          0.8409144262
                        ]
                      },
                      {
                        "learn": [
                          0.8466665485
                        ],
                        "iteration": 109,
                        "passed_time": 0.4118837989,
                        "remaining_time": 2.074396587,
                        "test": [
                          0.8409143338
                        ]
                      },
                      {
                        "learn": [
                          0.8466662732
                        ],
                        "iteration": 110,
                        "passed_time": 0.4149537219,
                        "remaining_time": 2.067291966,
                        "test": [
                          0.8409134098
                        ]
                      },
                      {
                        "learn": [
                          0.8466659061
                        ],
                        "iteration": 111,
                        "passed_time": 0.4181798707,
                        "remaining_time": 2.061029363,
                        "test": [
                          0.8409135946
                        ]
                      },
                      {
                        "learn": [
                          0.8466659979
                        ],
                        "iteration": 112,
                        "passed_time": 0.4213154632,
                        "remaining_time": 2.05437894,
                        "test": [
                          0.8409136562
                        ]
                      },
                      {
                        "learn": [
                          0.846665172
                        ],
                        "iteration": 113,
                        "passed_time": 0.4244966614,
                        "remaining_time": 2.048010208,
                        "test": [
                          0.840913379
                        ]
                      },
                      {
                        "learn": [
                          0.8466649579
                        ],
                        "iteration": 114,
                        "passed_time": 0.4275056818,
                        "remaining_time": 2.040874951,
                        "test": [
                          0.840913533
                        ]
                      },
                      {
                        "learn": [
                          0.8466647743
                        ],
                        "iteration": 115,
                        "passed_time": 0.4306566762,
                        "remaining_time": 2.034481539,
                        "test": [
                          0.8409139026
                        ]
                      },
                      {
                        "learn": [
                          0.8466645602
                        ],
                        "iteration": 116,
                        "passed_time": 0.4335464615,
                        "remaining_time": 2.026922346,
                        "test": [
                          0.840913841
                        ]
                      },
                      {
                        "learn": [
                          0.8466642543
                        ],
                        "iteration": 117,
                        "passed_time": 0.4364490218,
                        "remaining_time": 2.019501406,
                        "test": [
                          0.8409141182
                        ]
                      },
                      {
                        "learn": [
                          0.8466641319
                        ],
                        "iteration": 118,
                        "passed_time": 0.4394359494,
                        "remaining_time": 2.012542793,
                        "test": [
                          0.840914303
                        ]
                      },
                      {
                        "learn": [
                          0.8466641013
                        ],
                        "iteration": 119,
                        "passed_time": 0.4423275797,
                        "remaining_time": 2.005218361,
                        "test": [
                          0.8409143646
                        ]
                      },
                      {
                        "learn": [
                          0.8466632754
                        ],
                        "iteration": 120,
                        "passed_time": 0.4451935042,
                        "remaining_time": 1.997851841,
                        "test": [
                          0.8409147957
                        ]
                      },
                      {
                        "learn": [
                          0.8466626331
                        ],
                        "iteration": 121,
                        "passed_time": 0.448292079,
                        "remaining_time": 1.991592679,
                        "test": [
                          0.8409142722
                        ]
                      },
                      {
                        "learn": [
                          0.8466625413
                        ],
                        "iteration": 122,
                        "passed_time": 0.4512522688,
                        "remaining_time": 1.984776239,
                        "test": [
                          0.8409145493
                        ]
                      },
                      {
                        "learn": [
                          0.8466621436
                        ],
                        "iteration": 123,
                        "passed_time": 0.4541583331,
                        "remaining_time": 1.977786289,
                        "test": [
                          0.8409141182
                        ]
                      },
                      {
                        "learn": [
                          0.8466619295
                        ],
                        "iteration": 124,
                        "passed_time": 0.4571174849,
                        "remaining_time": 1.971090595,
                        "test": [
                          0.8409140874
                        ]
                      },
                      {
                        "learn": [
                          0.8466616542
                        ],
                        "iteration": 125,
                        "passed_time": 0.4600499469,
                        "remaining_time": 1.964340249,
                        "test": [
                          0.8409146417
                        ]
                      },
                      {
                        "learn": [
                          0.8466610424
                        ],
                        "iteration": 126,
                        "passed_time": 0.4629955808,
                        "remaining_time": 1.957705724,
                        "test": [
                          0.8409137178
                        ]
                      },
                      {
                        "learn": [
                          0.8466609812
                        ],
                        "iteration": 127,
                        "passed_time": 0.4658991891,
                        "remaining_time": 1.950952854,
                        "test": [
                          0.8409135946
                        ]
                      },
                      {
                        "learn": [
                          0.8466608894
                        ],
                        "iteration": 128,
                        "passed_time": 0.4688702058,
                        "remaining_time": 1.944539226,
                        "test": [
                          0.8409135946
                        ]
                      },
                      {
                        "learn": [
                          0.8466608894
                        ],
                        "iteration": 129,
                        "passed_time": 0.4717026836,
                        "remaining_time": 1.937609485,
                        "test": [
                          0.8409135638
                        ]
                      },
                      {
                        "learn": [
                          0.8466607671
                        ],
                        "iteration": 130,
                        "passed_time": 0.4746359576,
                        "remaining_time": 1.931152408,
                        "test": [
                          0.8409133482
                        ]
                      },
                      {
                        "learn": [
                          0.8466604918
                        ],
                        "iteration": 131,
                        "passed_time": 0.4778983751,
                        "remaining_time": 1.926075269,
                        "test": [
                          0.840913225
                        ]
                      },
                      {
                        "learn": [
                          0.8466604306
                        ],
                        "iteration": 132,
                        "passed_time": 0.4807877915,
                        "remaining_time": 1.91953622,
                        "test": [
                          0.8409129786
                        ]
                      },
                      {
                        "learn": [
                          0.8466603082
                        ],
                        "iteration": 133,
                        "passed_time": 0.4837252184,
                        "remaining_time": 1.913241536,
                        "test": [
                          0.8409131634
                        ]
                      },
                      {
                        "learn": [
                          0.8466601859
                        ],
                        "iteration": 134,
                        "passed_time": 0.4866591335,
                        "remaining_time": 1.906982827,
                        "test": [
                          0.8409126706
                        ]
                      },
                      {
                        "learn": [
                          0.8466598188
                        ],
                        "iteration": 135,
                        "passed_time": 0.4895783106,
                        "remaining_time": 1.900715794,
                        "test": [
                          0.8409128862
                        ]
                      },
                      {
                        "learn": [
                          0.84665988
                        ],
                        "iteration": 136,
                        "passed_time": 0.4924373561,
                        "remaining_time": 1.894266326,
                        "test": [
                          0.8409127014
                        ]
                      },
                      {
                        "learn": [
                          0.8466598188
                        ],
                        "iteration": 137,
                        "passed_time": 0.4953229415,
                        "remaining_time": 1.887970052,
                        "test": [
                          0.8409128554
                        ]
                      },
                      {
                        "learn": [
                          0.8466596353
                        ],
                        "iteration": 138,
                        "passed_time": 0.498328919,
                        "remaining_time": 1.882177572,
                        "test": [
                          0.8409131634
                        ]
                      },
                      {
                        "learn": [
                          0.8466592682
                        ],
                        "iteration": 139,
                        "passed_time": 0.5012138324,
                        "remaining_time": 1.875971773,
                        "test": [
                          0.8409131942
                        ]
                      },
                      {
                        "learn": [
                          0.8466592988
                        ],
                        "iteration": 140,
                        "passed_time": 0.5041098887,
                        "remaining_time": 1.86985441,
                        "test": [
                          0.840913379
                        ]
                      },
                      {
                        "learn": [
                          0.8466591458
                        ],
                        "iteration": 141,
                        "passed_time": 0.5071422689,
                        "remaining_time": 1.864283552,
                        "test": [
                          0.8409131326
                        ]
                      },
                      {
                        "learn": [
                          0.8466587788
                        ],
                        "iteration": 142,
                        "passed_time": 0.5101030937,
                        "remaining_time": 1.858487495,
                        "test": [
                          0.8409124243
                        ]
                      },
                      {
                        "learn": [
                          0.8466581058
                        ],
                        "iteration": 143,
                        "passed_time": 0.5130318038,
                        "remaining_time": 1.852614847,
                        "test": [
                          0.8409118391
                        ]
                      },
                      {
                        "learn": [
                          0.8466579528
                        ],
                        "iteration": 144,
                        "passed_time": 0.5159292981,
                        "remaining_time": 1.846671074,
                        "test": [
                          0.8409119007
                        ]
                      },
                      {
                        "learn": [
                          0.8466579528
                        ],
                        "iteration": 145,
                        "passed_time": 0.51887544,
                        "remaining_time": 1.84094163,
                        "test": [
                          0.8409118391
                        ]
                      },
                      {
                        "learn": [
                          0.8466577387
                        ],
                        "iteration": 146,
                        "passed_time": 0.5217834992,
                        "remaining_time": 1.835116116,
                        "test": [
                          0.8409124859
                        ]
                      },
                      {
                        "learn": [
                          0.8466570963
                        ],
                        "iteration": 147,
                        "passed_time": 0.5246937864,
                        "remaining_time": 1.829337796,
                        "test": [
                          0.8409120855
                        ]
                      },
                      {
                        "learn": [
                          0.8466567904
                        ],
                        "iteration": 148,
                        "passed_time": 0.5276486602,
                        "remaining_time": 1.823752081,
                        "test": [
                          0.8409117775
                        ]
                      },
                      {
                        "learn": [
                          0.8466566987
                        ],
                        "iteration": 149,
                        "passed_time": 0.5306006711,
                        "remaining_time": 1.818191633,
                        "test": [
                          0.8409117775
                        ]
                      },
                      {
                        "learn": [
                          0.8466565763
                        ],
                        "iteration": 150,
                        "passed_time": 0.5335396711,
                        "remaining_time": 1.812621532,
                        "test": [
                          0.8409125167
                        ]
                      },
                      {
                        "learn": [
                          0.8466563622
                        ],
                        "iteration": 151,
                        "passed_time": 0.5364683381,
                        "remaining_time": 1.807051244,
                        "test": [
                          0.8409127322
                        ]
                      },
                      {
                        "learn": [
                          0.8466561786
                        ],
                        "iteration": 152,
                        "passed_time": 0.5393876783,
                        "remaining_time": 1.801484337,
                        "test": [
                          0.8409130094
                        ]
                      },
                      {
                        "learn": [
                          0.8466558421
                        ],
                        "iteration": 153,
                        "passed_time": 0.5422315639,
                        "remaining_time": 1.795701933,
                        "test": [
                          0.840913533
                        ]
                      },
                      {
                        "learn": [
                          0.8466557198
                        ],
                        "iteration": 154,
                        "passed_time": 0.5452136726,
                        "remaining_time": 1.790411351,
                        "test": [
                          0.8409135946
                        ]
                      },
                      {
                        "learn": [
                          0.8466553527
                        ],
                        "iteration": 155,
                        "passed_time": 0.5481297517,
                        "remaining_time": 1.784935345,
                        "test": [
                          0.8409134714
                        ]
                      },
                      {
                        "learn": [
                          0.8466550162
                        ],
                        "iteration": 156,
                        "passed_time": 0.5510371559,
                        "remaining_time": 1.779463937,
                        "test": [
                          0.8409141798
                        ]
                      },
                      {
                        "learn": [
                          0.8466548633
                        ],
                        "iteration": 157,
                        "passed_time": 0.5539570671,
                        "remaining_time": 1.774065038,
                        "test": [
                          0.8409141182
                        ]
                      },
                      {
                        "learn": [
                          0.8466541597
                        ],
                        "iteration": 158,
                        "passed_time": 0.5569076579,
                        "remaining_time": 1.768794763,
                        "test": [
                          0.8409145493
                        ]
                      },
                      {
                        "learn": [
                          0.8466538232
                        ],
                        "iteration": 159,
                        "passed_time": 0.5597821864,
                        "remaining_time": 1.763313887,
                        "test": [
                          0.8409151037
                        ]
                      },
                      {
                        "learn": [
                          0.8466536397
                        ],
                        "iteration": 160,
                        "passed_time": 0.5626547089,
                        "remaining_time": 1.757859121,
                        "test": [
                          0.8409152885
                        ]
                      },
                      {
                        "learn": [
                          0.8466535173
                        ],
                        "iteration": 161,
                        "passed_time": 0.5656657783,
                        "remaining_time": 1.75286556,
                        "test": [
                          0.8409151961
                        ]
                      },
                      {
                        "learn": [
                          0.8466533338
                        ],
                        "iteration": 162,
                        "passed_time": 0.5686336651,
                        "remaining_time": 1.747763596,
                        "test": [
                          0.8409157197
                        ]
                      },
                      {
                        "learn": [
                          0.8466529667
                        ],
                        "iteration": 163,
                        "passed_time": 0.5715227614,
                        "remaining_time": 1.742447443,
                        "test": [
                          0.8409164588
                        ]
                      },
                      {
                        "learn": [
                          0.8466525078
                        ],
                        "iteration": 164,
                        "passed_time": 0.574371177,
                        "remaining_time": 1.737037681,
                        "test": [
                          0.8409162125
                        ]
                      },
                      {
                        "learn": [
                          0.8466520184
                        ],
                        "iteration": 165,
                        "passed_time": 0.5774838737,
                        "remaining_time": 1.732451621,
                        "test": [
                          0.8409159353
                        ]
                      },
                      {
                        "learn": [
                          0.8466519266
                        ],
                        "iteration": 166,
                        "passed_time": 0.5803708891,
                        "remaining_time": 1.727211568,
                        "test": [
                          0.8409159045
                        ]
                      },
                      {
                        "learn": [
                          0.846651896
                        ],
                        "iteration": 167,
                        "passed_time": 0.5833063491,
                        "remaining_time": 1.722142554,
                        "test": [
                          0.8409155041
                        ]
                      },
                      {
                        "learn": [
                          0.8466519572
                        ],
                        "iteration": 168,
                        "passed_time": 0.5863072106,
                        "remaining_time": 1.717290351,
                        "test": [
                          0.8409159045
                        ]
                      },
                      {
                        "learn": [
                          0.8466516513
                        ],
                        "iteration": 169,
                        "passed_time": 0.5892560725,
                        "remaining_time": 1.712308822,
                        "test": [
                          0.8409155041
                        ]
                      },
                      {
                        "learn": [
                          0.846651376
                        ],
                        "iteration": 170,
                        "passed_time": 0.5921726086,
                        "remaining_time": 1.707257872,
                        "test": [
                          0.8409153501
                        ]
                      },
                      {
                        "learn": [
                          0.8466512537
                        ],
                        "iteration": 171,
                        "passed_time": 0.5952116198,
                        "remaining_time": 1.702582075,
                        "test": [
                          0.8409154425
                        ]
                      },
                      {
                        "learn": [
                          0.8466511925
                        ],
                        "iteration": 172,
                        "passed_time": 0.5981668497,
                        "remaining_time": 1.697687417,
                        "test": [
                          0.8409159969
                        ]
                      },
                      {
                        "learn": [
                          0.8466511619
                        ],
                        "iteration": 173,
                        "passed_time": 0.601467431,
                        "remaining_time": 1.693787593,
                        "test": [
                          0.8409159045
                        ]
                      },
                      {
                        "learn": [
                          0.846650336
                        ],
                        "iteration": 174,
                        "passed_time": 0.604401015,
                        "remaining_time": 1.688869122,
                        "test": [
                          0.840917198
                        ]
                      },
                      {
                        "learn": [
                          0.8466499077
                        ],
                        "iteration": 175,
                        "passed_time": 0.607332077,
                        "remaining_time": 1.683966214,
                        "test": [
                          0.8409182759
                        ]
                      }
                    ],
                    "meta": {
                      "test_sets": [
                        "test"
                      ],
                      "test_metrics": [
                        {
                          "best_value": "Min",
                          "name": "RMSE"
                        }
                      ],
                      "learn_metrics": [
                        {
                          "best_value": "Min",
                          "name": "RMSE"
                        }
                      ],
                      "launch_mode": "Train",
                      "parameters": "",
                      "iteration_count": 664,
                      "learn_sets": [
                        "learn"
                      ],
                      "name": "experiment"
                    }
                  }
                }
              }
            },
            "layout": "IPY_MODEL_70fce4b4cec84823a517b23c670242ba"
          }
        }
      }
    }
  },
  "nbformat": 4,
  "nbformat_minor": 0
}